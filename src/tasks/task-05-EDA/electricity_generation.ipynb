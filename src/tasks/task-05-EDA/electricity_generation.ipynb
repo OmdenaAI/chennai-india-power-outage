{
 "cells": [
  {
   "cell_type": "markdown",
   "id": "df9e129e",
   "metadata": {},
   "source": [
    "# Electricity Generation\n",
    "#### By: Samuel Duah Boadi"
   ]
  },
  {
   "cell_type": "markdown",
   "id": "ab48e76c",
   "metadata": {},
   "source": [
    "## Introduction\n",
    "\n",
    "This cleaned [datasets](https://github.com/OmdenaAI/chennai-india-power-outage/blob/main/src/data/cleaned%20data/electricity_generation_consolidated_supply_only.csv) was loaded into this notebook to analyse the electricity generation consolidated supply.\n",
    "\n",
    "The dataset has 504 observations with four attributes.\n",
    "\n",
    "Meaning of Abbreviation\n",
    "* MU - Million Unit (unit of energy)"
   ]
  },
  {
   "cell_type": "code",
   "execution_count": 1,
   "id": "1feef3a3",
   "metadata": {},
   "outputs": [],
   "source": [
    "# import all packages and set plots to be embedded inline\n",
    "import numpy as np\n",
    "import pandas as pd\n",
    "import matplotlib.pyplot as plt\n",
    "import seaborn as sb\n",
    "\n",
    "%matplotlib inline"
   ]
  },
  {
   "cell_type": "code",
   "execution_count": 2,
   "id": "4545796b",
   "metadata": {},
   "outputs": [],
   "source": [
    "# load the three datasets\n",
    "df = pd.read_csv('data/electricity_generation_consolidated_supply_only.csv')"
   ]
  },
  {
   "cell_type": "markdown",
   "id": "5e17b2f9",
   "metadata": {},
   "source": [
    "## Assessing Data"
   ]
  },
  {
   "cell_type": "code",
   "execution_count": 3,
   "id": "9de9e5b9",
   "metadata": {
    "scrolled": false
   },
   "outputs": [
    {
     "name": "stdout",
     "output_type": "stream",
     "text": [
      "(507, 4)\n"
     ]
    },
    {
     "data": {
      "text/html": [
       "<div>\n",
       "<style scoped>\n",
       "    .dataframe tbody tr th:only-of-type {\n",
       "        vertical-align: middle;\n",
       "    }\n",
       "\n",
       "    .dataframe tbody tr th {\n",
       "        vertical-align: top;\n",
       "    }\n",
       "\n",
       "    .dataframe thead th {\n",
       "        text-align: right;\n",
       "    }\n",
       "</style>\n",
       "<table border=\"1\" class=\"dataframe\">\n",
       "  <thead>\n",
       "    <tr style=\"text-align: right;\">\n",
       "      <th></th>\n",
       "      <th>Type</th>\n",
       "      <th>Name</th>\n",
       "      <th>Net Generation(M.U)</th>\n",
       "      <th>Year</th>\n",
       "    </tr>\n",
       "  </thead>\n",
       "  <tbody>\n",
       "    <tr>\n",
       "      <th>0</th>\n",
       "      <td>Gas</td>\n",
       "      <td>Basin Bridge</td>\n",
       "      <td>79.16</td>\n",
       "      <td>2010</td>\n",
       "    </tr>\n",
       "    <tr>\n",
       "      <th>1</th>\n",
       "      <td>Gas</td>\n",
       "      <td>Kovil Kalappal</td>\n",
       "      <td>487.20</td>\n",
       "      <td>2010</td>\n",
       "    </tr>\n",
       "    <tr>\n",
       "      <th>2</th>\n",
       "      <td>Gas</td>\n",
       "      <td>Vazhuthur I &amp; II</td>\n",
       "      <td>1008.89</td>\n",
       "      <td>2010</td>\n",
       "    </tr>\n",
       "    <tr>\n",
       "      <th>3</th>\n",
       "      <td>Gas</td>\n",
       "      <td>Kutralam</td>\n",
       "      <td>602.78</td>\n",
       "      <td>2010</td>\n",
       "    </tr>\n",
       "    <tr>\n",
       "      <th>4</th>\n",
       "      <td>Gas</td>\n",
       "      <td>Wind Mill</td>\n",
       "      <td>11.09</td>\n",
       "      <td>2010</td>\n",
       "    </tr>\n",
       "  </tbody>\n",
       "</table>\n",
       "</div>"
      ],
      "text/plain": [
       "  Type              Name  Net Generation(M.U)  Year\n",
       "0  Gas      Basin Bridge                79.16  2010\n",
       "1  Gas    Kovil Kalappal               487.20  2010\n",
       "2  Gas  Vazhuthur I & II              1008.89  2010\n",
       "3  Gas          Kutralam               602.78  2010\n",
       "4  Gas         Wind Mill                11.09  2010"
      ]
     },
     "execution_count": 3,
     "metadata": {},
     "output_type": "execute_result"
    }
   ],
   "source": [
    "print(df.shape)\n",
    "df.head()"
   ]
  },
  {
   "cell_type": "code",
   "execution_count": 4,
   "id": "98ec2ff0",
   "metadata": {},
   "outputs": [
    {
     "name": "stdout",
     "output_type": "stream",
     "text": [
      "<class 'pandas.core.frame.DataFrame'>\n",
      "RangeIndex: 507 entries, 0 to 506\n",
      "Data columns (total 4 columns):\n",
      " #   Column               Non-Null Count  Dtype  \n",
      "---  ------               --------------  -----  \n",
      " 0   Type                 507 non-null    object \n",
      " 1   Name                 507 non-null    object \n",
      " 2   Net Generation(M.U)  489 non-null    float64\n",
      " 3   Year                 507 non-null    int64  \n",
      "dtypes: float64(1), int64(1), object(2)\n",
      "memory usage: 16.0+ KB\n"
     ]
    }
   ],
   "source": [
    "df.info()"
   ]
  },
  {
   "cell_type": "code",
   "execution_count": 5,
   "id": "6ea4e780",
   "metadata": {
    "scrolled": true
   },
   "outputs": [
    {
     "data": {
      "text/html": [
       "<div>\n",
       "<style scoped>\n",
       "    .dataframe tbody tr th:only-of-type {\n",
       "        vertical-align: middle;\n",
       "    }\n",
       "\n",
       "    .dataframe tbody tr th {\n",
       "        vertical-align: top;\n",
       "    }\n",
       "\n",
       "    .dataframe thead th {\n",
       "        text-align: right;\n",
       "    }\n",
       "</style>\n",
       "<table border=\"1\" class=\"dataframe\">\n",
       "  <thead>\n",
       "    <tr style=\"text-align: right;\">\n",
       "      <th></th>\n",
       "      <th>Net Generation(M.U)</th>\n",
       "      <th>Year</th>\n",
       "    </tr>\n",
       "  </thead>\n",
       "  <tbody>\n",
       "    <tr>\n",
       "      <th>count</th>\n",
       "      <td>489.000000</td>\n",
       "      <td>507.000000</td>\n",
       "    </tr>\n",
       "    <tr>\n",
       "      <th>mean</th>\n",
       "      <td>552.352741</td>\n",
       "      <td>2015.605523</td>\n",
       "    </tr>\n",
       "    <tr>\n",
       "      <th>std</th>\n",
       "      <td>1581.153491</td>\n",
       "      <td>3.722356</td>\n",
       "    </tr>\n",
       "    <tr>\n",
       "      <th>min</th>\n",
       "      <td>-2.601000</td>\n",
       "      <td>2010.000000</td>\n",
       "    </tr>\n",
       "    <tr>\n",
       "      <th>25%</th>\n",
       "      <td>18.925000</td>\n",
       "      <td>2012.000000</td>\n",
       "    </tr>\n",
       "    <tr>\n",
       "      <th>50%</th>\n",
       "      <td>80.070000</td>\n",
       "      <td>2016.000000</td>\n",
       "    </tr>\n",
       "    <tr>\n",
       "      <th>75%</th>\n",
       "      <td>272.012000</td>\n",
       "      <td>2019.000000</td>\n",
       "    </tr>\n",
       "    <tr>\n",
       "      <th>max</th>\n",
       "      <td>18548.700000</td>\n",
       "      <td>2022.000000</td>\n",
       "    </tr>\n",
       "  </tbody>\n",
       "</table>\n",
       "</div>"
      ],
      "text/plain": [
       "       Net Generation(M.U)         Year\n",
       "count           489.000000   507.000000\n",
       "mean            552.352741  2015.605523\n",
       "std            1581.153491     3.722356\n",
       "min              -2.601000  2010.000000\n",
       "25%              18.925000  2012.000000\n",
       "50%              80.070000  2016.000000\n",
       "75%             272.012000  2019.000000\n",
       "max           18548.700000  2022.000000"
      ]
     },
     "execution_count": 5,
     "metadata": {},
     "output_type": "execute_result"
    }
   ],
   "source": [
    "df.describe()"
   ]
  },
  {
   "cell_type": "code",
   "execution_count": 6,
   "id": "2bcdc8ee",
   "metadata": {},
   "outputs": [
    {
     "data": {
      "text/plain": [
       "Hydro                404\n",
       "Gas                   55\n",
       "Thermal               46\n",
       "Wind Mill + Solar      2\n",
       "Name: Type, dtype: int64"
      ]
     },
     "execution_count": 6,
     "metadata": {},
     "output_type": "execute_result"
    }
   ],
   "source": [
    "df['Type'].value_counts()"
   ]
  },
  {
   "cell_type": "code",
   "execution_count": 7,
   "id": "5148efc7",
   "metadata": {},
   "outputs": [
    {
     "data": {
      "text/plain": [
       "Periyar                              11\n",
       "Kovil Kalappal                       11\n",
       "Kadamparai                           11\n",
       "Pykara                               11\n",
       "Aliyar                               11\n",
       "                                     ..\n",
       "NCTPS Stage-II (Infirm)               1\n",
       "Total Hydro                           1\n",
       "Periyar Vaigai Micro Hydel I & II     1\n",
       "Bhavani Kattalai PH – 2               1\n",
       "Stage - II                            1\n",
       "Name: Name, Length: 140, dtype: int64"
      ]
     },
     "execution_count": 7,
     "metadata": {},
     "output_type": "execute_result"
    }
   ],
   "source": [
    "df['Name'].value_counts()"
   ]
  },
  {
   "cell_type": "code",
   "execution_count": 8,
   "id": "7db0b4ab",
   "metadata": {
    "scrolled": false
   },
   "outputs": [
    {
     "data": {
      "text/html": [
       "<div>\n",
       "<style scoped>\n",
       "    .dataframe tbody tr th:only-of-type {\n",
       "        vertical-align: middle;\n",
       "    }\n",
       "\n",
       "    .dataframe tbody tr th {\n",
       "        vertical-align: top;\n",
       "    }\n",
       "\n",
       "    .dataframe thead th {\n",
       "        text-align: right;\n",
       "    }\n",
       "</style>\n",
       "<table border=\"1\" class=\"dataframe\">\n",
       "  <thead>\n",
       "    <tr style=\"text-align: right;\">\n",
       "      <th></th>\n",
       "      <th>Type</th>\n",
       "      <th>Name</th>\n",
       "      <th>Net Generation(M.U)</th>\n",
       "      <th>Year</th>\n",
       "    </tr>\n",
       "  </thead>\n",
       "  <tbody>\n",
       "    <tr>\n",
       "      <th>104</th>\n",
       "      <td>Gas</td>\n",
       "      <td>Wind Mill + Solar</td>\n",
       "      <td>NaN</td>\n",
       "      <td>2012</td>\n",
       "    </tr>\n",
       "    <tr>\n",
       "      <th>124</th>\n",
       "      <td>Hydro</td>\n",
       "      <td>Bhavani Kattalai PH - 2</td>\n",
       "      <td>NaN</td>\n",
       "      <td>2012</td>\n",
       "    </tr>\n",
       "    <tr>\n",
       "      <th>176</th>\n",
       "      <td>Hydro</td>\n",
       "      <td>Bhavani Kattalai PH – 2</td>\n",
       "      <td>NaN</td>\n",
       "      <td>2013</td>\n",
       "    </tr>\n",
       "    <tr>\n",
       "      <th>204</th>\n",
       "      <td>Thermal</td>\n",
       "      <td>NCTPS Stage-II (Infirm)</td>\n",
       "      <td>NaN</td>\n",
       "      <td>2013</td>\n",
       "    </tr>\n",
       "    <tr>\n",
       "      <th>205</th>\n",
       "      <td>Thermal</td>\n",
       "      <td>NCTPS Stage-III (Infirm)</td>\n",
       "      <td>NaN</td>\n",
       "      <td>2013</td>\n",
       "    </tr>\n",
       "    <tr>\n",
       "      <th>210</th>\n",
       "      <td>Gas</td>\n",
       "      <td>Valuthur Phase II</td>\n",
       "      <td>NaN</td>\n",
       "      <td>2016</td>\n",
       "    </tr>\n",
       "    <tr>\n",
       "      <th>230</th>\n",
       "      <td>Hydro</td>\n",
       "      <td>Bhavani Kattalai PH-2</td>\n",
       "      <td>NaN</td>\n",
       "      <td>2016</td>\n",
       "    </tr>\n",
       "    <tr>\n",
       "      <th>231</th>\n",
       "      <td>Hydro</td>\n",
       "      <td>Bhavani Kattalai PH-3</td>\n",
       "      <td>NaN</td>\n",
       "      <td>2016</td>\n",
       "    </tr>\n",
       "    <tr>\n",
       "      <th>232</th>\n",
       "      <td>Hydro</td>\n",
       "      <td>Bhavani Barrage 2 PH</td>\n",
       "      <td>NaN</td>\n",
       "      <td>2016</td>\n",
       "    </tr>\n",
       "    <tr>\n",
       "      <th>233</th>\n",
       "      <td>Hydro</td>\n",
       "      <td>Bhavani Barrage 2 PH</td>\n",
       "      <td>NaN</td>\n",
       "      <td>2016</td>\n",
       "    </tr>\n",
       "    <tr>\n",
       "      <th>262</th>\n",
       "      <td>Wind Mill + Solar</td>\n",
       "      <td>TNEB</td>\n",
       "      <td>NaN</td>\n",
       "      <td>2016</td>\n",
       "    </tr>\n",
       "    <tr>\n",
       "      <th>287</th>\n",
       "      <td>Hydro</td>\n",
       "      <td>Bhavani Kattalai PH-2</td>\n",
       "      <td>NaN</td>\n",
       "      <td>2017</td>\n",
       "    </tr>\n",
       "    <tr>\n",
       "      <th>288</th>\n",
       "      <td>Hydro</td>\n",
       "      <td>Bhavani Kattalai PH-3</td>\n",
       "      <td>NaN</td>\n",
       "      <td>2017</td>\n",
       "    </tr>\n",
       "    <tr>\n",
       "      <th>342</th>\n",
       "      <td>Hydro</td>\n",
       "      <td>Bhavani Barrage 2 PH</td>\n",
       "      <td>NaN</td>\n",
       "      <td>2018</td>\n",
       "    </tr>\n",
       "    <tr>\n",
       "      <th>343</th>\n",
       "      <td>Hydro</td>\n",
       "      <td>Bhavani Barrage PH</td>\n",
       "      <td>NaN</td>\n",
       "      <td>2018</td>\n",
       "    </tr>\n",
       "    <tr>\n",
       "      <th>366</th>\n",
       "      <td>Thermal</td>\n",
       "      <td>Ennore TPS</td>\n",
       "      <td>NaN</td>\n",
       "      <td>2018</td>\n",
       "    </tr>\n",
       "    <tr>\n",
       "      <th>378</th>\n",
       "      <td>Gas</td>\n",
       "      <td>Wind Mill + Solar</td>\n",
       "      <td>NaN</td>\n",
       "      <td>2019</td>\n",
       "    </tr>\n",
       "    <tr>\n",
       "      <th>424</th>\n",
       "      <td>Thermal</td>\n",
       "      <td>Ennore TPS (Permanently under shut down from 3...</td>\n",
       "      <td>NaN</td>\n",
       "      <td>2019</td>\n",
       "    </tr>\n",
       "  </tbody>\n",
       "</table>\n",
       "</div>"
      ],
      "text/plain": [
       "                  Type                                               Name  \\\n",
       "104                Gas                                  Wind Mill + Solar   \n",
       "124              Hydro                            Bhavani Kattalai PH - 2   \n",
       "176              Hydro                            Bhavani Kattalai PH – 2   \n",
       "204            Thermal                           NCTPS Stage-II (Infirm)    \n",
       "205            Thermal                          NCTPS Stage-III (Infirm)    \n",
       "210                Gas                                  Valuthur Phase II   \n",
       "230              Hydro                              Bhavani Kattalai PH-2   \n",
       "231              Hydro                              Bhavani Kattalai PH-3   \n",
       "232              Hydro                               Bhavani Barrage 2 PH   \n",
       "233              Hydro                               Bhavani Barrage 2 PH   \n",
       "262  Wind Mill + Solar                                               TNEB   \n",
       "287              Hydro                              Bhavani Kattalai PH-2   \n",
       "288              Hydro                              Bhavani Kattalai PH-3   \n",
       "342              Hydro                               Bhavani Barrage 2 PH   \n",
       "343              Hydro                                 Bhavani Barrage PH   \n",
       "366            Thermal                                         Ennore TPS   \n",
       "378                Gas                                  Wind Mill + Solar   \n",
       "424            Thermal  Ennore TPS (Permanently under shut down from 3...   \n",
       "\n",
       "     Net Generation(M.U)  Year  \n",
       "104                  NaN  2012  \n",
       "124                  NaN  2012  \n",
       "176                  NaN  2013  \n",
       "204                  NaN  2013  \n",
       "205                  NaN  2013  \n",
       "210                  NaN  2016  \n",
       "230                  NaN  2016  \n",
       "231                  NaN  2016  \n",
       "232                  NaN  2016  \n",
       "233                  NaN  2016  \n",
       "262                  NaN  2016  \n",
       "287                  NaN  2017  \n",
       "288                  NaN  2017  \n",
       "342                  NaN  2018  \n",
       "343                  NaN  2018  \n",
       "366                  NaN  2018  \n",
       "378                  NaN  2019  \n",
       "424                  NaN  2019  "
      ]
     },
     "execution_count": 8,
     "metadata": {},
     "output_type": "execute_result"
    }
   ],
   "source": [
    "df[df['Net Generation(M.U)'].isna()]"
   ]
  },
  {
   "cell_type": "code",
   "execution_count": 9,
   "id": "99652980",
   "metadata": {},
   "outputs": [],
   "source": [
    "# remove null values\n",
    "df.dropna(inplace=True)"
   ]
  },
  {
   "cell_type": "markdown",
   "id": "111eb30e",
   "metadata": {},
   "source": [
    "## Exploratory Data Analysis"
   ]
  },
  {
   "cell_type": "code",
   "execution_count": 10,
   "id": "9c5b8ba8",
   "metadata": {},
   "outputs": [
    {
     "data": {
      "image/png": "[encoded data removed]",
      "text/plain": [
       "<Figure size 1080x360 with 2 Axes>"
      ]
     },
     "metadata": {
      "needs_background": "light"
     },
     "output_type": "display_data"
    }
   ],
   "source": [
    "plt.figure(figsize = [15, 5])\n",
    "\n",
    "    #  LEFT plot: Bar plot of 'Type'\n",
    "plt.subplot(1, 2, 1)\n",
    "type_order = df['Type'].value_counts().index\n",
    "sb.countplot(data=df, x='Type', order = type_order);    \n",
    "    \n",
    "    # RIGHT plot: Bar plot of 'Name'\n",
    "plt.subplot(1, 2, 2)\n",
    "name_order = df['Name'].value_counts().head(20).index\n",
    "base_color = sb.color_palette()[0]\n",
    "sb.countplot(data=df, y='Name', color=base_color, order=name_order);\n",
    "\n",
    "plt.subplots_adjust(wspace=0.4)"
   ]
  },
  {
   "cell_type": "markdown",
   "id": "dab102b9",
   "metadata": {},
   "source": [
    "> There are a lot of Hydros in India, four times the combined other 3 types of electricity generators.<br>\n",
    "Wind Mill & Solar appeared only once in the dataset.<br>\n",
    "Eleven Electricity Generation places appeared ten or more times in the dataset. "
   ]
  },
  {
   "cell_type": "code",
   "execution_count": 11,
   "id": "1d0052fd",
   "metadata": {},
   "outputs": [],
   "source": [
    "def plot_mean_sum(x, top=10):\n",
    "    '''\n",
    "    A function to plot a bivariate visualization.\n",
    "    Group the dataset by 'Type'/'Name' and calculate the mean and sum of\n",
    "    'Net Generation(M.U)'.\n",
    "    \n",
    "    Parameters     x (str)     ->  a qualitative variable\n",
    "                                   'Type' or 'Name'\n",
    "                   top (int)   ->  view the top k values after the calculation\n",
    "                                   default value for 'Name' = 10\n",
    "                                                     'Type' = 4\n",
    "                                                     \n",
    "    return         two bar plots in one figure\n",
    "                   mean of Net Generation on the LEFT plot and\n",
    "                   sum of Net Generation on the RIGHT plot\n",
    "    \n",
    "    '''\n",
    "    # top k for 'Name' column to 20\n",
    "    if x == 'Type':\n",
    "        top = 4\n",
    "        \n",
    "    # group by 'Type'/'Name' and calculate mean and sum of 'Net Generation(M.U)'\n",
    "    a = df.groupby([x])['Net Generation(M.U)'].mean().reset_index(name='mean')\n",
    "    b = df.groupby([x])['Net Generation(M.U)'].sum().reset_index(name='sum')\n",
    "        \n",
    "    base_color = sb.color_palette()[0]\n",
    "    plt.figure(figsize = [16, 4])\n",
    "\n",
    "    #  LEFT plot: Bar plot of mean\n",
    "    plt.subplot(1, 2, 1)\n",
    "    \n",
    "    # show the highest from top to bottom or left to right\n",
    "    x_order = list(a.sort_values(by='mean', ascending=False).head(top)[x])\n",
    "    \n",
    "    if x == 'Name':\n",
    "        sb.barplot(data=a, x='mean', y=x, color=base_color, order=x_order)\n",
    "        plt.xlabel('Avg. Net Generation(M.U)')\n",
    "    else:\n",
    "        sb.barplot(data=a, x=x, y='mean', color=base_color, order=x_order)\n",
    "        plt.ylabel('Avg. Net Generation(M.U)')\n",
    "    \n",
    "     # RIGHT plot: Bar plot of sum\n",
    "    plt.subplot(1, 2, 2)\n",
    "    \n",
    "    # show the highest from top to bottom or left to right\n",
    "    x_order = list(b.sort_values(by='sum', ascending=False).head(top)[x])\n",
    "    \n",
    "    if x == 'Name':\n",
    "        sb.barplot(data=b, x='sum', y=x, color=base_color, order=x_order)\n",
    "        plt.xlabel('Total Net Generation(M.U)')\n",
    "        plt.subplots_adjust(wspace=0.4)\n",
    "    else:\n",
    "        sb.barplot(data=b, x=x, y='sum', color=base_color, order=x_order)\n",
    "        plt.ylabel('Total Net Generation(M.U)') "
   ]
  },
  {
   "cell_type": "code",
   "execution_count": 12,
   "id": "363627ba",
   "metadata": {},
   "outputs": [
    {
     "data": {
      "image/png": "[encoded data removed]",
      "text/plain": [
       "<Figure size 1152x288 with 2 Axes>"
      ]
     },
     "metadata": {
      "needs_background": "light"
     },
     "output_type": "display_data"
    }
   ],
   "source": [
    "plot_mean_sum('Name')"
   ]
  },
  {
   "cell_type": "code",
   "execution_count": 13,
   "id": "03eb88d2",
   "metadata": {},
   "outputs": [
    {
     "data": {
      "image/png": "[encoded data removed]",
      "text/plain": [
       "<Figure size 1152x288 with 2 Axes>"
      ]
     },
     "metadata": {
      "needs_background": "light"
     },
     "output_type": "display_data"
    }
   ],
   "source": [
    "plot_mean_sum('Type')"
   ]
  },
  {
   "cell_type": "code",
   "execution_count": 14,
   "id": "31e90949",
   "metadata": {},
   "outputs": [],
   "source": [
    "def line_plot(typ):\n",
    "    '''\n",
    "    A function to plot a bivariate visualization\n",
    "    Extract the particular type of electricity genration then group by year by\n",
    "    suming the Net Generation(M.U).\n",
    "    \n",
    "    Parameter   typ(str) -> The type of electricity generation\n",
    "    return      a line plot\n",
    "    '''\n",
    "    \n",
    "    b=df[df['Type'] == typ]\n",
    "    b = b.groupby(['Year'])['Net Generation(M.U)'].sum().reset_index(name='sum')\n",
    "    plt.errorbar(data=b, x='Year', y='sum')\n",
    "    plt.title('{} Net Generation (M.U)'.format(typ))\n",
    "    plt.ylabel('Net Generation(M.U)')\n",
    "    plt.xlabel('time period')"
   ]
  },
  {
   "cell_type": "code",
   "execution_count": 15,
   "id": "2a181480",
   "metadata": {},
   "outputs": [
    {
     "data": {
      "image/png": "[encoded data removed]",
      "text/plain": [
       "<Figure size 1800x360 with 2 Axes>"
      ]
     },
     "metadata": {
      "needs_background": "light"
     },
     "output_type": "display_data"
    }
   ],
   "source": [
    "plt.figure(figsize=(25, 5))\n",
    "\n",
    "plt.subplot(1, 2, 1)\n",
    "line_plot('Gas')\n",
    "\n",
    "plt.subplot(1, 2, 2)\n",
    "line_plot('Hydro')"
   ]
  },
  {
   "cell_type": "code",
   "execution_count": 16,
   "id": "73b96cab",
   "metadata": {},
   "outputs": [
    {
     "data": {
      "image/png": "[encoded data removed]",
      "text/plain": [
       "<Figure size 432x288 with 1 Axes>"
      ]
     },
     "metadata": {
      "needs_background": "light"
     },
     "output_type": "display_data"
    }
   ],
   "source": [
    "line_plot('Thermal')"
   ]
  },
  {
   "cell_type": "code",
   "execution_count": 17,
   "id": "9c717906",
   "metadata": {
    "scrolled": true
   },
   "outputs": [
    {
     "data": {
      "text/html": [
       "<div>\n",
       "<style scoped>\n",
       "    .dataframe tbody tr th:only-of-type {\n",
       "        vertical-align: middle;\n",
       "    }\n",
       "\n",
       "    .dataframe tbody tr th {\n",
       "        vertical-align: top;\n",
       "    }\n",
       "\n",
       "    .dataframe thead th {\n",
       "        text-align: right;\n",
       "    }\n",
       "</style>\n",
       "<table border=\"1\" class=\"dataframe\">\n",
       "  <thead>\n",
       "    <tr style=\"text-align: right;\">\n",
       "      <th></th>\n",
       "      <th>Type</th>\n",
       "      <th>Name</th>\n",
       "      <th>Net Generation(M.U)</th>\n",
       "      <th>Year</th>\n",
       "    </tr>\n",
       "  </thead>\n",
       "  <tbody>\n",
       "    <tr>\n",
       "      <th>372</th>\n",
       "      <td>Wind Mill + Solar</td>\n",
       "      <td>TNEB</td>\n",
       "      <td>6.915</td>\n",
       "      <td>2018</td>\n",
       "    </tr>\n",
       "  </tbody>\n",
       "</table>\n",
       "</div>"
      ],
      "text/plain": [
       "                  Type  Name  Net Generation(M.U)  Year\n",
       "372  Wind Mill + Solar  TNEB                6.915  2018"
      ]
     },
     "execution_count": 17,
     "metadata": {},
     "output_type": "execute_result"
    }
   ],
   "source": [
    "df[df['Type'] == 'Wind Mill + Solar']"
   ]
  },
  {
   "cell_type": "markdown",
   "id": "e17946e9",
   "metadata": {},
   "source": [
    "> From the visualization and excluding the year 2022, Gas and Thermal Net Generations has seen a decline since 2014.<br>\n",
    "Hydro Net Generation (excluding the year 2022) has seen an increase since 2017 but a decrease electricity supply in 2020 and then an increase in 2021.<br>\n",
    "Wind Mill & Solar from TNEB only supplied electricity in the year 2018."
   ]
  },
  {
   "cell_type": "code",
   "execution_count": null,
   "id": "f40379f7",
   "metadata": {},
   "outputs": [],
   "source": []
  }
 ],
 "metadata": {
  "kernelspec": {
   "display_name": "Python 3 (ipykernel)",
   "language": "python",
   "name": "python3"
  },
  "language_info": {
   "codemirror_mode": {
    "name": "ipython",
    "version": 3
   },
   "file_extension": ".py",
   "mimetype": "text/x-python",
   "name": "python",
   "nbconvert_exporter": "python",
   "pygments_lexer": "ipython3",
   "version": "3.8.12"
  }
 },
 "nbformat": 4,
 "nbformat_minor": 5
}
