{
 "cells": [
  {
   "cell_type": "code",
   "execution_count": 4,
   "id": "3f03a8b8",
   "metadata": {},
   "outputs": [
    {
     "data": {
      "text/plain": [
       "array([[16437.074]], dtype=float32)"
      ]
     },
     "execution_count": 4,
     "metadata": {},
     "output_type": "execute_result"
    }
   ],
   "source": [
    "import pickle\n",
    "import streamlit as st\n",
    "import pandas as pd\n",
    "import numpy as np\n",
    "\n",
    "filename = 'finalized_lstm_model.sav'\n",
    "\n",
    "# load the model from disk\n",
    "loaded_model = pickle.load(open(filename, 'rb'))\n",
    "\n",
    "\n",
    "# st.title('Peak Demand LSTM Regressor Web App')\n",
    "# st.write('This is a web app to predict the Peak Demand for the next month, provided we have last 5 peak demand of electricity in Chennai. After that, click on the Predict button at the bottom to\\\n",
    "#         see the prediction of the regressor.')\n",
    "\n",
    "# features = agg['var1(t)'].to_numpy()[115:120]\n",
    "features = np.asarray([14501., 15290., 16262., 17196., 17563.])\n",
    "\n",
    "features_df  = pd.DataFrame([features])\n",
    "\n",
    "# st.table(features_df) \n",
    "\n",
    "# if st.button('Predict'):\n",
    "#x_input = features_df.reshape(1, n_steps, n_features)\n",
    "\n",
    "yhat = loaded_model.predict(features_df, verbose=0)\n",
    "yhat\n",
    "        \n",
    "#     st.write(' Based on feature values, the peak demand load is '+ str(int(yhat)))\n",
    "    \n",
    "    \n",
    "#streamlit run streamlit_app.py\n"
   ]
  }
 ],
 "metadata": {
  "kernelspec": {
   "display_name": "Python 3",
   "language": "python",
   "name": "python3"
  },
  "language_info": {
   "codemirror_mode": {
    "name": "ipython",
    "version": 3
   },
   "file_extension": ".py",
   "mimetype": "text/x-python",
   "name": "python",
   "nbconvert_exporter": "python",
   "pygments_lexer": "ipython3",
   "version": "3.9.7"
  }
 },
 "nbformat": 4,
 "nbformat_minor": 5
}
