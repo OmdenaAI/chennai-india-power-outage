{
 "cells": [
  {
   "cell_type": "markdown",
   "metadata": {},
   "source": [
    "### Import Packages"
   ]
  },
  {
   "cell_type": "code",
   "execution_count": 77,
   "metadata": {
    "ExecuteTime": {
     "end_time": "2022-07-27T02:06:30.901133Z",
     "start_time": "2022-07-27T02:06:30.895325Z"
    }
   },
   "outputs": [],
   "source": [
    "# Basics\n",
    "import pandas as pd\n",
    "import numpy as np\n",
    "pd.set_option('display.max_rows', 1000)\n",
    "from datetime import datetime as dt\n",
    "import itertools\n",
    "\n",
    "# Visualization\n",
    "import matplotlib.pyplot as plt\n",
    "import seaborn as sns\n",
    "plt.style.use('ggplot')\n",
    "from statsmodels.tsa.seasonal import seasonal_decompose\n",
    "\n",
    "# Time-Series statsmodels\n",
    "from sklearn.model_selection import TimeSeriesSplit\n",
    "from statsmodels.tsa.arima.model import ARIMA\n",
    "from statsmodels.tsa.stattools import acf, pacf, adfuller\n",
    "from statsmodels.graphics.tsaplots import plot_acf, plot_pacf\n",
    "from statsmodels.tsa.statespace.sarimax import SARIMAX\n",
    "\n",
    "# Testing\n",
    "from statsmodels.tsa.stattools import adfuller\n",
    "from sklearn.metrics import mean_squared_error\n",
    "\n",
    "# Warnings\n",
    "import warnings\n",
    "from statsmodels.tools.sm_exceptions import ConvergenceWarning, ValueWarning\n",
    "warnings.simplefilter('ignore', ConvergenceWarning)\n",
    "warnings.simplefilter('ignore', ValueWarning)"
   ]
  },
  {
   "cell_type": "markdown",
   "metadata": {},
   "source": [
    "### Load the data"
   ]
  },
  {
   "cell_type": "code",
   "execution_count": 2,
   "metadata": {
    "ExecuteTime": {
     "end_time": "2022-07-27T01:11:52.402565Z",
     "start_time": "2022-07-27T01:11:52.271885Z"
    }
   },
   "outputs": [
    {
     "name": "stdout",
     "output_type": "stream",
     "text": [
      "/home/abhay.bhadani/Omdena/Omdena_Chennai/chennai-india-power-outage-main/chennai-india-power-outage/src/tasks/task-06-Model Building\r\n"
     ]
    }
   ],
   "source": [
    "!pwd"
   ]
  },
  {
   "cell_type": "code",
   "execution_count": 3,
   "metadata": {
    "ExecuteTime": {
     "end_time": "2022-07-27T01:11:52.447502Z",
     "start_time": "2022-07-27T01:11:52.409493Z"
    }
   },
   "outputs": [
    {
     "data": {
      "text/html": [
       "<div>\n",
       "<style scoped>\n",
       "    .dataframe tbody tr th:only-of-type {\n",
       "        vertical-align: middle;\n",
       "    }\n",
       "\n",
       "    .dataframe tbody tr th {\n",
       "        vertical-align: top;\n",
       "    }\n",
       "\n",
       "    .dataframe thead th {\n",
       "        text-align: right;\n",
       "    }\n",
       "</style>\n",
       "<table border=\"1\" class=\"dataframe\">\n",
       "  <thead>\n",
       "    <tr style=\"text-align: right;\">\n",
       "      <th></th>\n",
       "      <th>Requirement(MU/DAY)</th>\n",
       "      <th>Energy_met(MU/DAY)</th>\n",
       "      <th>Surplus(+)/Deficit(-)(MU/DAY)</th>\n",
       "      <th>Requirement(MU)</th>\n",
       "      <th>Energy_met(MU)</th>\n",
       "      <th>Surplus(+)/Deficit(-)(MU)</th>\n",
       "      <th>%Shortage(MU)</th>\n",
       "      <th>Requirement(MW)</th>\n",
       "      <th>Peak_Demand_Met5(MW)</th>\n",
       "      <th>Surplus(+)/Deficit(-)(MW)</th>\n",
       "      <th>%Shortage(MW)</th>\n",
       "      <th>name_report</th>\n",
       "      <th>year</th>\n",
       "      <th>month</th>\n",
       "      <th>date_published</th>\n",
       "      <th>month_published</th>\n",
       "      <th>year_published</th>\n",
       "    </tr>\n",
       "  </thead>\n",
       "  <tbody>\n",
       "    <tr>\n",
       "      <th>0</th>\n",
       "      <td>354.0</td>\n",
       "      <td>354.0</td>\n",
       "      <td>-0.9</td>\n",
       "      <td>10632.0</td>\n",
       "      <td>10605.0</td>\n",
       "      <td>-26.0</td>\n",
       "      <td>-0.2</td>\n",
       "      <td>17646.0</td>\n",
       "      <td>17563.0</td>\n",
       "      <td>-83.0</td>\n",
       "      <td>-0.5</td>\n",
       "      <td>Monthly_Report_Apr_2022</td>\n",
       "      <td>2022</td>\n",
       "      <td>4</td>\n",
       "      <td>2022-05-23</td>\n",
       "      <td>5</td>\n",
       "      <td>2022</td>\n",
       "    </tr>\n",
       "    <tr>\n",
       "      <th>1</th>\n",
       "      <td>337.0</td>\n",
       "      <td>337.0</td>\n",
       "      <td>0.0</td>\n",
       "      <td>10459.0</td>\n",
       "      <td>10458.0</td>\n",
       "      <td>-1.0</td>\n",
       "      <td>0.0</td>\n",
       "      <td>16906.0</td>\n",
       "      <td>16906.0</td>\n",
       "      <td>0.0</td>\n",
       "      <td>0.0</td>\n",
       "      <td>Monthly_Report_May_2022</td>\n",
       "      <td>2022</td>\n",
       "      <td>5</td>\n",
       "      <td>2022-06-23</td>\n",
       "      <td>6</td>\n",
       "      <td>2022</td>\n",
       "    </tr>\n",
       "    <tr>\n",
       "      <th>2</th>\n",
       "      <td>344.0</td>\n",
       "      <td>343.0</td>\n",
       "      <td>-0.3</td>\n",
       "      <td>10657.0</td>\n",
       "      <td>10648.0</td>\n",
       "      <td>-9.0</td>\n",
       "      <td>-0.1</td>\n",
       "      <td>17196.0</td>\n",
       "      <td>17196.0</td>\n",
       "      <td>0.0</td>\n",
       "      <td>0.0</td>\n",
       "      <td>Monthly_Report_Mar_2022</td>\n",
       "      <td>2022</td>\n",
       "      <td>3</td>\n",
       "      <td>2022-04-25</td>\n",
       "      <td>4</td>\n",
       "      <td>2022</td>\n",
       "    </tr>\n",
       "    <tr>\n",
       "      <th>3</th>\n",
       "      <td>286.0</td>\n",
       "      <td>286.0</td>\n",
       "      <td>0.0</td>\n",
       "      <td>8873.0</td>\n",
       "      <td>8873.0</td>\n",
       "      <td>1.0</td>\n",
       "      <td>0.0</td>\n",
       "      <td>15290.0</td>\n",
       "      <td>15290.0</td>\n",
       "      <td>0.0</td>\n",
       "      <td>0.0</td>\n",
       "      <td>Monthly_Report_Jan_2022</td>\n",
       "      <td>2022</td>\n",
       "      <td>1</td>\n",
       "      <td>2022-02-23</td>\n",
       "      <td>2</td>\n",
       "      <td>2022</td>\n",
       "    </tr>\n",
       "    <tr>\n",
       "      <th>4</th>\n",
       "      <td>245.0</td>\n",
       "      <td>245.0</td>\n",
       "      <td>0.0</td>\n",
       "      <td>7362.0</td>\n",
       "      <td>7360.0</td>\n",
       "      <td>-1.0</td>\n",
       "      <td>0.0</td>\n",
       "      <td>13501.0</td>\n",
       "      <td>13480.0</td>\n",
       "      <td>-21.0</td>\n",
       "      <td>-0.2</td>\n",
       "      <td>Monthly_Report_Nov_2021</td>\n",
       "      <td>2021</td>\n",
       "      <td>11</td>\n",
       "      <td>2021-12-23</td>\n",
       "      <td>12</td>\n",
       "      <td>2021</td>\n",
       "    </tr>\n",
       "  </tbody>\n",
       "</table>\n",
       "</div>"
      ],
      "text/plain": [
       "   Requirement(MU/DAY)  Energy_met(MU/DAY)  Surplus(+)/Deficit(-)(MU/DAY)  \\\n",
       "0                354.0               354.0                           -0.9   \n",
       "1                337.0               337.0                            0.0   \n",
       "2                344.0               343.0                           -0.3   \n",
       "3                286.0               286.0                            0.0   \n",
       "4                245.0               245.0                            0.0   \n",
       "\n",
       "   Requirement(MU)  Energy_met(MU)  Surplus(+)/Deficit(-)(MU)  %Shortage(MU)  \\\n",
       "0          10632.0         10605.0                      -26.0           -0.2   \n",
       "1          10459.0         10458.0                       -1.0            0.0   \n",
       "2          10657.0         10648.0                       -9.0           -0.1   \n",
       "3           8873.0          8873.0                        1.0            0.0   \n",
       "4           7362.0          7360.0                       -1.0            0.0   \n",
       "\n",
       "   Requirement(MW)  Peak_Demand_Met5(MW)  Surplus(+)/Deficit(-)(MW)  \\\n",
       "0          17646.0               17563.0                      -83.0   \n",
       "1          16906.0               16906.0                        0.0   \n",
       "2          17196.0               17196.0                        0.0   \n",
       "3          15290.0               15290.0                        0.0   \n",
       "4          13501.0               13480.0                      -21.0   \n",
       "\n",
       "   %Shortage(MW)              name_report  year  month date_published  \\\n",
       "0           -0.5  Monthly_Report_Apr_2022  2022      4     2022-05-23   \n",
       "1            0.0  Monthly_Report_May_2022  2022      5     2022-06-23   \n",
       "2            0.0  Monthly_Report_Mar_2022  2022      3     2022-04-25   \n",
       "3            0.0  Monthly_Report_Jan_2022  2022      1     2022-02-23   \n",
       "4           -0.2  Monthly_Report_Nov_2021  2021     11     2021-12-23   \n",
       "\n",
       "   month_published  year_published  \n",
       "0                5            2022  \n",
       "1                6            2022  \n",
       "2                4            2022  \n",
       "3                2            2022  \n",
       "4               12            2021  "
      ]
     },
     "execution_count": 3,
     "metadata": {},
     "output_type": "execute_result"
    }
   ],
   "source": [
    "# load in outage data as df\n",
    "df = pd.read_csv('../../data/cleaned data/demand_supply_monthly.csv')\n",
    "df.head()"
   ]
  },
  {
   "cell_type": "code",
   "execution_count": 4,
   "metadata": {
    "ExecuteTime": {
     "end_time": "2022-07-27T01:11:52.460579Z",
     "start_time": "2022-07-27T01:11:52.449512Z"
    }
   },
   "outputs": [
    {
     "name": "stdout",
     "output_type": "stream",
     "text": [
      "<class 'pandas.core.frame.DataFrame'>\n",
      "RangeIndex: 122 entries, 0 to 121\n",
      "Data columns (total 17 columns):\n",
      " #   Column                         Non-Null Count  Dtype  \n",
      "---  ------                         --------------  -----  \n",
      " 0   Requirement(MU/DAY)            122 non-null    float64\n",
      " 1   Energy_met(MU/DAY)             122 non-null    float64\n",
      " 2   Surplus(+)/Deficit(-)(MU/DAY)  122 non-null    float64\n",
      " 3   Requirement(MU)                122 non-null    float64\n",
      " 4   Energy_met(MU)                 122 non-null    float64\n",
      " 5   Surplus(+)/Deficit(-)(MU)      122 non-null    float64\n",
      " 6   %Shortage(MU)                  122 non-null    float64\n",
      " 7   Requirement(MW)                122 non-null    float64\n",
      " 8   Peak_Demand_Met5(MW)           122 non-null    float64\n",
      " 9   Surplus(+)/Deficit(-)(MW)      122 non-null    float64\n",
      " 10  %Shortage(MW)                  122 non-null    float64\n",
      " 11  name_report                    122 non-null    object \n",
      " 12  year                           122 non-null    int64  \n",
      " 13  month                          122 non-null    int64  \n",
      " 14  date_published                 122 non-null    object \n",
      " 15  month_published                122 non-null    int64  \n",
      " 16  year_published                 122 non-null    int64  \n",
      "dtypes: float64(11), int64(4), object(2)\n",
      "memory usage: 16.3+ KB\n"
     ]
    },
    {
     "name": "stderr",
     "output_type": "stream",
     "text": [
      "/tmp/ipykernel_7138/2612161665.py:1: FutureWarning: null_counts is deprecated. Use show_counts instead\n",
      "  df.info(verbose=True, null_counts=True)\n"
     ]
    }
   ],
   "source": [
    "df.info(verbose=True, null_counts=True)"
   ]
  },
  {
   "cell_type": "code",
   "execution_count": 5,
   "metadata": {
    "ExecuteTime": {
     "end_time": "2022-07-27T01:11:52.525376Z",
     "start_time": "2022-07-27T01:11:52.462753Z"
    }
   },
   "outputs": [
    {
     "data": {
      "text/html": [
       "<div>\n",
       "<style scoped>\n",
       "    .dataframe tbody tr th:only-of-type {\n",
       "        vertical-align: middle;\n",
       "    }\n",
       "\n",
       "    .dataframe tbody tr th {\n",
       "        vertical-align: top;\n",
       "    }\n",
       "\n",
       "    .dataframe thead th {\n",
       "        text-align: right;\n",
       "    }\n",
       "</style>\n",
       "<table border=\"1\" class=\"dataframe\">\n",
       "  <thead>\n",
       "    <tr style=\"text-align: right;\">\n",
       "      <th></th>\n",
       "      <th>Requirement(MU/DAY)</th>\n",
       "      <th>Energy_met(MU/DAY)</th>\n",
       "      <th>Surplus(+)/Deficit(-)(MU/DAY)</th>\n",
       "      <th>Requirement(MU)</th>\n",
       "      <th>Energy_met(MU)</th>\n",
       "      <th>Surplus(+)/Deficit(-)(MU)</th>\n",
       "      <th>%Shortage(MU)</th>\n",
       "      <th>Requirement(MW)</th>\n",
       "      <th>Peak_Demand_Met5(MW)</th>\n",
       "      <th>Surplus(+)/Deficit(-)(MW)</th>\n",
       "      <th>%Shortage(MW)</th>\n",
       "      <th>year</th>\n",
       "      <th>month</th>\n",
       "      <th>month_published</th>\n",
       "      <th>year_published</th>\n",
       "    </tr>\n",
       "  </thead>\n",
       "  <tbody>\n",
       "    <tr>\n",
       "      <th>count</th>\n",
       "      <td>122.000000</td>\n",
       "      <td>122.000000</td>\n",
       "      <td>122.000000</td>\n",
       "      <td>122.000000</td>\n",
       "      <td>122.000000</td>\n",
       "      <td>122.000000</td>\n",
       "      <td>122.000000</td>\n",
       "      <td>122.000000</td>\n",
       "      <td>122.000000</td>\n",
       "      <td>122.000000</td>\n",
       "      <td>122.000000</td>\n",
       "      <td>122.000000</td>\n",
       "      <td>122.000000</td>\n",
       "      <td>122.000000</td>\n",
       "      <td>122.000000</td>\n",
       "    </tr>\n",
       "    <tr>\n",
       "      <th>mean</th>\n",
       "      <td>283.758197</td>\n",
       "      <td>276.782787</td>\n",
       "      <td>-6.989344</td>\n",
       "      <td>8631.884426</td>\n",
       "      <td>8419.755738</td>\n",
       "      <td>-212.110656</td>\n",
       "      <td>-2.718033</td>\n",
       "      <td>14066.011475</td>\n",
       "      <td>13849.101639</td>\n",
       "      <td>-216.893443</td>\n",
       "      <td>-1.734426</td>\n",
       "      <td>2016.836066</td>\n",
       "      <td>6.467213</td>\n",
       "      <td>6.598361</td>\n",
       "      <td>2017.131148</td>\n",
       "    </tr>\n",
       "    <tr>\n",
       "      <th>std</th>\n",
       "      <td>27.948258</td>\n",
       "      <td>36.694300</td>\n",
       "      <td>14.425527</td>\n",
       "      <td>864.073361</td>\n",
       "      <td>1127.604563</td>\n",
       "      <td>438.266568</td>\n",
       "      <td>5.696266</td>\n",
       "      <td>1470.967073</td>\n",
       "      <td>1771.175005</td>\n",
       "      <td>583.523308</td>\n",
       "      <td>4.757991</td>\n",
       "      <td>2.969155</td>\n",
       "      <td>3.447803</td>\n",
       "      <td>3.271868</td>\n",
       "      <td>2.721056</td>\n",
       "    </tr>\n",
       "    <tr>\n",
       "      <th>min</th>\n",
       "      <td>217.000000</td>\n",
       "      <td>177.000000</td>\n",
       "      <td>-60.000000</td>\n",
       "      <td>6511.100000</td>\n",
       "      <td>5302.000000</td>\n",
       "      <td>-1860.000000</td>\n",
       "      <td>-24.000000</td>\n",
       "      <td>10161.000000</td>\n",
       "      <td>8518.000000</td>\n",
       "      <td>-3745.000000</td>\n",
       "      <td>-28.000000</td>\n",
       "      <td>2012.000000</td>\n",
       "      <td>1.000000</td>\n",
       "      <td>1.000000</td>\n",
       "      <td>2013.000000</td>\n",
       "    </tr>\n",
       "    <tr>\n",
       "      <th>25%</th>\n",
       "      <td>264.500000</td>\n",
       "      <td>254.000000</td>\n",
       "      <td>-7.000000</td>\n",
       "      <td>7994.750000</td>\n",
       "      <td>7759.750000</td>\n",
       "      <td>-216.525000</td>\n",
       "      <td>-2.825000</td>\n",
       "      <td>12969.000000</td>\n",
       "      <td>12732.000000</td>\n",
       "      <td>-161.250000</td>\n",
       "      <td>-1.250000</td>\n",
       "      <td>2014.000000</td>\n",
       "      <td>4.000000</td>\n",
       "      <td>4.000000</td>\n",
       "      <td>2014.000000</td>\n",
       "    </tr>\n",
       "    <tr>\n",
       "      <th>50%</th>\n",
       "      <td>280.500000</td>\n",
       "      <td>279.050000</td>\n",
       "      <td>-0.200000</td>\n",
       "      <td>8534.100000</td>\n",
       "      <td>8431.000000</td>\n",
       "      <td>-5.450000</td>\n",
       "      <td>-0.100000</td>\n",
       "      <td>14290.500000</td>\n",
       "      <td>14225.500000</td>\n",
       "      <td>-23.000000</td>\n",
       "      <td>-0.200000</td>\n",
       "      <td>2017.000000</td>\n",
       "      <td>6.000000</td>\n",
       "      <td>7.000000</td>\n",
       "      <td>2017.000000</td>\n",
       "    </tr>\n",
       "    <tr>\n",
       "      <th>75%</th>\n",
       "      <td>302.875000</td>\n",
       "      <td>302.800000</td>\n",
       "      <td>0.000000</td>\n",
       "      <td>9201.150000</td>\n",
       "      <td>9201.650000</td>\n",
       "      <td>-0.750000</td>\n",
       "      <td>0.000000</td>\n",
       "      <td>15024.500000</td>\n",
       "      <td>15007.250000</td>\n",
       "      <td>0.000000</td>\n",
       "      <td>0.000000</td>\n",
       "      <td>2019.000000</td>\n",
       "      <td>9.000000</td>\n",
       "      <td>9.000000</td>\n",
       "      <td>2019.000000</td>\n",
       "    </tr>\n",
       "    <tr>\n",
       "      <th>max</th>\n",
       "      <td>354.000000</td>\n",
       "      <td>354.000000</td>\n",
       "      <td>0.100000</td>\n",
       "      <td>10657.000000</td>\n",
       "      <td>10648.000000</td>\n",
       "      <td>3.000000</td>\n",
       "      <td>0.000000</td>\n",
       "      <td>17646.000000</td>\n",
       "      <td>17563.000000</td>\n",
       "      <td>2360.000000</td>\n",
       "      <td>20.700000</td>\n",
       "      <td>2022.000000</td>\n",
       "      <td>12.000000</td>\n",
       "      <td>12.000000</td>\n",
       "      <td>2022.000000</td>\n",
       "    </tr>\n",
       "  </tbody>\n",
       "</table>\n",
       "</div>"
      ],
      "text/plain": [
       "       Requirement(MU/DAY)  Energy_met(MU/DAY)  Surplus(+)/Deficit(-)(MU/DAY)  \\\n",
       "count           122.000000          122.000000                     122.000000   \n",
       "mean            283.758197          276.782787                      -6.989344   \n",
       "std              27.948258           36.694300                      14.425527   \n",
       "min             217.000000          177.000000                     -60.000000   \n",
       "25%             264.500000          254.000000                      -7.000000   \n",
       "50%             280.500000          279.050000                      -0.200000   \n",
       "75%             302.875000          302.800000                       0.000000   \n",
       "max             354.000000          354.000000                       0.100000   \n",
       "\n",
       "       Requirement(MU)  Energy_met(MU)  Surplus(+)/Deficit(-)(MU)  \\\n",
       "count       122.000000      122.000000                 122.000000   \n",
       "mean       8631.884426     8419.755738                -212.110656   \n",
       "std         864.073361     1127.604563                 438.266568   \n",
       "min        6511.100000     5302.000000               -1860.000000   \n",
       "25%        7994.750000     7759.750000                -216.525000   \n",
       "50%        8534.100000     8431.000000                  -5.450000   \n",
       "75%        9201.150000     9201.650000                  -0.750000   \n",
       "max       10657.000000    10648.000000                   3.000000   \n",
       "\n",
       "       %Shortage(MU)  Requirement(MW)  Peak_Demand_Met5(MW)  \\\n",
       "count     122.000000       122.000000            122.000000   \n",
       "mean       -2.718033     14066.011475          13849.101639   \n",
       "std         5.696266      1470.967073           1771.175005   \n",
       "min       -24.000000     10161.000000           8518.000000   \n",
       "25%        -2.825000     12969.000000          12732.000000   \n",
       "50%        -0.100000     14290.500000          14225.500000   \n",
       "75%         0.000000     15024.500000          15007.250000   \n",
       "max         0.000000     17646.000000          17563.000000   \n",
       "\n",
       "       Surplus(+)/Deficit(-)(MW)  %Shortage(MW)         year       month  \\\n",
       "count                 122.000000     122.000000   122.000000  122.000000   \n",
       "mean                 -216.893443      -1.734426  2016.836066    6.467213   \n",
       "std                   583.523308       4.757991     2.969155    3.447803   \n",
       "min                 -3745.000000     -28.000000  2012.000000    1.000000   \n",
       "25%                  -161.250000      -1.250000  2014.000000    4.000000   \n",
       "50%                   -23.000000      -0.200000  2017.000000    6.000000   \n",
       "75%                     0.000000       0.000000  2019.000000    9.000000   \n",
       "max                  2360.000000      20.700000  2022.000000   12.000000   \n",
       "\n",
       "       month_published  year_published  \n",
       "count       122.000000      122.000000  \n",
       "mean          6.598361     2017.131148  \n",
       "std           3.271868        2.721056  \n",
       "min           1.000000     2013.000000  \n",
       "25%           4.000000     2014.000000  \n",
       "50%           7.000000     2017.000000  \n",
       "75%           9.000000     2019.000000  \n",
       "max          12.000000     2022.000000  "
      ]
     },
     "execution_count": 5,
     "metadata": {},
     "output_type": "execute_result"
    }
   ],
   "source": [
    "df.describe()"
   ]
  },
  {
   "cell_type": "markdown",
   "metadata": {},
   "source": [
    "## Time Series Data"
   ]
  },
  {
   "cell_type": "markdown",
   "metadata": {},
   "source": [
    "### Prepare time series data"
   ]
  },
  {
   "cell_type": "code",
   "execution_count": 6,
   "metadata": {
    "ExecuteTime": {
     "end_time": "2022-07-27T01:11:52.546961Z",
     "start_time": "2022-07-27T01:11:52.529404Z"
    }
   },
   "outputs": [
    {
     "data": {
      "text/html": [
       "<div>\n",
       "<style scoped>\n",
       "    .dataframe tbody tr th:only-of-type {\n",
       "        vertical-align: middle;\n",
       "    }\n",
       "\n",
       "    .dataframe tbody tr th {\n",
       "        vertical-align: top;\n",
       "    }\n",
       "\n",
       "    .dataframe thead th {\n",
       "        text-align: right;\n",
       "    }\n",
       "</style>\n",
       "<table border=\"1\" class=\"dataframe\">\n",
       "  <thead>\n",
       "    <tr style=\"text-align: right;\">\n",
       "      <th></th>\n",
       "      <th>Requirement(MU/DAY)</th>\n",
       "      <th>Energy_met(MU/DAY)</th>\n",
       "      <th>Surplus(+)/Deficit(-)(MU/DAY)</th>\n",
       "      <th>Requirement(MU)</th>\n",
       "      <th>Energy_met(MU)</th>\n",
       "      <th>Surplus(+)/Deficit(-)(MU)</th>\n",
       "      <th>%Shortage(MU)</th>\n",
       "      <th>Requirement(MW)</th>\n",
       "      <th>Peak_Demand_Met5(MW)</th>\n",
       "      <th>Surplus(+)/Deficit(-)(MW)</th>\n",
       "      <th>%Shortage(MW)</th>\n",
       "      <th>name_report</th>\n",
       "      <th>year</th>\n",
       "      <th>month</th>\n",
       "      <th>date_published</th>\n",
       "      <th>month_published</th>\n",
       "      <th>year_published</th>\n",
       "    </tr>\n",
       "  </thead>\n",
       "  <tbody>\n",
       "    <tr>\n",
       "      <th>0</th>\n",
       "      <td>354.0</td>\n",
       "      <td>354.0</td>\n",
       "      <td>-0.9</td>\n",
       "      <td>10632.0</td>\n",
       "      <td>10605.0</td>\n",
       "      <td>-26.0</td>\n",
       "      <td>-0.2</td>\n",
       "      <td>17646.0</td>\n",
       "      <td>17563.0</td>\n",
       "      <td>-83.0</td>\n",
       "      <td>-0.5</td>\n",
       "      <td>Monthly_Report_Apr_2022</td>\n",
       "      <td>2022</td>\n",
       "      <td>4</td>\n",
       "      <td>2022-05-23</td>\n",
       "      <td>5</td>\n",
       "      <td>2022</td>\n",
       "    </tr>\n",
       "    <tr>\n",
       "      <th>1</th>\n",
       "      <td>337.0</td>\n",
       "      <td>337.0</td>\n",
       "      <td>0.0</td>\n",
       "      <td>10459.0</td>\n",
       "      <td>10458.0</td>\n",
       "      <td>-1.0</td>\n",
       "      <td>0.0</td>\n",
       "      <td>16906.0</td>\n",
       "      <td>16906.0</td>\n",
       "      <td>0.0</td>\n",
       "      <td>0.0</td>\n",
       "      <td>Monthly_Report_May_2022</td>\n",
       "      <td>2022</td>\n",
       "      <td>5</td>\n",
       "      <td>2022-06-23</td>\n",
       "      <td>6</td>\n",
       "      <td>2022</td>\n",
       "    </tr>\n",
       "    <tr>\n",
       "      <th>2</th>\n",
       "      <td>344.0</td>\n",
       "      <td>343.0</td>\n",
       "      <td>-0.3</td>\n",
       "      <td>10657.0</td>\n",
       "      <td>10648.0</td>\n",
       "      <td>-9.0</td>\n",
       "      <td>-0.1</td>\n",
       "      <td>17196.0</td>\n",
       "      <td>17196.0</td>\n",
       "      <td>0.0</td>\n",
       "      <td>0.0</td>\n",
       "      <td>Monthly_Report_Mar_2022</td>\n",
       "      <td>2022</td>\n",
       "      <td>3</td>\n",
       "      <td>2022-04-25</td>\n",
       "      <td>4</td>\n",
       "      <td>2022</td>\n",
       "    </tr>\n",
       "    <tr>\n",
       "      <th>3</th>\n",
       "      <td>286.0</td>\n",
       "      <td>286.0</td>\n",
       "      <td>0.0</td>\n",
       "      <td>8873.0</td>\n",
       "      <td>8873.0</td>\n",
       "      <td>1.0</td>\n",
       "      <td>0.0</td>\n",
       "      <td>15290.0</td>\n",
       "      <td>15290.0</td>\n",
       "      <td>0.0</td>\n",
       "      <td>0.0</td>\n",
       "      <td>Monthly_Report_Jan_2022</td>\n",
       "      <td>2022</td>\n",
       "      <td>1</td>\n",
       "      <td>2022-02-23</td>\n",
       "      <td>2</td>\n",
       "      <td>2022</td>\n",
       "    </tr>\n",
       "    <tr>\n",
       "      <th>4</th>\n",
       "      <td>245.0</td>\n",
       "      <td>245.0</td>\n",
       "      <td>0.0</td>\n",
       "      <td>7362.0</td>\n",
       "      <td>7360.0</td>\n",
       "      <td>-1.0</td>\n",
       "      <td>0.0</td>\n",
       "      <td>13501.0</td>\n",
       "      <td>13480.0</td>\n",
       "      <td>-21.0</td>\n",
       "      <td>-0.2</td>\n",
       "      <td>Monthly_Report_Nov_2021</td>\n",
       "      <td>2021</td>\n",
       "      <td>11</td>\n",
       "      <td>2021-12-23</td>\n",
       "      <td>12</td>\n",
       "      <td>2021</td>\n",
       "    </tr>\n",
       "  </tbody>\n",
       "</table>\n",
       "</div>"
      ],
      "text/plain": [
       "   Requirement(MU/DAY)  Energy_met(MU/DAY)  Surplus(+)/Deficit(-)(MU/DAY)  \\\n",
       "0                354.0               354.0                           -0.9   \n",
       "1                337.0               337.0                            0.0   \n",
       "2                344.0               343.0                           -0.3   \n",
       "3                286.0               286.0                            0.0   \n",
       "4                245.0               245.0                            0.0   \n",
       "\n",
       "   Requirement(MU)  Energy_met(MU)  Surplus(+)/Deficit(-)(MU)  %Shortage(MU)  \\\n",
       "0          10632.0         10605.0                      -26.0           -0.2   \n",
       "1          10459.0         10458.0                       -1.0            0.0   \n",
       "2          10657.0         10648.0                       -9.0           -0.1   \n",
       "3           8873.0          8873.0                        1.0            0.0   \n",
       "4           7362.0          7360.0                       -1.0            0.0   \n",
       "\n",
       "   Requirement(MW)  Peak_Demand_Met5(MW)  Surplus(+)/Deficit(-)(MW)  \\\n",
       "0          17646.0               17563.0                      -83.0   \n",
       "1          16906.0               16906.0                        0.0   \n",
       "2          17196.0               17196.0                        0.0   \n",
       "3          15290.0               15290.0                        0.0   \n",
       "4          13501.0               13480.0                      -21.0   \n",
       "\n",
       "   %Shortage(MW)              name_report  year  month date_published  \\\n",
       "0           -0.5  Monthly_Report_Apr_2022  2022      4     2022-05-23   \n",
       "1            0.0  Monthly_Report_May_2022  2022      5     2022-06-23   \n",
       "2            0.0  Monthly_Report_Mar_2022  2022      3     2022-04-25   \n",
       "3            0.0  Monthly_Report_Jan_2022  2022      1     2022-02-23   \n",
       "4           -0.2  Monthly_Report_Nov_2021  2021     11     2021-12-23   \n",
       "\n",
       "   month_published  year_published  \n",
       "0                5            2022  \n",
       "1                6            2022  \n",
       "2                4            2022  \n",
       "3                2            2022  \n",
       "4               12            2021  "
      ]
     },
     "execution_count": 6,
     "metadata": {},
     "output_type": "execute_result"
    }
   ],
   "source": [
    "df.head()"
   ]
  },
  {
   "cell_type": "code",
   "execution_count": 7,
   "metadata": {
    "ExecuteTime": {
     "end_time": "2022-07-27T01:11:52.560985Z",
     "start_time": "2022-07-27T01:11:52.550364Z"
    },
    "scrolled": false
   },
   "outputs": [
    {
     "name": "stdout",
     "output_type": "stream",
     "text": [
      "<class 'pandas.core.frame.DataFrame'>\n",
      "RangeIndex: 122 entries, 0 to 121\n",
      "Data columns (total 17 columns):\n",
      " #   Column                         Non-Null Count  Dtype  \n",
      "---  ------                         --------------  -----  \n",
      " 0   Requirement(MU/DAY)            122 non-null    float64\n",
      " 1   Energy_met(MU/DAY)             122 non-null    float64\n",
      " 2   Surplus(+)/Deficit(-)(MU/DAY)  122 non-null    float64\n",
      " 3   Requirement(MU)                122 non-null    float64\n",
      " 4   Energy_met(MU)                 122 non-null    float64\n",
      " 5   Surplus(+)/Deficit(-)(MU)      122 non-null    float64\n",
      " 6   %Shortage(MU)                  122 non-null    float64\n",
      " 7   Requirement(MW)                122 non-null    float64\n",
      " 8   Peak_Demand_Met5(MW)           122 non-null    float64\n",
      " 9   Surplus(+)/Deficit(-)(MW)      122 non-null    float64\n",
      " 10  %Shortage(MW)                  122 non-null    float64\n",
      " 11  name_report                    122 non-null    object \n",
      " 12  year                           122 non-null    int64  \n",
      " 13  month                          122 non-null    int64  \n",
      " 14  date_published                 122 non-null    object \n",
      " 15  month_published                122 non-null    int64  \n",
      " 16  year_published                 122 non-null    int64  \n",
      "dtypes: float64(11), int64(4), object(2)\n",
      "memory usage: 16.3+ KB\n"
     ]
    }
   ],
   "source": [
    "# data frame is clean, no nulls\n",
    "df.info()"
   ]
  },
  {
   "cell_type": "code",
   "execution_count": 8,
   "metadata": {
    "ExecuteTime": {
     "end_time": "2022-07-27T01:11:52.567031Z",
     "start_time": "2022-07-27T01:11:52.563164Z"
    }
   },
   "outputs": [
    {
     "data": {
      "text/plain": [
       "RangeIndex(start=0, stop=122, step=1)"
      ]
     },
     "execution_count": 8,
     "metadata": {},
     "output_type": "execute_result"
    }
   ],
   "source": [
    "df.index"
   ]
  },
  {
   "cell_type": "code",
   "execution_count": 9,
   "metadata": {
    "ExecuteTime": {
     "end_time": "2022-07-27T01:11:52.588395Z",
     "start_time": "2022-07-27T01:11:52.569057Z"
    }
   },
   "outputs": [],
   "source": [
    "#create unique dates using year and month column\n",
    "df['year']=df['year'].astype(str)\n",
    "df['month']=df['month'].astype(str)\n",
    "df['ts_date'] = df[['year', 'month']].agg('-'.join, axis=1)\n",
    "df['ts_date'] = pd.to_datetime(df['ts_date'], format = '%Y-%m')"
   ]
  },
  {
   "cell_type": "code",
   "execution_count": 10,
   "metadata": {
    "ExecuteTime": {
     "end_time": "2022-07-27T01:11:52.614158Z",
     "start_time": "2022-07-27T01:11:52.591669Z"
    }
   },
   "outputs": [
    {
     "data": {
      "text/html": [
       "<div>\n",
       "<style scoped>\n",
       "    .dataframe tbody tr th:only-of-type {\n",
       "        vertical-align: middle;\n",
       "    }\n",
       "\n",
       "    .dataframe tbody tr th {\n",
       "        vertical-align: top;\n",
       "    }\n",
       "\n",
       "    .dataframe thead th {\n",
       "        text-align: right;\n",
       "    }\n",
       "</style>\n",
       "<table border=\"1\" class=\"dataframe\">\n",
       "  <thead>\n",
       "    <tr style=\"text-align: right;\">\n",
       "      <th></th>\n",
       "      <th>Requirement(MU/DAY)</th>\n",
       "      <th>Energy_met(MU/DAY)</th>\n",
       "      <th>Surplus(+)/Deficit(-)(MU/DAY)</th>\n",
       "      <th>Requirement(MU)</th>\n",
       "      <th>Energy_met(MU)</th>\n",
       "      <th>Surplus(+)/Deficit(-)(MU)</th>\n",
       "      <th>%Shortage(MU)</th>\n",
       "      <th>Requirement(MW)</th>\n",
       "      <th>Peak_Demand_Met5(MW)</th>\n",
       "      <th>Surplus(+)/Deficit(-)(MW)</th>\n",
       "      <th>%Shortage(MW)</th>\n",
       "      <th>name_report</th>\n",
       "      <th>year</th>\n",
       "      <th>month</th>\n",
       "      <th>date_published</th>\n",
       "      <th>month_published</th>\n",
       "      <th>year_published</th>\n",
       "      <th>ts_date</th>\n",
       "    </tr>\n",
       "  </thead>\n",
       "  <tbody>\n",
       "    <tr>\n",
       "      <th>0</th>\n",
       "      <td>354.0</td>\n",
       "      <td>354.0</td>\n",
       "      <td>-0.9</td>\n",
       "      <td>10632.0</td>\n",
       "      <td>10605.0</td>\n",
       "      <td>-26.0</td>\n",
       "      <td>-0.2</td>\n",
       "      <td>17646.0</td>\n",
       "      <td>17563.0</td>\n",
       "      <td>-83.0</td>\n",
       "      <td>-0.5</td>\n",
       "      <td>Monthly_Report_Apr_2022</td>\n",
       "      <td>2022</td>\n",
       "      <td>4</td>\n",
       "      <td>2022-05-23</td>\n",
       "      <td>5</td>\n",
       "      <td>2022</td>\n",
       "      <td>2022-04-01</td>\n",
       "    </tr>\n",
       "    <tr>\n",
       "      <th>1</th>\n",
       "      <td>337.0</td>\n",
       "      <td>337.0</td>\n",
       "      <td>0.0</td>\n",
       "      <td>10459.0</td>\n",
       "      <td>10458.0</td>\n",
       "      <td>-1.0</td>\n",
       "      <td>0.0</td>\n",
       "      <td>16906.0</td>\n",
       "      <td>16906.0</td>\n",
       "      <td>0.0</td>\n",
       "      <td>0.0</td>\n",
       "      <td>Monthly_Report_May_2022</td>\n",
       "      <td>2022</td>\n",
       "      <td>5</td>\n",
       "      <td>2022-06-23</td>\n",
       "      <td>6</td>\n",
       "      <td>2022</td>\n",
       "      <td>2022-05-01</td>\n",
       "    </tr>\n",
       "    <tr>\n",
       "      <th>2</th>\n",
       "      <td>344.0</td>\n",
       "      <td>343.0</td>\n",
       "      <td>-0.3</td>\n",
       "      <td>10657.0</td>\n",
       "      <td>10648.0</td>\n",
       "      <td>-9.0</td>\n",
       "      <td>-0.1</td>\n",
       "      <td>17196.0</td>\n",
       "      <td>17196.0</td>\n",
       "      <td>0.0</td>\n",
       "      <td>0.0</td>\n",
       "      <td>Monthly_Report_Mar_2022</td>\n",
       "      <td>2022</td>\n",
       "      <td>3</td>\n",
       "      <td>2022-04-25</td>\n",
       "      <td>4</td>\n",
       "      <td>2022</td>\n",
       "      <td>2022-03-01</td>\n",
       "    </tr>\n",
       "    <tr>\n",
       "      <th>3</th>\n",
       "      <td>286.0</td>\n",
       "      <td>286.0</td>\n",
       "      <td>0.0</td>\n",
       "      <td>8873.0</td>\n",
       "      <td>8873.0</td>\n",
       "      <td>1.0</td>\n",
       "      <td>0.0</td>\n",
       "      <td>15290.0</td>\n",
       "      <td>15290.0</td>\n",
       "      <td>0.0</td>\n",
       "      <td>0.0</td>\n",
       "      <td>Monthly_Report_Jan_2022</td>\n",
       "      <td>2022</td>\n",
       "      <td>1</td>\n",
       "      <td>2022-02-23</td>\n",
       "      <td>2</td>\n",
       "      <td>2022</td>\n",
       "      <td>2022-01-01</td>\n",
       "    </tr>\n",
       "    <tr>\n",
       "      <th>4</th>\n",
       "      <td>245.0</td>\n",
       "      <td>245.0</td>\n",
       "      <td>0.0</td>\n",
       "      <td>7362.0</td>\n",
       "      <td>7360.0</td>\n",
       "      <td>-1.0</td>\n",
       "      <td>0.0</td>\n",
       "      <td>13501.0</td>\n",
       "      <td>13480.0</td>\n",
       "      <td>-21.0</td>\n",
       "      <td>-0.2</td>\n",
       "      <td>Monthly_Report_Nov_2021</td>\n",
       "      <td>2021</td>\n",
       "      <td>11</td>\n",
       "      <td>2021-12-23</td>\n",
       "      <td>12</td>\n",
       "      <td>2021</td>\n",
       "      <td>2021-11-01</td>\n",
       "    </tr>\n",
       "  </tbody>\n",
       "</table>\n",
       "</div>"
      ],
      "text/plain": [
       "   Requirement(MU/DAY)  Energy_met(MU/DAY)  Surplus(+)/Deficit(-)(MU/DAY)  \\\n",
       "0                354.0               354.0                           -0.9   \n",
       "1                337.0               337.0                            0.0   \n",
       "2                344.0               343.0                           -0.3   \n",
       "3                286.0               286.0                            0.0   \n",
       "4                245.0               245.0                            0.0   \n",
       "\n",
       "   Requirement(MU)  Energy_met(MU)  Surplus(+)/Deficit(-)(MU)  %Shortage(MU)  \\\n",
       "0          10632.0         10605.0                      -26.0           -0.2   \n",
       "1          10459.0         10458.0                       -1.0            0.0   \n",
       "2          10657.0         10648.0                       -9.0           -0.1   \n",
       "3           8873.0          8873.0                        1.0            0.0   \n",
       "4           7362.0          7360.0                       -1.0            0.0   \n",
       "\n",
       "   Requirement(MW)  Peak_Demand_Met5(MW)  Surplus(+)/Deficit(-)(MW)  \\\n",
       "0          17646.0               17563.0                      -83.0   \n",
       "1          16906.0               16906.0                        0.0   \n",
       "2          17196.0               17196.0                        0.0   \n",
       "3          15290.0               15290.0                        0.0   \n",
       "4          13501.0               13480.0                      -21.0   \n",
       "\n",
       "   %Shortage(MW)              name_report  year month date_published  \\\n",
       "0           -0.5  Monthly_Report_Apr_2022  2022     4     2022-05-23   \n",
       "1            0.0  Monthly_Report_May_2022  2022     5     2022-06-23   \n",
       "2            0.0  Monthly_Report_Mar_2022  2022     3     2022-04-25   \n",
       "3            0.0  Monthly_Report_Jan_2022  2022     1     2022-02-23   \n",
       "4           -0.2  Monthly_Report_Nov_2021  2021    11     2021-12-23   \n",
       "\n",
       "   month_published  year_published    ts_date  \n",
       "0                5            2022 2022-04-01  \n",
       "1                6            2022 2022-05-01  \n",
       "2                4            2022 2022-03-01  \n",
       "3                2            2022 2022-01-01  \n",
       "4               12            2021 2021-11-01  "
      ]
     },
     "execution_count": 10,
     "metadata": {},
     "output_type": "execute_result"
    }
   ],
   "source": [
    "df.head()"
   ]
  },
  {
   "cell_type": "code",
   "execution_count": 11,
   "metadata": {
    "ExecuteTime": {
     "end_time": "2022-07-27T01:11:52.619515Z",
     "start_time": "2022-07-27T01:11:52.616230Z"
    }
   },
   "outputs": [],
   "source": [
    "# set index\n",
    "df = df.set_index(['ts_date'])"
   ]
  },
  {
   "cell_type": "code",
   "execution_count": 12,
   "metadata": {
    "ExecuteTime": {
     "end_time": "2022-07-27T01:11:52.644784Z",
     "start_time": "2022-07-27T01:11:52.622456Z"
    }
   },
   "outputs": [
    {
     "data": {
      "text/html": [
       "<div>\n",
       "<style scoped>\n",
       "    .dataframe tbody tr th:only-of-type {\n",
       "        vertical-align: middle;\n",
       "    }\n",
       "\n",
       "    .dataframe tbody tr th {\n",
       "        vertical-align: top;\n",
       "    }\n",
       "\n",
       "    .dataframe thead th {\n",
       "        text-align: right;\n",
       "    }\n",
       "</style>\n",
       "<table border=\"1\" class=\"dataframe\">\n",
       "  <thead>\n",
       "    <tr style=\"text-align: right;\">\n",
       "      <th></th>\n",
       "      <th>Requirement(MU/DAY)</th>\n",
       "      <th>Energy_met(MU/DAY)</th>\n",
       "      <th>Surplus(+)/Deficit(-)(MU/DAY)</th>\n",
       "      <th>Requirement(MU)</th>\n",
       "      <th>Energy_met(MU)</th>\n",
       "      <th>Surplus(+)/Deficit(-)(MU)</th>\n",
       "      <th>%Shortage(MU)</th>\n",
       "      <th>Requirement(MW)</th>\n",
       "      <th>Peak_Demand_Met5(MW)</th>\n",
       "      <th>Surplus(+)/Deficit(-)(MW)</th>\n",
       "      <th>%Shortage(MW)</th>\n",
       "      <th>name_report</th>\n",
       "      <th>year</th>\n",
       "      <th>month</th>\n",
       "      <th>date_published</th>\n",
       "      <th>month_published</th>\n",
       "      <th>year_published</th>\n",
       "    </tr>\n",
       "    <tr>\n",
       "      <th>ts_date</th>\n",
       "      <th></th>\n",
       "      <th></th>\n",
       "      <th></th>\n",
       "      <th></th>\n",
       "      <th></th>\n",
       "      <th></th>\n",
       "      <th></th>\n",
       "      <th></th>\n",
       "      <th></th>\n",
       "      <th></th>\n",
       "      <th></th>\n",
       "      <th></th>\n",
       "      <th></th>\n",
       "      <th></th>\n",
       "      <th></th>\n",
       "      <th></th>\n",
       "      <th></th>\n",
       "    </tr>\n",
       "  </thead>\n",
       "  <tbody>\n",
       "    <tr>\n",
       "      <th>2022-04-01</th>\n",
       "      <td>354.0</td>\n",
       "      <td>354.0</td>\n",
       "      <td>-0.9</td>\n",
       "      <td>10632.0</td>\n",
       "      <td>10605.0</td>\n",
       "      <td>-26.0</td>\n",
       "      <td>-0.2</td>\n",
       "      <td>17646.0</td>\n",
       "      <td>17563.0</td>\n",
       "      <td>-83.0</td>\n",
       "      <td>-0.5</td>\n",
       "      <td>Monthly_Report_Apr_2022</td>\n",
       "      <td>2022</td>\n",
       "      <td>4</td>\n",
       "      <td>2022-05-23</td>\n",
       "      <td>5</td>\n",
       "      <td>2022</td>\n",
       "    </tr>\n",
       "    <tr>\n",
       "      <th>2022-05-01</th>\n",
       "      <td>337.0</td>\n",
       "      <td>337.0</td>\n",
       "      <td>0.0</td>\n",
       "      <td>10459.0</td>\n",
       "      <td>10458.0</td>\n",
       "      <td>-1.0</td>\n",
       "      <td>0.0</td>\n",
       "      <td>16906.0</td>\n",
       "      <td>16906.0</td>\n",
       "      <td>0.0</td>\n",
       "      <td>0.0</td>\n",
       "      <td>Monthly_Report_May_2022</td>\n",
       "      <td>2022</td>\n",
       "      <td>5</td>\n",
       "      <td>2022-06-23</td>\n",
       "      <td>6</td>\n",
       "      <td>2022</td>\n",
       "    </tr>\n",
       "    <tr>\n",
       "      <th>2022-03-01</th>\n",
       "      <td>344.0</td>\n",
       "      <td>343.0</td>\n",
       "      <td>-0.3</td>\n",
       "      <td>10657.0</td>\n",
       "      <td>10648.0</td>\n",
       "      <td>-9.0</td>\n",
       "      <td>-0.1</td>\n",
       "      <td>17196.0</td>\n",
       "      <td>17196.0</td>\n",
       "      <td>0.0</td>\n",
       "      <td>0.0</td>\n",
       "      <td>Monthly_Report_Mar_2022</td>\n",
       "      <td>2022</td>\n",
       "      <td>3</td>\n",
       "      <td>2022-04-25</td>\n",
       "      <td>4</td>\n",
       "      <td>2022</td>\n",
       "    </tr>\n",
       "    <tr>\n",
       "      <th>2022-01-01</th>\n",
       "      <td>286.0</td>\n",
       "      <td>286.0</td>\n",
       "      <td>0.0</td>\n",
       "      <td>8873.0</td>\n",
       "      <td>8873.0</td>\n",
       "      <td>1.0</td>\n",
       "      <td>0.0</td>\n",
       "      <td>15290.0</td>\n",
       "      <td>15290.0</td>\n",
       "      <td>0.0</td>\n",
       "      <td>0.0</td>\n",
       "      <td>Monthly_Report_Jan_2022</td>\n",
       "      <td>2022</td>\n",
       "      <td>1</td>\n",
       "      <td>2022-02-23</td>\n",
       "      <td>2</td>\n",
       "      <td>2022</td>\n",
       "    </tr>\n",
       "    <tr>\n",
       "      <th>2021-11-01</th>\n",
       "      <td>245.0</td>\n",
       "      <td>245.0</td>\n",
       "      <td>0.0</td>\n",
       "      <td>7362.0</td>\n",
       "      <td>7360.0</td>\n",
       "      <td>-1.0</td>\n",
       "      <td>0.0</td>\n",
       "      <td>13501.0</td>\n",
       "      <td>13480.0</td>\n",
       "      <td>-21.0</td>\n",
       "      <td>-0.2</td>\n",
       "      <td>Monthly_Report_Nov_2021</td>\n",
       "      <td>2021</td>\n",
       "      <td>11</td>\n",
       "      <td>2021-12-23</td>\n",
       "      <td>12</td>\n",
       "      <td>2021</td>\n",
       "    </tr>\n",
       "  </tbody>\n",
       "</table>\n",
       "</div>"
      ],
      "text/plain": [
       "            Requirement(MU/DAY)  Energy_met(MU/DAY)  \\\n",
       "ts_date                                               \n",
       "2022-04-01                354.0               354.0   \n",
       "2022-05-01                337.0               337.0   \n",
       "2022-03-01                344.0               343.0   \n",
       "2022-01-01                286.0               286.0   \n",
       "2021-11-01                245.0               245.0   \n",
       "\n",
       "            Surplus(+)/Deficit(-)(MU/DAY)  Requirement(MU)  Energy_met(MU)  \\\n",
       "ts_date                                                                      \n",
       "2022-04-01                           -0.9          10632.0         10605.0   \n",
       "2022-05-01                            0.0          10459.0         10458.0   \n",
       "2022-03-01                           -0.3          10657.0         10648.0   \n",
       "2022-01-01                            0.0           8873.0          8873.0   \n",
       "2021-11-01                            0.0           7362.0          7360.0   \n",
       "\n",
       "            Surplus(+)/Deficit(-)(MU)  %Shortage(MU)  Requirement(MW)  \\\n",
       "ts_date                                                                 \n",
       "2022-04-01                      -26.0           -0.2          17646.0   \n",
       "2022-05-01                       -1.0            0.0          16906.0   \n",
       "2022-03-01                       -9.0           -0.1          17196.0   \n",
       "2022-01-01                        1.0            0.0          15290.0   \n",
       "2021-11-01                       -1.0            0.0          13501.0   \n",
       "\n",
       "            Peak_Demand_Met5(MW)  Surplus(+)/Deficit(-)(MW)  %Shortage(MW)  \\\n",
       "ts_date                                                                      \n",
       "2022-04-01               17563.0                      -83.0           -0.5   \n",
       "2022-05-01               16906.0                        0.0            0.0   \n",
       "2022-03-01               17196.0                        0.0            0.0   \n",
       "2022-01-01               15290.0                        0.0            0.0   \n",
       "2021-11-01               13480.0                      -21.0           -0.2   \n",
       "\n",
       "                        name_report  year month date_published  \\\n",
       "ts_date                                                          \n",
       "2022-04-01  Monthly_Report_Apr_2022  2022     4     2022-05-23   \n",
       "2022-05-01  Monthly_Report_May_2022  2022     5     2022-06-23   \n",
       "2022-03-01  Monthly_Report_Mar_2022  2022     3     2022-04-25   \n",
       "2022-01-01  Monthly_Report_Jan_2022  2022     1     2022-02-23   \n",
       "2021-11-01  Monthly_Report_Nov_2021  2021    11     2021-12-23   \n",
       "\n",
       "            month_published  year_published  \n",
       "ts_date                                      \n",
       "2022-04-01                5            2022  \n",
       "2022-05-01                6            2022  \n",
       "2022-03-01                4            2022  \n",
       "2022-01-01                2            2022  \n",
       "2021-11-01               12            2021  "
      ]
     },
     "execution_count": 12,
     "metadata": {},
     "output_type": "execute_result"
    }
   ],
   "source": [
    "df.head()"
   ]
  },
  {
   "cell_type": "code",
   "execution_count": 13,
   "metadata": {
    "ExecuteTime": {
     "end_time": "2022-07-27T01:11:52.652166Z",
     "start_time": "2022-07-27T01:11:52.647556Z"
    }
   },
   "outputs": [
    {
     "data": {
      "text/plain": [
       "Index(['Requirement(MU/DAY)', 'Energy_met(MU/DAY)',\n",
       "       'Surplus(+)/Deficit(-)(MU/DAY)', 'Requirement(MU)', 'Energy_met(MU)',\n",
       "       'Surplus(+)/Deficit(-)(MU)', '%Shortage(MU)', 'Requirement(MW)',\n",
       "       'Peak_Demand_Met5(MW)', 'Surplus(+)/Deficit(-)(MW)', '%Shortage(MW)',\n",
       "       'name_report', 'year', 'month', 'date_published', 'month_published',\n",
       "       'year_published'],\n",
       "      dtype='object')"
      ]
     },
     "execution_count": 13,
     "metadata": {},
     "output_type": "execute_result"
    }
   ],
   "source": [
    "df.columns"
   ]
  },
  {
   "cell_type": "code",
   "execution_count": 14,
   "metadata": {
    "ExecuteTime": {
     "end_time": "2022-07-27T01:11:52.658586Z",
     "start_time": "2022-07-27T01:11:52.654613Z"
    }
   },
   "outputs": [],
   "source": [
    "# delete all extra columns from the dataframe\n",
    "ts = df.drop(columns=['Requirement(MU/DAY)', 'Energy_met(MU/DAY)',\n",
    "       'Surplus(+)/Deficit(-)(MU/DAY)', 'Requirement(MW)',\n",
    "       'Peak_Demand_Met5(MW)', 'Surplus(+)/Deficit(-)(MW)', '%Shortage(MW)',\n",
    "       'name_report', 'year', 'month', 'date_published', 'month_published',\n",
    "       'year_published'])"
   ]
  },
  {
   "cell_type": "code",
   "execution_count": 15,
   "metadata": {
    "ExecuteTime": {
     "end_time": "2022-07-27T01:11:52.729737Z",
     "start_time": "2022-07-27T01:11:52.706558Z"
    }
   },
   "outputs": [
    {
     "data": {
      "text/html": [
       "<div>\n",
       "<style scoped>\n",
       "    .dataframe tbody tr th:only-of-type {\n",
       "        vertical-align: middle;\n",
       "    }\n",
       "\n",
       "    .dataframe tbody tr th {\n",
       "        vertical-align: top;\n",
       "    }\n",
       "\n",
       "    .dataframe thead th {\n",
       "        text-align: right;\n",
       "    }\n",
       "</style>\n",
       "<table border=\"1\" class=\"dataframe\">\n",
       "  <thead>\n",
       "    <tr style=\"text-align: right;\">\n",
       "      <th></th>\n",
       "      <th>Requirement(MU)</th>\n",
       "      <th>Energy_met(MU)</th>\n",
       "      <th>Surplus(+)/Deficit(-)(MU)</th>\n",
       "      <th>%Shortage(MU)</th>\n",
       "    </tr>\n",
       "    <tr>\n",
       "      <th>ts_date</th>\n",
       "      <th></th>\n",
       "      <th></th>\n",
       "      <th></th>\n",
       "      <th></th>\n",
       "    </tr>\n",
       "  </thead>\n",
       "  <tbody>\n",
       "    <tr>\n",
       "      <th>2022-04-01</th>\n",
       "      <td>10632.0</td>\n",
       "      <td>10605.0</td>\n",
       "      <td>-26.0</td>\n",
       "      <td>-0.2</td>\n",
       "    </tr>\n",
       "    <tr>\n",
       "      <th>2022-05-01</th>\n",
       "      <td>10459.0</td>\n",
       "      <td>10458.0</td>\n",
       "      <td>-1.0</td>\n",
       "      <td>0.0</td>\n",
       "    </tr>\n",
       "    <tr>\n",
       "      <th>2022-03-01</th>\n",
       "      <td>10657.0</td>\n",
       "      <td>10648.0</td>\n",
       "      <td>-9.0</td>\n",
       "      <td>-0.1</td>\n",
       "    </tr>\n",
       "    <tr>\n",
       "      <th>2022-01-01</th>\n",
       "      <td>8873.0</td>\n",
       "      <td>8873.0</td>\n",
       "      <td>1.0</td>\n",
       "      <td>0.0</td>\n",
       "    </tr>\n",
       "    <tr>\n",
       "      <th>2021-11-01</th>\n",
       "      <td>7362.0</td>\n",
       "      <td>7360.0</td>\n",
       "      <td>-1.0</td>\n",
       "      <td>0.0</td>\n",
       "    </tr>\n",
       "  </tbody>\n",
       "</table>\n",
       "</div>"
      ],
      "text/plain": [
       "            Requirement(MU)  Energy_met(MU)  Surplus(+)/Deficit(-)(MU)  \\\n",
       "ts_date                                                                  \n",
       "2022-04-01          10632.0         10605.0                      -26.0   \n",
       "2022-05-01          10459.0         10458.0                       -1.0   \n",
       "2022-03-01          10657.0         10648.0                       -9.0   \n",
       "2022-01-01           8873.0          8873.0                        1.0   \n",
       "2021-11-01           7362.0          7360.0                       -1.0   \n",
       "\n",
       "            %Shortage(MU)  \n",
       "ts_date                    \n",
       "2022-04-01           -0.2  \n",
       "2022-05-01            0.0  \n",
       "2022-03-01           -0.1  \n",
       "2022-01-01            0.0  \n",
       "2021-11-01            0.0  "
      ]
     },
     "execution_count": 15,
     "metadata": {},
     "output_type": "execute_result"
    }
   ],
   "source": [
    "ts.head()"
   ]
  },
  {
   "cell_type": "markdown",
   "metadata": {},
   "source": [
    "## Investigating Time Series with Datetime Objects"
   ]
  },
  {
   "cell_type": "markdown",
   "metadata": {},
   "source": [
    "Datetime objects include aspects of the date as attributes, like month and year:"
   ]
  },
  {
   "cell_type": "code",
   "execution_count": 16,
   "metadata": {
    "ExecuteTime": {
     "end_time": "2022-07-27T01:11:52.739297Z",
     "start_time": "2022-07-27T01:11:52.733460Z"
    }
   },
   "outputs": [
    {
     "data": {
      "text/plain": [
       "Timestamp('2022-04-01 00:00:00')"
      ]
     },
     "execution_count": 16,
     "metadata": {},
     "output_type": "execute_result"
    }
   ],
   "source": [
    "# Entire\n",
    "ts.index[0]"
   ]
  },
  {
   "cell_type": "code",
   "execution_count": 17,
   "metadata": {
    "ExecuteTime": {
     "end_time": "2022-07-27T01:11:52.746280Z",
     "start_time": "2022-07-27T01:11:52.742041Z"
    }
   },
   "outputs": [
    {
     "data": {
      "text/plain": [
       "1"
      ]
     },
     "execution_count": 17,
     "metadata": {},
     "output_type": "execute_result"
    }
   ],
   "source": [
    "# Day\n",
    "ts.index[0].day"
   ]
  },
  {
   "cell_type": "code",
   "execution_count": 18,
   "metadata": {
    "ExecuteTime": {
     "end_time": "2022-07-27T01:11:52.752925Z",
     "start_time": "2022-07-27T01:11:52.748481Z"
    }
   },
   "outputs": [
    {
     "data": {
      "text/plain": [
       "4"
      ]
     },
     "execution_count": 18,
     "metadata": {},
     "output_type": "execute_result"
    }
   ],
   "source": [
    "# Month\n",
    "ts.index[0].month"
   ]
  },
  {
   "cell_type": "code",
   "execution_count": 19,
   "metadata": {
    "ExecuteTime": {
     "end_time": "2022-07-27T01:11:52.763139Z",
     "start_time": "2022-07-27T01:11:52.756227Z"
    }
   },
   "outputs": [
    {
     "data": {
      "text/plain": [
       "2022"
      ]
     },
     "execution_count": 19,
     "metadata": {},
     "output_type": "execute_result"
    }
   ],
   "source": [
    "# Year\n",
    "ts.index[0].year"
   ]
  },
  {
   "cell_type": "code",
   "execution_count": 20,
   "metadata": {
    "ExecuteTime": {
     "end_time": "2022-07-27T01:11:52.769940Z",
     "start_time": "2022-07-27T01:11:52.766347Z"
    }
   },
   "outputs": [],
   "source": [
    "# Sort and reset index\n",
    "ts = ts.sort_index()"
   ]
  },
  {
   "cell_type": "code",
   "execution_count": 21,
   "metadata": {
    "ExecuteTime": {
     "end_time": "2022-07-27T01:11:52.792935Z",
     "start_time": "2022-07-27T01:11:52.780603Z"
    }
   },
   "outputs": [
    {
     "data": {
      "text/html": [
       "<div>\n",
       "<style scoped>\n",
       "    .dataframe tbody tr th:only-of-type {\n",
       "        vertical-align: middle;\n",
       "    }\n",
       "\n",
       "    .dataframe tbody tr th {\n",
       "        vertical-align: top;\n",
       "    }\n",
       "\n",
       "    .dataframe thead th {\n",
       "        text-align: right;\n",
       "    }\n",
       "</style>\n",
       "<table border=\"1\" class=\"dataframe\">\n",
       "  <thead>\n",
       "    <tr style=\"text-align: right;\">\n",
       "      <th></th>\n",
       "      <th>Requirement(MU)</th>\n",
       "      <th>Energy_met(MU)</th>\n",
       "      <th>Surplus(+)/Deficit(-)(MU)</th>\n",
       "      <th>%Shortage(MU)</th>\n",
       "    </tr>\n",
       "    <tr>\n",
       "      <th>ts_date</th>\n",
       "      <th></th>\n",
       "      <th></th>\n",
       "      <th></th>\n",
       "      <th></th>\n",
       "    </tr>\n",
       "  </thead>\n",
       "  <tbody>\n",
       "    <tr>\n",
       "      <th>2012-04-01</th>\n",
       "      <td>7707.0</td>\n",
       "      <td>5940.0</td>\n",
       "      <td>-1767.0</td>\n",
       "      <td>-23.0</td>\n",
       "    </tr>\n",
       "    <tr>\n",
       "      <th>2012-05-01</th>\n",
       "      <td>7605.0</td>\n",
       "      <td>6649.0</td>\n",
       "      <td>-956.0</td>\n",
       "      <td>-13.0</td>\n",
       "    </tr>\n",
       "    <tr>\n",
       "      <th>2012-06-01</th>\n",
       "      <td>7928.0</td>\n",
       "      <td>6893.0</td>\n",
       "      <td>-1035.0</td>\n",
       "      <td>-13.0</td>\n",
       "    </tr>\n",
       "    <tr>\n",
       "      <th>2012-07-01</th>\n",
       "      <td>7981.0</td>\n",
       "      <td>7272.0</td>\n",
       "      <td>-709.0</td>\n",
       "      <td>-9.0</td>\n",
       "    </tr>\n",
       "    <tr>\n",
       "      <th>2012-08-01</th>\n",
       "      <td>7851.0</td>\n",
       "      <td>6773.0</td>\n",
       "      <td>-1078.0</td>\n",
       "      <td>-14.0</td>\n",
       "    </tr>\n",
       "  </tbody>\n",
       "</table>\n",
       "</div>"
      ],
      "text/plain": [
       "            Requirement(MU)  Energy_met(MU)  Surplus(+)/Deficit(-)(MU)  \\\n",
       "ts_date                                                                  \n",
       "2012-04-01           7707.0          5940.0                    -1767.0   \n",
       "2012-05-01           7605.0          6649.0                     -956.0   \n",
       "2012-06-01           7928.0          6893.0                    -1035.0   \n",
       "2012-07-01           7981.0          7272.0                     -709.0   \n",
       "2012-08-01           7851.0          6773.0                    -1078.0   \n",
       "\n",
       "            %Shortage(MU)  \n",
       "ts_date                    \n",
       "2012-04-01          -23.0  \n",
       "2012-05-01          -13.0  \n",
       "2012-06-01          -13.0  \n",
       "2012-07-01           -9.0  \n",
       "2012-08-01          -14.0  "
      ]
     },
     "execution_count": 21,
     "metadata": {},
     "output_type": "execute_result"
    }
   ],
   "source": [
    "ts.head()"
   ]
  },
  {
   "cell_type": "code",
   "execution_count": 22,
   "metadata": {
    "ExecuteTime": {
     "end_time": "2022-07-27T01:11:52.803838Z",
     "start_time": "2022-07-27T01:11:52.799787Z"
    }
   },
   "outputs": [
    {
     "data": {
      "text/plain": [
       "True"
      ]
     },
     "execution_count": 22,
     "metadata": {},
     "output_type": "execute_result"
    }
   ],
   "source": [
    "# check if the index is unique\n",
    "\n",
    "ts.index.is_unique"
   ]
  },
  {
   "cell_type": "code",
   "execution_count": 23,
   "metadata": {
    "ExecuteTime": {
     "end_time": "2022-07-27T01:11:53.010235Z",
     "start_time": "2022-07-27T01:11:52.806418Z"
    }
   },
   "outputs": [
    {
     "data": {
      "image/png": "[encoded data removed]",
      "text/plain": [
       "<Figure size 720x360 with 1 Axes>"
      ]
     },
     "metadata": {
      "needs_background": "light"
     },
     "output_type": "display_data"
    }
   ],
   "source": [
    "# visualize the time series \n",
    "\n",
    "fig, ax = plt.subplots(figsize=(10, 5))\n",
    "ax.plot(ts.index, ts['Surplus(+)/Deficit(-)(MU)'])\n",
    "ax.set_title('Outage per Month')\n",
    "ax.set_ylabel('Outage');"
   ]
  },
  {
   "cell_type": "code",
   "execution_count": 24,
   "metadata": {
    "ExecuteTime": {
     "end_time": "2022-07-27T01:11:53.029991Z",
     "start_time": "2022-07-27T01:11:53.012382Z"
    }
   },
   "outputs": [
    {
     "data": {
      "text/html": [
       "<div>\n",
       "<style scoped>\n",
       "    .dataframe tbody tr th:only-of-type {\n",
       "        vertical-align: middle;\n",
       "    }\n",
       "\n",
       "    .dataframe tbody tr th {\n",
       "        vertical-align: top;\n",
       "    }\n",
       "\n",
       "    .dataframe thead th {\n",
       "        text-align: right;\n",
       "    }\n",
       "</style>\n",
       "<table border=\"1\" class=\"dataframe\">\n",
       "  <thead>\n",
       "    <tr style=\"text-align: right;\">\n",
       "      <th></th>\n",
       "      <th>Requirement(MU)</th>\n",
       "      <th>Energy_met(MU)</th>\n",
       "      <th>Surplus(+)/Deficit(-)(MU)</th>\n",
       "      <th>%Shortage(MU)</th>\n",
       "    </tr>\n",
       "    <tr>\n",
       "      <th>ts_date</th>\n",
       "      <th></th>\n",
       "      <th></th>\n",
       "      <th></th>\n",
       "      <th></th>\n",
       "    </tr>\n",
       "  </thead>\n",
       "  <tbody>\n",
       "    <tr>\n",
       "      <th>2019-01-01</th>\n",
       "      <td>8681.0</td>\n",
       "      <td>8684.0</td>\n",
       "      <td>3.0</td>\n",
       "      <td>0.0</td>\n",
       "    </tr>\n",
       "    <tr>\n",
       "      <th>2019-02-01</th>\n",
       "      <td>8746.0</td>\n",
       "      <td>8747.0</td>\n",
       "      <td>1.0</td>\n",
       "      <td>0.0</td>\n",
       "    </tr>\n",
       "    <tr>\n",
       "      <th>2019-03-01</th>\n",
       "      <td>10548.0</td>\n",
       "      <td>10546.0</td>\n",
       "      <td>-2.0</td>\n",
       "      <td>0.0</td>\n",
       "    </tr>\n",
       "    <tr>\n",
       "      <th>2019-04-01</th>\n",
       "      <td>10308.0</td>\n",
       "      <td>10308.0</td>\n",
       "      <td>0.0</td>\n",
       "      <td>0.0</td>\n",
       "    </tr>\n",
       "    <tr>\n",
       "      <th>2019-05-01</th>\n",
       "      <td>10612.0</td>\n",
       "      <td>10611.0</td>\n",
       "      <td>-1.0</td>\n",
       "      <td>0.0</td>\n",
       "    </tr>\n",
       "    <tr>\n",
       "      <th>2019-06-01</th>\n",
       "      <td>10051.0</td>\n",
       "      <td>10046.0</td>\n",
       "      <td>-5.0</td>\n",
       "      <td>0.0</td>\n",
       "    </tr>\n",
       "    <tr>\n",
       "      <th>2019-07-01</th>\n",
       "      <td>9841.0</td>\n",
       "      <td>9838.0</td>\n",
       "      <td>-3.0</td>\n",
       "      <td>0.0</td>\n",
       "    </tr>\n",
       "    <tr>\n",
       "      <th>2019-08-01</th>\n",
       "      <td>9171.0</td>\n",
       "      <td>9169.0</td>\n",
       "      <td>-2.0</td>\n",
       "      <td>0.0</td>\n",
       "    </tr>\n",
       "    <tr>\n",
       "      <th>2019-09-01</th>\n",
       "      <td>8633.0</td>\n",
       "      <td>8636.0</td>\n",
       "      <td>3.0</td>\n",
       "      <td>0.0</td>\n",
       "    </tr>\n",
       "    <tr>\n",
       "      <th>2019-10-01</th>\n",
       "      <td>8424.0</td>\n",
       "      <td>8427.0</td>\n",
       "      <td>3.0</td>\n",
       "      <td>0.0</td>\n",
       "    </tr>\n",
       "    <tr>\n",
       "      <th>2019-11-01</th>\n",
       "      <td>8246.0</td>\n",
       "      <td>8249.0</td>\n",
       "      <td>3.0</td>\n",
       "      <td>0.0</td>\n",
       "    </tr>\n",
       "    <tr>\n",
       "      <th>2019-12-01</th>\n",
       "      <td>8246.0</td>\n",
       "      <td>7831.0</td>\n",
       "      <td>-415.0</td>\n",
       "      <td>-5.0</td>\n",
       "    </tr>\n",
       "    <tr>\n",
       "      <th>2020-01-01</th>\n",
       "      <td>8544.0</td>\n",
       "      <td>8547.0</td>\n",
       "      <td>3.0</td>\n",
       "      <td>0.0</td>\n",
       "    </tr>\n",
       "    <tr>\n",
       "      <th>2020-02-01</th>\n",
       "      <td>9052.0</td>\n",
       "      <td>9054.0</td>\n",
       "      <td>3.0</td>\n",
       "      <td>0.0</td>\n",
       "    </tr>\n",
       "    <tr>\n",
       "      <th>2020-03-01</th>\n",
       "      <td>9583.0</td>\n",
       "      <td>9586.0</td>\n",
       "      <td>3.0</td>\n",
       "      <td>0.0</td>\n",
       "    </tr>\n",
       "    <tr>\n",
       "      <th>2020-04-01</th>\n",
       "      <td>7287.0</td>\n",
       "      <td>7289.0</td>\n",
       "      <td>3.0</td>\n",
       "      <td>0.0</td>\n",
       "    </tr>\n",
       "    <tr>\n",
       "      <th>2020-05-01</th>\n",
       "      <td>8985.0</td>\n",
       "      <td>8988.0</td>\n",
       "      <td>3.0</td>\n",
       "      <td>0.0</td>\n",
       "    </tr>\n",
       "    <tr>\n",
       "      <th>2020-06-01</th>\n",
       "      <td>9000.0</td>\n",
       "      <td>9003.0</td>\n",
       "      <td>2.0</td>\n",
       "      <td>0.0</td>\n",
       "    </tr>\n",
       "    <tr>\n",
       "      <th>2020-07-01</th>\n",
       "      <td>8355.0</td>\n",
       "      <td>8354.0</td>\n",
       "      <td>-1.0</td>\n",
       "      <td>0.0</td>\n",
       "    </tr>\n",
       "    <tr>\n",
       "      <th>2020-08-01</th>\n",
       "      <td>8698.0</td>\n",
       "      <td>8696.0</td>\n",
       "      <td>-2.0</td>\n",
       "      <td>0.0</td>\n",
       "    </tr>\n",
       "    <tr>\n",
       "      <th>2020-09-01</th>\n",
       "      <td>8435.0</td>\n",
       "      <td>8435.0</td>\n",
       "      <td>0.0</td>\n",
       "      <td>0.0</td>\n",
       "    </tr>\n",
       "    <tr>\n",
       "      <th>2020-10-01</th>\n",
       "      <td>9183.0</td>\n",
       "      <td>9185.0</td>\n",
       "      <td>1.0</td>\n",
       "      <td>0.0</td>\n",
       "    </tr>\n",
       "    <tr>\n",
       "      <th>2020-11-01</th>\n",
       "      <td>7982.0</td>\n",
       "      <td>7984.0</td>\n",
       "      <td>1.0</td>\n",
       "      <td>0.0</td>\n",
       "    </tr>\n",
       "    <tr>\n",
       "      <th>2020-12-01</th>\n",
       "      <td>8033.0</td>\n",
       "      <td>8035.0</td>\n",
       "      <td>2.0</td>\n",
       "      <td>0.0</td>\n",
       "    </tr>\n",
       "    <tr>\n",
       "      <th>2021-01-01</th>\n",
       "      <td>7886.0</td>\n",
       "      <td>7887.0</td>\n",
       "      <td>1.0</td>\n",
       "      <td>0.0</td>\n",
       "    </tr>\n",
       "    <tr>\n",
       "      <th>2021-02-01</th>\n",
       "      <td>8368.0</td>\n",
       "      <td>8367.0</td>\n",
       "      <td>-1.0</td>\n",
       "      <td>0.0</td>\n",
       "    </tr>\n",
       "    <tr>\n",
       "      <th>2021-03-01</th>\n",
       "      <td>9476.0</td>\n",
       "      <td>9477.0</td>\n",
       "      <td>1.0</td>\n",
       "      <td>0.0</td>\n",
       "    </tr>\n",
       "    <tr>\n",
       "      <th>2021-04-01</th>\n",
       "      <td>9781.0</td>\n",
       "      <td>9779.0</td>\n",
       "      <td>-2.0</td>\n",
       "      <td>0.0</td>\n",
       "    </tr>\n",
       "    <tr>\n",
       "      <th>2021-05-01</th>\n",
       "      <td>9295.0</td>\n",
       "      <td>9293.0</td>\n",
       "      <td>-2.0</td>\n",
       "      <td>0.0</td>\n",
       "    </tr>\n",
       "    <tr>\n",
       "      <th>2021-06-01</th>\n",
       "      <td>9368.0</td>\n",
       "      <td>9366.0</td>\n",
       "      <td>-2.0</td>\n",
       "      <td>0.0</td>\n",
       "    </tr>\n",
       "    <tr>\n",
       "      <th>2021-07-01</th>\n",
       "      <td>9599.0</td>\n",
       "      <td>9602.0</td>\n",
       "      <td>2.0</td>\n",
       "      <td>0.0</td>\n",
       "    </tr>\n",
       "    <tr>\n",
       "      <th>2021-08-01</th>\n",
       "      <td>10010.0</td>\n",
       "      <td>10008.0</td>\n",
       "      <td>-2.0</td>\n",
       "      <td>0.0</td>\n",
       "    </tr>\n",
       "    <tr>\n",
       "      <th>2021-09-01</th>\n",
       "      <td>9431.0</td>\n",
       "      <td>9434.0</td>\n",
       "      <td>3.0</td>\n",
       "      <td>0.0</td>\n",
       "    </tr>\n",
       "    <tr>\n",
       "      <th>2021-10-01</th>\n",
       "      <td>9067.0</td>\n",
       "      <td>9062.0</td>\n",
       "      <td>-5.0</td>\n",
       "      <td>-0.1</td>\n",
       "    </tr>\n",
       "    <tr>\n",
       "      <th>2021-11-01</th>\n",
       "      <td>7362.0</td>\n",
       "      <td>7360.0</td>\n",
       "      <td>-1.0</td>\n",
       "      <td>0.0</td>\n",
       "    </tr>\n",
       "    <tr>\n",
       "      <th>2021-12-01</th>\n",
       "      <td>8590.0</td>\n",
       "      <td>8590.0</td>\n",
       "      <td>1.0</td>\n",
       "      <td>0.0</td>\n",
       "    </tr>\n",
       "    <tr>\n",
       "      <th>2022-01-01</th>\n",
       "      <td>8873.0</td>\n",
       "      <td>8873.0</td>\n",
       "      <td>1.0</td>\n",
       "      <td>0.0</td>\n",
       "    </tr>\n",
       "    <tr>\n",
       "      <th>2022-02-01</th>\n",
       "      <td>9028.0</td>\n",
       "      <td>9028.0</td>\n",
       "      <td>0.0</td>\n",
       "      <td>0.0</td>\n",
       "    </tr>\n",
       "    <tr>\n",
       "      <th>2022-03-01</th>\n",
       "      <td>10657.0</td>\n",
       "      <td>10648.0</td>\n",
       "      <td>-9.0</td>\n",
       "      <td>-0.1</td>\n",
       "    </tr>\n",
       "    <tr>\n",
       "      <th>2022-04-01</th>\n",
       "      <td>10632.0</td>\n",
       "      <td>10605.0</td>\n",
       "      <td>-26.0</td>\n",
       "      <td>-0.2</td>\n",
       "    </tr>\n",
       "    <tr>\n",
       "      <th>2022-05-01</th>\n",
       "      <td>10459.0</td>\n",
       "      <td>10458.0</td>\n",
       "      <td>-1.0</td>\n",
       "      <td>0.0</td>\n",
       "    </tr>\n",
       "  </tbody>\n",
       "</table>\n",
       "</div>"
      ],
      "text/plain": [
       "            Requirement(MU)  Energy_met(MU)  Surplus(+)/Deficit(-)(MU)  \\\n",
       "ts_date                                                                  \n",
       "2019-01-01           8681.0          8684.0                        3.0   \n",
       "2019-02-01           8746.0          8747.0                        1.0   \n",
       "2019-03-01          10548.0         10546.0                       -2.0   \n",
       "2019-04-01          10308.0         10308.0                        0.0   \n",
       "2019-05-01          10612.0         10611.0                       -1.0   \n",
       "2019-06-01          10051.0         10046.0                       -5.0   \n",
       "2019-07-01           9841.0          9838.0                       -3.0   \n",
       "2019-08-01           9171.0          9169.0                       -2.0   \n",
       "2019-09-01           8633.0          8636.0                        3.0   \n",
       "2019-10-01           8424.0          8427.0                        3.0   \n",
       "2019-11-01           8246.0          8249.0                        3.0   \n",
       "2019-12-01           8246.0          7831.0                     -415.0   \n",
       "2020-01-01           8544.0          8547.0                        3.0   \n",
       "2020-02-01           9052.0          9054.0                        3.0   \n",
       "2020-03-01           9583.0          9586.0                        3.0   \n",
       "2020-04-01           7287.0          7289.0                        3.0   \n",
       "2020-05-01           8985.0          8988.0                        3.0   \n",
       "2020-06-01           9000.0          9003.0                        2.0   \n",
       "2020-07-01           8355.0          8354.0                       -1.0   \n",
       "2020-08-01           8698.0          8696.0                       -2.0   \n",
       "2020-09-01           8435.0          8435.0                        0.0   \n",
       "2020-10-01           9183.0          9185.0                        1.0   \n",
       "2020-11-01           7982.0          7984.0                        1.0   \n",
       "2020-12-01           8033.0          8035.0                        2.0   \n",
       "2021-01-01           7886.0          7887.0                        1.0   \n",
       "2021-02-01           8368.0          8367.0                       -1.0   \n",
       "2021-03-01           9476.0          9477.0                        1.0   \n",
       "2021-04-01           9781.0          9779.0                       -2.0   \n",
       "2021-05-01           9295.0          9293.0                       -2.0   \n",
       "2021-06-01           9368.0          9366.0                       -2.0   \n",
       "2021-07-01           9599.0          9602.0                        2.0   \n",
       "2021-08-01          10010.0         10008.0                       -2.0   \n",
       "2021-09-01           9431.0          9434.0                        3.0   \n",
       "2021-10-01           9067.0          9062.0                       -5.0   \n",
       "2021-11-01           7362.0          7360.0                       -1.0   \n",
       "2021-12-01           8590.0          8590.0                        1.0   \n",
       "2022-01-01           8873.0          8873.0                        1.0   \n",
       "2022-02-01           9028.0          9028.0                        0.0   \n",
       "2022-03-01          10657.0         10648.0                       -9.0   \n",
       "2022-04-01          10632.0         10605.0                      -26.0   \n",
       "2022-05-01          10459.0         10458.0                       -1.0   \n",
       "\n",
       "            %Shortage(MU)  \n",
       "ts_date                    \n",
       "2019-01-01            0.0  \n",
       "2019-02-01            0.0  \n",
       "2019-03-01            0.0  \n",
       "2019-04-01            0.0  \n",
       "2019-05-01            0.0  \n",
       "2019-06-01            0.0  \n",
       "2019-07-01            0.0  \n",
       "2019-08-01            0.0  \n",
       "2019-09-01            0.0  \n",
       "2019-10-01            0.0  \n",
       "2019-11-01            0.0  \n",
       "2019-12-01           -5.0  \n",
       "2020-01-01            0.0  \n",
       "2020-02-01            0.0  \n",
       "2020-03-01            0.0  \n",
       "2020-04-01            0.0  \n",
       "2020-05-01            0.0  \n",
       "2020-06-01            0.0  \n",
       "2020-07-01            0.0  \n",
       "2020-08-01            0.0  \n",
       "2020-09-01            0.0  \n",
       "2020-10-01            0.0  \n",
       "2020-11-01            0.0  \n",
       "2020-12-01            0.0  \n",
       "2021-01-01            0.0  \n",
       "2021-02-01            0.0  \n",
       "2021-03-01            0.0  \n",
       "2021-04-01            0.0  \n",
       "2021-05-01            0.0  \n",
       "2021-06-01            0.0  \n",
       "2021-07-01            0.0  \n",
       "2021-08-01            0.0  \n",
       "2021-09-01            0.0  \n",
       "2021-10-01           -0.1  \n",
       "2021-11-01            0.0  \n",
       "2021-12-01            0.0  \n",
       "2022-01-01            0.0  \n",
       "2022-02-01            0.0  \n",
       "2022-03-01           -0.1  \n",
       "2022-04-01           -0.2  \n",
       "2022-05-01            0.0  "
      ]
     },
     "execution_count": 24,
     "metadata": {},
     "output_type": "execute_result"
    }
   ],
   "source": [
    "timeperiod = ts[ts.index > '2018-12-01']\n",
    "timeperiod"
   ]
  },
  {
   "cell_type": "code",
   "execution_count": 25,
   "metadata": {
    "ExecuteTime": {
     "end_time": "2022-07-27T01:11:53.203471Z",
     "start_time": "2022-07-27T01:11:53.032518Z"
    }
   },
   "outputs": [
    {
     "data": {
      "image/png": "[encoded data removed]",
      "text/plain": [
       "<Figure size 720x360 with 1 Axes>"
      ]
     },
     "metadata": {
      "needs_background": "light"
     },
     "output_type": "display_data"
    }
   ],
   "source": [
    "# check the major dip in 2019\n",
    "\n",
    "fig, ax = plt.subplots(figsize=(10, 5))\n",
    "timeperiod = ts[(ts.index > '2018-12-01') & (ts.index < '2020-01-01')]\n",
    "ax.plot(timeperiod.index, timeperiod['Surplus(+)/Deficit(-)(MU)'])\n",
    "ax.set_title('Outage per Month')\n",
    "ax.set_ylabel('Outage');"
   ]
  },
  {
   "cell_type": "code",
   "execution_count": 26,
   "metadata": {
    "ExecuteTime": {
     "end_time": "2022-07-27T01:11:53.215488Z",
     "start_time": "2022-07-27T01:11:53.205658Z"
    }
   },
   "outputs": [
    {
     "data": {
      "text/html": [
       "<div>\n",
       "<style scoped>\n",
       "    .dataframe tbody tr th:only-of-type {\n",
       "        vertical-align: middle;\n",
       "    }\n",
       "\n",
       "    .dataframe tbody tr th {\n",
       "        vertical-align: top;\n",
       "    }\n",
       "\n",
       "    .dataframe thead th {\n",
       "        text-align: right;\n",
       "    }\n",
       "</style>\n",
       "<table border=\"1\" class=\"dataframe\">\n",
       "  <thead>\n",
       "    <tr style=\"text-align: right;\">\n",
       "      <th></th>\n",
       "      <th>Requirement(MU)</th>\n",
       "      <th>Energy_met(MU)</th>\n",
       "      <th>Surplus(+)/Deficit(-)(MU)</th>\n",
       "      <th>%Shortage(MU)</th>\n",
       "    </tr>\n",
       "    <tr>\n",
       "      <th>ts_date</th>\n",
       "      <th></th>\n",
       "      <th></th>\n",
       "      <th></th>\n",
       "      <th></th>\n",
       "    </tr>\n",
       "  </thead>\n",
       "  <tbody>\n",
       "    <tr>\n",
       "      <th>2019-12-01</th>\n",
       "      <td>8246.0</td>\n",
       "      <td>7831.0</td>\n",
       "      <td>-415.0</td>\n",
       "      <td>-5.0</td>\n",
       "    </tr>\n",
       "  </tbody>\n",
       "</table>\n",
       "</div>"
      ],
      "text/plain": [
       "            Requirement(MU)  Energy_met(MU)  Surplus(+)/Deficit(-)(MU)  \\\n",
       "ts_date                                                                  \n",
       "2019-12-01           8246.0          7831.0                     -415.0   \n",
       "\n",
       "            %Shortage(MU)  \n",
       "ts_date                    \n",
       "2019-12-01           -5.0  "
      ]
     },
     "execution_count": 26,
     "metadata": {},
     "output_type": "execute_result"
    }
   ],
   "source": [
    "# check the column for 2019-12 month\n",
    "\n",
    "ts[ts.index == '2019-12-01']\n",
    "\n",
    "# is this a data error or an outlier?"
   ]
  },
  {
   "cell_type": "code",
   "execution_count": 27,
   "metadata": {
    "ExecuteTime": {
     "end_time": "2022-07-27T01:11:53.227394Z",
     "start_time": "2022-07-27T01:11:53.217986Z"
    }
   },
   "outputs": [
    {
     "data": {
      "text/plain": [
       "ts_date\n",
       "2012-04-01   -1767.0\n",
       "2012-05-01    -956.0\n",
       "2012-06-01   -1035.0\n",
       "2012-07-01    -709.0\n",
       "2012-08-01   -1078.0\n",
       "2012-09-01   -1383.0\n",
       "2012-10-01   -1658.0\n",
       "2012-11-01   -1647.0\n",
       "2012-12-01   -1860.0\n",
       "2013-01-01   -1192.0\n",
       "2013-02-01   -1290.0\n",
       "2013-03-01   -1600.0\n",
       "2013-04-01   -1429.0\n",
       "2013-05-01    -885.0\n",
       "2013-06-01    -289.0\n",
       "2013-07-01    -216.0\n",
       "2013-08-01    -242.0\n",
       "2013-09-01    -130.0\n",
       "2013-10-01    -224.0\n",
       "2013-11-01    -764.0\n",
       "2013-12-01    -410.0\n",
       "2014-01-01    -176.0\n",
       "2014-02-01    -330.0\n",
       "2014-03-01    -450.0\n",
       "2014-04-01    -663.0\n",
       "2014-05-01    -300.0\n",
       "2014-06-01     -67.0\n",
       "2014-07-01     -25.0\n",
       "2014-08-01     -63.5\n",
       "2014-09-01    -164.3\n",
       "2014-10-01    -316.0\n",
       "2014-11-01    -147.8\n",
       "2014-12-01    -319.0\n",
       "2015-01-01    -264.0\n",
       "2015-02-01    -225.0\n",
       "2015-03-01    -301.0\n",
       "2015-04-01    -249.2\n",
       "2015-05-01    -216.7\n",
       "2015-06-01     -45.2\n",
       "2015-07-01     -51.4\n",
       "2015-08-01      -4.2\n",
       "2015-09-01    -125.2\n",
       "2015-10-01      -6.2\n",
       "2015-11-01      -2.9\n",
       "2015-12-01      -6.9\n",
       "2016-01-01      -0.9\n",
       "2016-02-01       1.0\n",
       "2016-03-01      -1.8\n",
       "2016-04-01      -5.1\n",
       "2016-05-01       1.2\n",
       "2016-06-01      -1.7\n",
       "2016-07-01       0.0\n",
       "2016-08-01       0.0\n",
       "2016-09-01      -0.7\n",
       "2016-10-01      -1.3\n",
       "2016-11-01      -2.9\n",
       "2016-12-01      -3.4\n",
       "2017-01-01       0.8\n",
       "2017-02-01       0.2\n",
       "2017-03-01      -3.4\n",
       "2017-04-01      -3.6\n",
       "2017-05-01      -2.5\n",
       "2017-06-01      -0.5\n",
       "2017-07-01      -1.5\n",
       "2017-08-01      -2.6\n",
       "2017-09-01      -7.4\n",
       "2017-10-01      -9.1\n",
       "2017-11-01      -9.2\n",
       "2017-12-01      -6.5\n",
       "2018-01-01      -6.9\n",
       "2018-02-01      -6.1\n",
       "2018-03-01      -9.6\n",
       "2018-04-01      -8.6\n",
       "2018-05-01     -14.5\n",
       "2018-06-01      -7.0\n",
       "2018-07-01      -6.3\n",
       "2018-08-01      -5.8\n",
       "2018-09-01      -9.4\n",
       "2018-10-01      -7.9\n",
       "2018-11-01      -8.0\n",
       "2018-12-01      -4.0\n",
       "2019-01-01       3.0\n",
       "2019-02-01       1.0\n",
       "2019-03-01      -2.0\n",
       "2019-04-01       0.0\n",
       "2019-05-01      -1.0\n",
       "2019-06-01      -5.0\n",
       "2019-07-01      -3.0\n",
       "2019-08-01      -2.0\n",
       "2019-09-01       3.0\n",
       "2019-10-01       3.0\n",
       "2019-11-01       3.0\n",
       "2019-12-01    -415.0\n",
       "2020-01-01       3.0\n",
       "2020-02-01       3.0\n",
       "2020-03-01       3.0\n",
       "2020-04-01       3.0\n",
       "2020-05-01       3.0\n",
       "2020-06-01       2.0\n",
       "2020-07-01      -1.0\n",
       "2020-08-01      -2.0\n",
       "2020-09-01       0.0\n",
       "2020-10-01       1.0\n",
       "2020-11-01       1.0\n",
       "2020-12-01       2.0\n",
       "2021-01-01       1.0\n",
       "2021-02-01      -1.0\n",
       "2021-03-01       1.0\n",
       "2021-04-01      -2.0\n",
       "2021-05-01      -2.0\n",
       "2021-06-01      -2.0\n",
       "2021-07-01       2.0\n",
       "2021-08-01      -2.0\n",
       "2021-09-01       3.0\n",
       "2021-10-01      -5.0\n",
       "2021-11-01      -1.0\n",
       "2021-12-01       1.0\n",
       "2022-01-01       1.0\n",
       "2022-02-01       0.0\n",
       "2022-03-01      -9.0\n",
       "2022-04-01     -26.0\n",
       "2022-05-01      -1.0\n",
       "Name: Surplus(+)/Deficit(-)(MU), dtype: float64"
      ]
     },
     "execution_count": 27,
     "metadata": {},
     "output_type": "execute_result"
    }
   ],
   "source": [
    "# create time series data with only date as index and Surplus/Deficit as the only column\n",
    "\n",
    "ts_new = ts['Surplus(+)/Deficit(-)(MU)']\n",
    "ts_new"
   ]
  },
  {
   "cell_type": "code",
   "execution_count": 28,
   "metadata": {
    "ExecuteTime": {
     "end_time": "2022-07-27T01:11:53.548192Z",
     "start_time": "2022-07-27T01:11:53.229543Z"
    }
   },
   "outputs": [
    {
     "data": {
      "text/plain": [
       "<AxesSubplot:xlabel='ts_date'>"
      ]
     },
     "execution_count": 28,
     "metadata": {},
     "output_type": "execute_result"
    },
    {
     "data": {
      "image/png": "[encoded data removed]",
      "text/plain": [
       "<Figure size 1080x720 with 1 Axes>"
      ]
     },
     "metadata": {
      "needs_background": "light"
     },
     "output_type": "display_data"
    }
   ],
   "source": [
    "# lineplot\n",
    "\n",
    "ts_new.plot(figsize=(15,10))"
   ]
  },
  {
   "cell_type": "code",
   "execution_count": 29,
   "metadata": {
    "ExecuteTime": {
     "end_time": "2022-07-27T01:14:16.878010Z",
     "start_time": "2022-07-27T01:14:16.852794Z"
    }
   },
   "outputs": [
    {
     "data": {
      "text/html": [
       "<div>\n",
       "<style scoped>\n",
       "    .dataframe tbody tr th:only-of-type {\n",
       "        vertical-align: middle;\n",
       "    }\n",
       "\n",
       "    .dataframe tbody tr th {\n",
       "        vertical-align: top;\n",
       "    }\n",
       "\n",
       "    .dataframe thead th {\n",
       "        text-align: right;\n",
       "    }\n",
       "</style>\n",
       "<table border=\"1\" class=\"dataframe\">\n",
       "  <thead>\n",
       "    <tr style=\"text-align: right;\">\n",
       "      <th></th>\n",
       "      <th>2013</th>\n",
       "      <th>2014</th>\n",
       "      <th>2015</th>\n",
       "      <th>2016</th>\n",
       "      <th>2017</th>\n",
       "      <th>2018</th>\n",
       "      <th>2019</th>\n",
       "      <th>2020</th>\n",
       "      <th>2021</th>\n",
       "    </tr>\n",
       "  </thead>\n",
       "  <tbody>\n",
       "    <tr>\n",
       "      <th>0</th>\n",
       "      <td>-1192.0</td>\n",
       "      <td>-176.0</td>\n",
       "      <td>-264.0</td>\n",
       "      <td>-0.9</td>\n",
       "      <td>0.8</td>\n",
       "      <td>-6.9</td>\n",
       "      <td>3.0</td>\n",
       "      <td>3.0</td>\n",
       "      <td>1.0</td>\n",
       "    </tr>\n",
       "    <tr>\n",
       "      <th>1</th>\n",
       "      <td>-1290.0</td>\n",
       "      <td>-330.0</td>\n",
       "      <td>-225.0</td>\n",
       "      <td>1.0</td>\n",
       "      <td>0.2</td>\n",
       "      <td>-6.1</td>\n",
       "      <td>1.0</td>\n",
       "      <td>3.0</td>\n",
       "      <td>-1.0</td>\n",
       "    </tr>\n",
       "    <tr>\n",
       "      <th>2</th>\n",
       "      <td>-1600.0</td>\n",
       "      <td>-450.0</td>\n",
       "      <td>-301.0</td>\n",
       "      <td>-1.8</td>\n",
       "      <td>-3.4</td>\n",
       "      <td>-9.6</td>\n",
       "      <td>-2.0</td>\n",
       "      <td>3.0</td>\n",
       "      <td>1.0</td>\n",
       "    </tr>\n",
       "    <tr>\n",
       "      <th>3</th>\n",
       "      <td>-1429.0</td>\n",
       "      <td>-663.0</td>\n",
       "      <td>-249.2</td>\n",
       "      <td>-5.1</td>\n",
       "      <td>-3.6</td>\n",
       "      <td>-8.6</td>\n",
       "      <td>0.0</td>\n",
       "      <td>3.0</td>\n",
       "      <td>-2.0</td>\n",
       "    </tr>\n",
       "    <tr>\n",
       "      <th>4</th>\n",
       "      <td>-885.0</td>\n",
       "      <td>-300.0</td>\n",
       "      <td>-216.7</td>\n",
       "      <td>1.2</td>\n",
       "      <td>-2.5</td>\n",
       "      <td>-14.5</td>\n",
       "      <td>-1.0</td>\n",
       "      <td>3.0</td>\n",
       "      <td>-2.0</td>\n",
       "    </tr>\n",
       "    <tr>\n",
       "      <th>5</th>\n",
       "      <td>-289.0</td>\n",
       "      <td>-67.0</td>\n",
       "      <td>-45.2</td>\n",
       "      <td>-1.7</td>\n",
       "      <td>-0.5</td>\n",
       "      <td>-7.0</td>\n",
       "      <td>-5.0</td>\n",
       "      <td>2.0</td>\n",
       "      <td>-2.0</td>\n",
       "    </tr>\n",
       "    <tr>\n",
       "      <th>6</th>\n",
       "      <td>-216.0</td>\n",
       "      <td>-25.0</td>\n",
       "      <td>-51.4</td>\n",
       "      <td>0.0</td>\n",
       "      <td>-1.5</td>\n",
       "      <td>-6.3</td>\n",
       "      <td>-3.0</td>\n",
       "      <td>-1.0</td>\n",
       "      <td>2.0</td>\n",
       "    </tr>\n",
       "    <tr>\n",
       "      <th>7</th>\n",
       "      <td>-242.0</td>\n",
       "      <td>-63.5</td>\n",
       "      <td>-4.2</td>\n",
       "      <td>0.0</td>\n",
       "      <td>-2.6</td>\n",
       "      <td>-5.8</td>\n",
       "      <td>-2.0</td>\n",
       "      <td>-2.0</td>\n",
       "      <td>-2.0</td>\n",
       "    </tr>\n",
       "    <tr>\n",
       "      <th>8</th>\n",
       "      <td>-130.0</td>\n",
       "      <td>-164.3</td>\n",
       "      <td>-125.2</td>\n",
       "      <td>-0.7</td>\n",
       "      <td>-7.4</td>\n",
       "      <td>-9.4</td>\n",
       "      <td>3.0</td>\n",
       "      <td>0.0</td>\n",
       "      <td>3.0</td>\n",
       "    </tr>\n",
       "    <tr>\n",
       "      <th>9</th>\n",
       "      <td>-224.0</td>\n",
       "      <td>-316.0</td>\n",
       "      <td>-6.2</td>\n",
       "      <td>-1.3</td>\n",
       "      <td>-9.1</td>\n",
       "      <td>-7.9</td>\n",
       "      <td>3.0</td>\n",
       "      <td>1.0</td>\n",
       "      <td>-5.0</td>\n",
       "    </tr>\n",
       "    <tr>\n",
       "      <th>10</th>\n",
       "      <td>-764.0</td>\n",
       "      <td>-147.8</td>\n",
       "      <td>-2.9</td>\n",
       "      <td>-2.9</td>\n",
       "      <td>-9.2</td>\n",
       "      <td>-8.0</td>\n",
       "      <td>3.0</td>\n",
       "      <td>1.0</td>\n",
       "      <td>-1.0</td>\n",
       "    </tr>\n",
       "    <tr>\n",
       "      <th>11</th>\n",
       "      <td>-410.0</td>\n",
       "      <td>-319.0</td>\n",
       "      <td>-6.9</td>\n",
       "      <td>-3.4</td>\n",
       "      <td>-6.5</td>\n",
       "      <td>-4.0</td>\n",
       "      <td>-415.0</td>\n",
       "      <td>2.0</td>\n",
       "      <td>1.0</td>\n",
       "    </tr>\n",
       "  </tbody>\n",
       "</table>\n",
       "</div>"
      ],
      "text/plain": [
       "      2013   2014   2015  2016  2017  2018   2019  2020  2021\n",
       "0  -1192.0 -176.0 -264.0  -0.9   0.8  -6.9    3.0   3.0   1.0\n",
       "1  -1290.0 -330.0 -225.0   1.0   0.2  -6.1    1.0   3.0  -1.0\n",
       "2  -1600.0 -450.0 -301.0  -1.8  -3.4  -9.6   -2.0   3.0   1.0\n",
       "3  -1429.0 -663.0 -249.2  -5.1  -3.6  -8.6    0.0   3.0  -2.0\n",
       "4   -885.0 -300.0 -216.7   1.2  -2.5 -14.5   -1.0   3.0  -2.0\n",
       "5   -289.0  -67.0  -45.2  -1.7  -0.5  -7.0   -5.0   2.0  -2.0\n",
       "6   -216.0  -25.0  -51.4   0.0  -1.5  -6.3   -3.0  -1.0   2.0\n",
       "7   -242.0  -63.5   -4.2   0.0  -2.6  -5.8   -2.0  -2.0  -2.0\n",
       "8   -130.0 -164.3 -125.2  -0.7  -7.4  -9.4    3.0   0.0   3.0\n",
       "9   -224.0 -316.0   -6.2  -1.3  -9.1  -7.9    3.0   1.0  -5.0\n",
       "10  -764.0 -147.8   -2.9  -2.9  -9.2  -8.0    3.0   1.0  -1.0\n",
       "11  -410.0 -319.0   -6.9  -3.4  -6.5  -4.0 -415.0   2.0   1.0"
      ]
     },
     "execution_count": 29,
     "metadata": {},
     "output_type": "execute_result"
    }
   ],
   "source": [
    "# Generate a box and whiskers plot for ts_new dataframe to see the distribution over time\n",
    "\n",
    "year_groups = ts_new[(ts_new.index>'2012-12-01') & (ts_new.index<'2022-01-01')].groupby(pd.Grouper(freq='A'))\n",
    "ts_annual = pd.DataFrame()\n",
    "\n",
    "for yr, group in year_groups:\n",
    "    ts_annual[yr.year] = group.values.ravel()\n",
    "ts_annual"
   ]
  },
  {
   "cell_type": "code",
   "execution_count": 30,
   "metadata": {
    "ExecuteTime": {
     "end_time": "2022-07-27T01:14:32.091914Z",
     "start_time": "2022-07-27T01:14:31.782204Z"
    }
   },
   "outputs": [
    {
     "data": {
      "text/plain": [
       "<AxesSubplot:>"
      ]
     },
     "execution_count": 30,
     "metadata": {},
     "output_type": "execute_result"
    },
    {
     "data": {
      "image/png": "[encoded data removed]",
      "text/plain": [
       "<Figure size 720x432 with 1 Axes>"
      ]
     },
     "metadata": {
      "needs_background": "light"
     },
     "output_type": "display_data"
    }
   ],
   "source": [
    "ts_annual.boxplot(figsize=(10,6))"
   ]
  },
  {
   "cell_type": "markdown",
   "metadata": {},
   "source": [
    "#### Dickey-Fuller Test"
   ]
  },
  {
   "cell_type": "code",
   "execution_count": 31,
   "metadata": {
    "ExecuteTime": {
     "end_time": "2022-07-27T01:16:56.098238Z",
     "start_time": "2022-07-27T01:16:56.094218Z"
    }
   },
   "outputs": [],
   "source": [
    "def display_df(dftest):\n",
    "    '''\n",
    "    Display the output from a Dickey-Fuller test in a more readable format\n",
    "    '''\n",
    "    \n",
    "    \n",
    "    dfoutput = pd.Series(\n",
    "                dftest[0:4], \n",
    "                index=['Test Statistic','p-value','#Lags Used','Number of Observations Used'])\n",
    "\n",
    "    for key,value in dftest[4].items():\n",
    "        dfoutput['Critical Value (%s)'%key] = value\n",
    "\n",
    "    display(dfoutput)"
   ]
  },
  {
   "cell_type": "code",
   "execution_count": 32,
   "metadata": {
    "ExecuteTime": {
     "end_time": "2022-07-27T01:17:39.132294Z",
     "start_time": "2022-07-27T01:17:39.117210Z"
    }
   },
   "outputs": [],
   "source": [
    "# Dickey-Fuller\n",
    "\n",
    "dftest = adfuller(ts_new)"
   ]
  },
  {
   "cell_type": "code",
   "execution_count": 33,
   "metadata": {
    "ExecuteTime": {
     "end_time": "2022-07-27T01:17:41.865721Z",
     "start_time": "2022-07-27T01:17:41.861892Z"
    }
   },
   "outputs": [
    {
     "data": {
      "text/plain": [
       "(-10.702085518665964,\n",
       " 3.5023390635115926e-19,\n",
       " 12,\n",
       " 109,\n",
       " {'1%': -3.49181775886872,\n",
       "  '5%': -2.8884437992971588,\n",
       "  '10%': -2.5811201893779985},\n",
       " 1255.7726419747537)"
      ]
     },
     "execution_count": 33,
     "metadata": {},
     "output_type": "execute_result"
    }
   ],
   "source": [
    "dftest"
   ]
  },
  {
   "cell_type": "code",
   "execution_count": 34,
   "metadata": {
    "ExecuteTime": {
     "end_time": "2022-07-27T01:17:44.490428Z",
     "start_time": "2022-07-27T01:17:44.483335Z"
    }
   },
   "outputs": [
    {
     "data": {
      "text/plain": [
       "Test Statistic                -1.070209e+01\n",
       "p-value                        3.502339e-19\n",
       "#Lags Used                     1.200000e+01\n",
       "Number of Observations Used    1.090000e+02\n",
       "Critical Value (1%)           -3.491818e+00\n",
       "Critical Value (5%)           -2.888444e+00\n",
       "Critical Value (10%)          -2.581120e+00\n",
       "dtype: float64"
      ]
     },
     "metadata": {},
     "output_type": "display_data"
    }
   ],
   "source": [
    "display_df(dftest)"
   ]
  },
  {
   "cell_type": "markdown",
   "metadata": {},
   "source": [
    "Interpretation:\n",
    "<br>\n",
    "- The p-value is smaller than 0.05 so we reject the null hypothesis and consider data as stationary."
   ]
  },
  {
   "cell_type": "markdown",
   "metadata": {},
   "source": [
    "#### Time Series Decomposition"
   ]
  },
  {
   "cell_type": "code",
   "execution_count": 35,
   "metadata": {
    "ExecuteTime": {
     "end_time": "2022-07-27T01:25:25.665159Z",
     "start_time": "2022-07-27T01:25:25.660225Z"
    }
   },
   "outputs": [],
   "source": [
    "# Decompose it!\n",
    "\n",
    "decomposition = seasonal_decompose(ts_new)"
   ]
  },
  {
   "cell_type": "code",
   "execution_count": 36,
   "metadata": {
    "ExecuteTime": {
     "end_time": "2022-07-27T01:25:26.075512Z",
     "start_time": "2022-07-27T01:25:26.068908Z"
    }
   },
   "outputs": [
    {
     "data": {
      "text/plain": [
       "<statsmodels.tsa.seasonal.DecomposeResult at 0x7fa5d85e15b0>"
      ]
     },
     "execution_count": 36,
     "metadata": {},
     "output_type": "execute_result"
    }
   ],
   "source": [
    "decomposition"
   ]
  },
  {
   "cell_type": "code",
   "execution_count": 37,
   "metadata": {
    "ExecuteTime": {
     "end_time": "2022-07-27T01:25:26.407514Z",
     "start_time": "2022-07-27T01:25:26.404787Z"
    }
   },
   "outputs": [],
   "source": [
    "trend = decomposition.trend"
   ]
  },
  {
   "cell_type": "code",
   "execution_count": 38,
   "metadata": {
    "ExecuteTime": {
     "end_time": "2022-07-27T01:25:26.819943Z",
     "start_time": "2022-07-27T01:25:26.817588Z"
    }
   },
   "outputs": [],
   "source": [
    "seasonal = decomposition.seasonal"
   ]
  },
  {
   "cell_type": "code",
   "execution_count": 39,
   "metadata": {
    "ExecuteTime": {
     "end_time": "2022-07-27T01:25:27.119337Z",
     "start_time": "2022-07-27T01:25:27.116281Z"
    }
   },
   "outputs": [],
   "source": [
    "residual = decomposition.resid"
   ]
  },
  {
   "cell_type": "code",
   "execution_count": 40,
   "metadata": {
    "ExecuteTime": {
     "end_time": "2022-07-27T01:25:27.431780Z",
     "start_time": "2022-07-27T01:25:27.424858Z"
    }
   },
   "outputs": [
    {
     "data": {
      "text/plain": [
       "ts_date\n",
       "2012-04-01            NaN\n",
       "2012-05-01            NaN\n",
       "2012-06-01            NaN\n",
       "2012-07-01            NaN\n",
       "2012-08-01            NaN\n",
       "2012-09-01            NaN\n",
       "2012-10-01   -1333.833333\n",
       "2012-11-01   -1316.791667\n",
       "2012-12-01   -1282.750000\n",
       "2013-01-01   -1231.125000\n",
       "2013-02-01   -1175.750000\n",
       "2013-03-01   -1088.708333\n",
       "2013-04-01    -976.750000\n",
       "2013-05-01    -880.208333\n",
       "2013-06-01    -783.000000\n",
       "2013-07-01    -680.250000\n",
       "2013-08-01    -597.916667\n",
       "2013-09-01    -510.000000\n",
       "2013-10-01    -430.166667\n",
       "2013-11-01    -373.875000\n",
       "2013-12-01    -340.250000\n",
       "2014-01-01    -323.041667\n",
       "2014-02-01    -307.645833\n",
       "2014-03-01    -301.637500\n",
       "2014-04-01    -306.900000\n",
       "2014-05-01    -285.058333\n",
       "2014-06-01    -255.591667\n",
       "2014-07-01    -255.466667\n",
       "2014-08-01    -254.758333\n",
       "2014-09-01    -244.175000\n",
       "2014-10-01    -220.725000\n",
       "2014-11-01    -200.012500\n",
       "2014-12-01    -195.633333\n",
       "2015-01-01    -195.825000\n",
       "2015-02-01    -194.454167\n",
       "2015-03-01    -190.354167\n",
       "2015-04-01    -175.816667\n",
       "2015-05-01    -156.870833\n",
       "2015-06-01    -137.829167\n",
       "2015-07-01    -113.862500\n",
       "2015-08-01     -93.483333\n",
       "2015-09-01     -71.600000\n",
       "2015-10-01     -48.962500\n",
       "2015-11-01     -29.712500\n",
       "2015-12-01     -18.820833\n",
       "2016-01-01     -14.866667\n",
       "2016-02-01     -12.550000\n",
       "2016-03-01      -7.187500\n",
       "2016-04-01      -1.795833\n",
       "2016-05-01      -1.591667\n",
       "2016-06-01      -1.445833\n",
       "2016-07-01      -1.229167\n",
       "2016-08-01      -1.191667\n",
       "2016-09-01      -1.291667\n",
       "2016-10-01      -1.295833\n",
       "2016-11-01      -1.387500\n",
       "2016-12-01      -1.491667\n",
       "2017-01-01      -1.504167\n",
       "2017-02-01      -1.675000\n",
       "2017-03-01      -2.062500\n",
       "2017-04-01      -2.666667\n",
       "2017-05-01      -3.254167\n",
       "2017-06-01      -3.645833\n",
       "2017-07-01      -4.095833\n",
       "2017-08-01      -4.679167\n",
       "2017-09-01      -5.200000\n",
       "2017-10-01      -5.666667\n",
       "2017-11-01      -6.375000\n",
       "2017-12-01      -7.145833\n",
       "2018-01-01      -7.616667\n",
       "2018-02-01      -7.950000\n",
       "2018-03-01      -8.166667\n",
       "2018-04-01      -8.200000\n",
       "2018-05-01      -8.100000\n",
       "2018-06-01      -7.945833\n",
       "2018-07-01      -7.429167\n",
       "2018-08-01      -6.720833\n",
       "2018-09-01      -6.108333\n",
       "2018-10-01      -5.433333\n",
       "2018-11-01      -4.512500\n",
       "2018-12-01      -3.866667\n",
       "2019-01-01      -3.645833\n",
       "2019-02-01      -3.350000\n",
       "2019-03-01      -2.675000\n",
       "2019-04-01      -1.704167\n",
       "2019-05-01      -0.791667\n",
       "2019-06-01     -17.458333\n",
       "2019-07-01     -34.583333\n",
       "2019-08-01     -34.500000\n",
       "2019-09-01     -34.208333\n",
       "2019-10-01     -33.875000\n",
       "2019-11-01     -33.583333\n",
       "2019-12-01     -33.125000\n",
       "2020-01-01     -32.750000\n",
       "2020-02-01     -32.666667\n",
       "2020-03-01     -32.791667\n",
       "2020-04-01     -33.000000\n",
       "2020-05-01     -33.166667\n",
       "2020-06-01     -15.875000\n",
       "2020-07-01       1.416667\n",
       "2020-08-01       1.166667\n",
       "2020-09-01       0.916667\n",
       "2020-10-01       0.625000\n",
       "2020-11-01       0.208333\n",
       "2020-12-01      -0.166667\n",
       "2021-01-01      -0.208333\n",
       "2021-02-01      -0.083333\n",
       "2021-03-01       0.041667\n",
       "2021-04-01      -0.083333\n",
       "2021-05-01      -0.416667\n",
       "2021-06-01      -0.541667\n",
       "2021-07-01      -0.583333\n",
       "2021-08-01      -0.541667\n",
       "2021-09-01      -0.916667\n",
       "2021-10-01      -2.333333\n",
       "2021-11-01      -3.291667\n",
       "2021-12-01            NaN\n",
       "2022-01-01            NaN\n",
       "2022-02-01            NaN\n",
       "2022-03-01            NaN\n",
       "2022-04-01            NaN\n",
       "2022-05-01            NaN\n",
       "Name: trend, dtype: float64"
      ]
     },
     "execution_count": 40,
     "metadata": {},
     "output_type": "execute_result"
    }
   ],
   "source": [
    "trend"
   ]
  },
  {
   "cell_type": "code",
   "execution_count": 41,
   "metadata": {
    "ExecuteTime": {
     "end_time": "2022-07-27T01:25:27.772758Z",
     "start_time": "2022-07-27T01:25:27.765158Z"
    }
   },
   "outputs": [
    {
     "data": {
      "text/plain": [
       "ts_date\n",
       "2012-04-01   -1767.0\n",
       "2012-05-01    -956.0\n",
       "2012-06-01   -1035.0\n",
       "2012-07-01    -709.0\n",
       "2012-08-01   -1078.0\n",
       "2012-09-01   -1383.0\n",
       "2012-10-01   -1658.0\n",
       "2012-11-01   -1647.0\n",
       "2012-12-01   -1860.0\n",
       "2013-01-01   -1192.0\n",
       "2013-02-01   -1290.0\n",
       "2013-03-01   -1600.0\n",
       "2013-04-01   -1429.0\n",
       "2013-05-01    -885.0\n",
       "2013-06-01    -289.0\n",
       "2013-07-01    -216.0\n",
       "2013-08-01    -242.0\n",
       "2013-09-01    -130.0\n",
       "2013-10-01    -224.0\n",
       "2013-11-01    -764.0\n",
       "2013-12-01    -410.0\n",
       "2014-01-01    -176.0\n",
       "2014-02-01    -330.0\n",
       "2014-03-01    -450.0\n",
       "2014-04-01    -663.0\n",
       "2014-05-01    -300.0\n",
       "2014-06-01     -67.0\n",
       "2014-07-01     -25.0\n",
       "2014-08-01     -63.5\n",
       "2014-09-01    -164.3\n",
       "2014-10-01    -316.0\n",
       "2014-11-01    -147.8\n",
       "2014-12-01    -319.0\n",
       "2015-01-01    -264.0\n",
       "2015-02-01    -225.0\n",
       "2015-03-01    -301.0\n",
       "2015-04-01    -249.2\n",
       "2015-05-01    -216.7\n",
       "2015-06-01     -45.2\n",
       "2015-07-01     -51.4\n",
       "2015-08-01      -4.2\n",
       "2015-09-01    -125.2\n",
       "2015-10-01      -6.2\n",
       "2015-11-01      -2.9\n",
       "2015-12-01      -6.9\n",
       "2016-01-01      -0.9\n",
       "2016-02-01       1.0\n",
       "2016-03-01      -1.8\n",
       "2016-04-01      -5.1\n",
       "2016-05-01       1.2\n",
       "2016-06-01      -1.7\n",
       "2016-07-01       0.0\n",
       "2016-08-01       0.0\n",
       "2016-09-01      -0.7\n",
       "2016-10-01      -1.3\n",
       "2016-11-01      -2.9\n",
       "2016-12-01      -3.4\n",
       "2017-01-01       0.8\n",
       "2017-02-01       0.2\n",
       "2017-03-01      -3.4\n",
       "2017-04-01      -3.6\n",
       "2017-05-01      -2.5\n",
       "2017-06-01      -0.5\n",
       "2017-07-01      -1.5\n",
       "2017-08-01      -2.6\n",
       "2017-09-01      -7.4\n",
       "2017-10-01      -9.1\n",
       "2017-11-01      -9.2\n",
       "2017-12-01      -6.5\n",
       "2018-01-01      -6.9\n",
       "2018-02-01      -6.1\n",
       "2018-03-01      -9.6\n",
       "2018-04-01      -8.6\n",
       "2018-05-01     -14.5\n",
       "2018-06-01      -7.0\n",
       "2018-07-01      -6.3\n",
       "2018-08-01      -5.8\n",
       "2018-09-01      -9.4\n",
       "2018-10-01      -7.9\n",
       "2018-11-01      -8.0\n",
       "2018-12-01      -4.0\n",
       "2019-01-01       3.0\n",
       "2019-02-01       1.0\n",
       "2019-03-01      -2.0\n",
       "2019-04-01       0.0\n",
       "2019-05-01      -1.0\n",
       "2019-06-01      -5.0\n",
       "2019-07-01      -3.0\n",
       "2019-08-01      -2.0\n",
       "2019-09-01       3.0\n",
       "2019-10-01       3.0\n",
       "2019-11-01       3.0\n",
       "2019-12-01    -415.0\n",
       "2020-01-01       3.0\n",
       "2020-02-01       3.0\n",
       "2020-03-01       3.0\n",
       "2020-04-01       3.0\n",
       "2020-05-01       3.0\n",
       "2020-06-01       2.0\n",
       "2020-07-01      -1.0\n",
       "2020-08-01      -2.0\n",
       "2020-09-01       0.0\n",
       "2020-10-01       1.0\n",
       "2020-11-01       1.0\n",
       "2020-12-01       2.0\n",
       "2021-01-01       1.0\n",
       "2021-02-01      -1.0\n",
       "2021-03-01       1.0\n",
       "2021-04-01      -2.0\n",
       "2021-05-01      -2.0\n",
       "2021-06-01      -2.0\n",
       "2021-07-01       2.0\n",
       "2021-08-01      -2.0\n",
       "2021-09-01       3.0\n",
       "2021-10-01      -5.0\n",
       "2021-11-01      -1.0\n",
       "2021-12-01       1.0\n",
       "2022-01-01       1.0\n",
       "2022-02-01       0.0\n",
       "2022-03-01      -9.0\n",
       "2022-04-01     -26.0\n",
       "2022-05-01      -1.0\n",
       "Name: Surplus(+)/Deficit(-)(MU), dtype: float64"
      ]
     },
     "execution_count": 41,
     "metadata": {},
     "output_type": "execute_result"
    }
   ],
   "source": [
    "# Gather the trend, seasonality and noise of decomposed object\n",
    "\n",
    "decomposition.observed"
   ]
  },
  {
   "cell_type": "code",
   "execution_count": 42,
   "metadata": {
    "ExecuteTime": {
     "end_time": "2022-07-27T01:27:46.283089Z",
     "start_time": "2022-07-27T01:27:45.650925Z"
    }
   },
   "outputs": [
    {
     "data": {
      "image/png": "[encoded data removed]",
      "text/plain": [
       "<Figure size 864x576 with 4 Axes>"
      ]
     },
     "metadata": {
      "needs_background": "light"
     },
     "output_type": "display_data"
    }
   ],
   "source": [
    "# Plot gathered statistics\n",
    "plt.figure(figsize=(12, 8))\n",
    "plt.subplot(411)\n",
    "plt.plot(ts_new, label='Original')\n",
    "plt.legend(loc='upper left')\n",
    "plt.subplot(412)\n",
    "plt.plot(trend, label='Trend')\n",
    "plt.legend(loc='upper left')\n",
    "plt.subplot(413)\n",
    "plt.plot(seasonal,label='Seasonality')\n",
    "plt.legend(loc='upper left')\n",
    "plt.subplot(414)\n",
    "plt.plot(residual, label='Residuals')\n",
    "plt.legend(loc='upper left')\n",
    "plt.tight_layout()"
   ]
  },
  {
   "cell_type": "markdown",
   "metadata": {},
   "source": [
    "There is the seasonality component in the data; can check with trend assessment in residuals with a Dickey-Fuller test"
   ]
  },
  {
   "cell_type": "code",
   "execution_count": 43,
   "metadata": {
    "ExecuteTime": {
     "end_time": "2022-07-27T01:25:29.035536Z",
     "start_time": "2022-07-27T01:25:29.032237Z"
    }
   },
   "outputs": [],
   "source": [
    "# Drop NaN values from residuals.\n",
    "\n",
    "ts_log_decompose = residual\n",
    "ts_log_decompose.dropna(inplace=True)"
   ]
  },
  {
   "cell_type": "code",
   "execution_count": 44,
   "metadata": {
    "ExecuteTime": {
     "end_time": "2022-07-27T01:25:31.400150Z",
     "start_time": "2022-07-27T01:25:31.385157Z"
    }
   },
   "outputs": [
    {
     "data": {
      "text/plain": [
       "Test Statistic                 -3.246305\n",
       "p-value                         0.017456\n",
       "#Lags Used                     13.000000\n",
       "Number of Observations Used    96.000000\n",
       "Critical Value (1%)            -3.500379\n",
       "Critical Value (5%)            -2.892152\n",
       "Critical Value (10%)           -2.583100\n",
       "dtype: float64"
      ]
     },
     "metadata": {},
     "output_type": "display_data"
    }
   ],
   "source": [
    "# Really, Dickey-Fuller? Again?\n",
    "\n",
    "dftest = adfuller(ts_log_decompose)\n",
    "display_df(dftest)"
   ]
  },
  {
   "cell_type": "markdown",
   "metadata": {},
   "source": [
    "The residuals also are stationary"
   ]
  },
  {
   "cell_type": "markdown",
   "metadata": {},
   "source": [
    "## Modeling"
   ]
  },
  {
   "cell_type": "markdown",
   "metadata": {},
   "source": [
    "#### Train-Test split"
   ]
  },
  {
   "cell_type": "code",
   "execution_count": 45,
   "metadata": {
    "ExecuteTime": {
     "end_time": "2022-07-27T01:37:57.068150Z",
     "start_time": "2022-07-27T01:37:57.064147Z"
    }
   },
   "outputs": [
    {
     "data": {
      "text/plain": [
       "98"
      ]
     },
     "execution_count": 45,
     "metadata": {},
     "output_type": "execute_result"
    }
   ],
   "source": [
    "# find the index which allows us to split off 20% of the data\n",
    "cutoff = round(ts_new.shape[0]*0.8)\n",
    "cutoff"
   ]
  },
  {
   "cell_type": "code",
   "execution_count": 46,
   "metadata": {
    "ExecuteTime": {
     "end_time": "2022-07-27T01:38:09.285459Z",
     "start_time": "2022-07-27T01:38:09.282481Z"
    }
   },
   "outputs": [],
   "source": [
    "# Define train and test sets according to the index found above\n",
    "train = ts_new[:cutoff]\n",
    "\n",
    "test = ts_new[cutoff:]"
   ]
  },
  {
   "cell_type": "code",
   "execution_count": 47,
   "metadata": {
    "ExecuteTime": {
     "end_time": "2022-07-27T01:38:14.822914Z",
     "start_time": "2022-07-27T01:38:14.615304Z"
    }
   },
   "outputs": [
    {
     "data": {
      "image/png": "[encoded data removed]",
      "text/plain": [
       "<Figure size 864x576 with 1 Axes>"
      ]
     },
     "metadata": {
      "needs_background": "light"
     },
     "output_type": "display_data"
    }
   ],
   "source": [
    "# Plot it!\n",
    "fig, ax = plt.subplots(figsize=(12, 8))\n",
    "ax.plot(train, label='train')\n",
    "ax.plot(test, label='test')\n",
    "ax.set_title('Train-Test Split');\n",
    "plt.legend();"
   ]
  },
  {
   "cell_type": "markdown",
   "metadata": {},
   "source": [
    "#### Cross-validation split"
   ]
  },
  {
   "cell_type": "code",
   "execution_count": 48,
   "metadata": {
    "ExecuteTime": {
     "end_time": "2022-07-27T01:39:05.360653Z",
     "start_time": "2022-07-27T01:39:05.353421Z"
    },
    "scrolled": true
   },
   "outputs": [
    {
     "data": {
      "text/plain": [
       "ts_date\n",
       "2012-04-01   -1767.0\n",
       "2012-05-01    -956.0\n",
       "2012-06-01   -1035.0\n",
       "2012-07-01    -709.0\n",
       "2012-08-01   -1078.0\n",
       "2012-09-01   -1383.0\n",
       "2012-10-01   -1658.0\n",
       "2012-11-01   -1647.0\n",
       "2012-12-01   -1860.0\n",
       "2013-01-01   -1192.0\n",
       "2013-02-01   -1290.0\n",
       "2013-03-01   -1600.0\n",
       "2013-04-01   -1429.0\n",
       "2013-05-01    -885.0\n",
       "2013-06-01    -289.0\n",
       "2013-07-01    -216.0\n",
       "2013-08-01    -242.0\n",
       "2013-09-01    -130.0\n",
       "2013-10-01    -224.0\n",
       "2013-11-01    -764.0\n",
       "2013-12-01    -410.0\n",
       "2014-01-01    -176.0\n",
       "2014-02-01    -330.0\n",
       "2014-03-01    -450.0\n",
       "2014-04-01    -663.0\n",
       "2014-05-01    -300.0\n",
       "2014-06-01     -67.0\n",
       "2014-07-01     -25.0\n",
       "2014-08-01     -63.5\n",
       "2014-09-01    -164.3\n",
       "2014-10-01    -316.0\n",
       "2014-11-01    -147.8\n",
       "2014-12-01    -319.0\n",
       "2015-01-01    -264.0\n",
       "2015-02-01    -225.0\n",
       "2015-03-01    -301.0\n",
       "2015-04-01    -249.2\n",
       "2015-05-01    -216.7\n",
       "2015-06-01     -45.2\n",
       "2015-07-01     -51.4\n",
       "2015-08-01      -4.2\n",
       "2015-09-01    -125.2\n",
       "2015-10-01      -6.2\n",
       "2015-11-01      -2.9\n",
       "2015-12-01      -6.9\n",
       "2016-01-01      -0.9\n",
       "2016-02-01       1.0\n",
       "2016-03-01      -1.8\n",
       "2016-04-01      -5.1\n",
       "2016-05-01       1.2\n",
       "2016-06-01      -1.7\n",
       "2016-07-01       0.0\n",
       "2016-08-01       0.0\n",
       "2016-09-01      -0.7\n",
       "2016-10-01      -1.3\n",
       "2016-11-01      -2.9\n",
       "2016-12-01      -3.4\n",
       "2017-01-01       0.8\n",
       "2017-02-01       0.2\n",
       "2017-03-01      -3.4\n",
       "2017-04-01      -3.6\n",
       "2017-05-01      -2.5\n",
       "2017-06-01      -0.5\n",
       "2017-07-01      -1.5\n",
       "2017-08-01      -2.6\n",
       "2017-09-01      -7.4\n",
       "2017-10-01      -9.1\n",
       "2017-11-01      -9.2\n",
       "2017-12-01      -6.5\n",
       "2018-01-01      -6.9\n",
       "2018-02-01      -6.1\n",
       "2018-03-01      -9.6\n",
       "2018-04-01      -8.6\n",
       "2018-05-01     -14.5\n",
       "2018-06-01      -7.0\n",
       "2018-07-01      -6.3\n",
       "2018-08-01      -5.8\n",
       "2018-09-01      -9.4\n",
       "2018-10-01      -7.9\n",
       "2018-11-01      -8.0\n",
       "2018-12-01      -4.0\n",
       "2019-01-01       3.0\n",
       "2019-02-01       1.0\n",
       "2019-03-01      -2.0\n",
       "2019-04-01       0.0\n",
       "2019-05-01      -1.0\n",
       "2019-06-01      -5.0\n",
       "2019-07-01      -3.0\n",
       "2019-08-01      -2.0\n",
       "2019-09-01       3.0\n",
       "2019-10-01       3.0\n",
       "2019-11-01       3.0\n",
       "2019-12-01    -415.0\n",
       "2020-01-01       3.0\n",
       "2020-02-01       3.0\n",
       "2020-03-01       3.0\n",
       "2020-04-01       3.0\n",
       "2020-05-01       3.0\n",
       "Name: Surplus(+)/Deficit(-)(MU), dtype: float64"
      ]
     },
     "execution_count": 48,
     "metadata": {},
     "output_type": "execute_result"
    }
   ],
   "source": [
    "train"
   ]
  },
  {
   "cell_type": "code",
   "execution_count": 49,
   "metadata": {
    "ExecuteTime": {
     "end_time": "2022-07-27T01:40:01.003470Z",
     "start_time": "2022-07-27T01:40:00.998045Z"
    }
   },
   "outputs": [
    {
     "name": "stdout",
     "output_type": "stream",
     "text": [
      "Train index: [ 0  1  2  3  4  5  6  7  8  9 10 11 12 13 14 15 16 17]\n",
      "Test  index: [18 19 20 21 22 23 24 25 26 27 28 29 30 31 32 33]\n",
      "Train index: [ 0  1  2  3  4  5  6  7  8  9 10 11 12 13 14 15 16 17 18 19 20 21 22 23\n",
      " 24 25 26 27 28 29 30 31 32 33]\n",
      "Test  index: [34 35 36 37 38 39 40 41 42 43 44 45 46 47 48 49]\n",
      "Train index: [ 0  1  2  3  4  5  6  7  8  9 10 11 12 13 14 15 16 17 18 19 20 21 22 23\n",
      " 24 25 26 27 28 29 30 31 32 33 34 35 36 37 38 39 40 41 42 43 44 45 46 47\n",
      " 48 49]\n",
      "Test  index: [50 51 52 53 54 55 56 57 58 59 60 61 62 63 64 65]\n",
      "Train index: [ 0  1  2  3  4  5  6  7  8  9 10 11 12 13 14 15 16 17 18 19 20 21 22 23\n",
      " 24 25 26 27 28 29 30 31 32 33 34 35 36 37 38 39 40 41 42 43 44 45 46 47\n",
      " 48 49 50 51 52 53 54 55 56 57 58 59 60 61 62 63 64 65]\n",
      "Test  index: [66 67 68 69 70 71 72 73 74 75 76 77 78 79 80 81]\n",
      "Train index: [ 0  1  2  3  4  5  6  7  8  9 10 11 12 13 14 15 16 17 18 19 20 21 22 23\n",
      " 24 25 26 27 28 29 30 31 32 33 34 35 36 37 38 39 40 41 42 43 44 45 46 47\n",
      " 48 49 50 51 52 53 54 55 56 57 58 59 60 61 62 63 64 65 66 67 68 69 70 71\n",
      " 72 73 74 75 76 77 78 79 80 81]\n",
      "Test  index: [82 83 84 85 86 87 88 89 90 91 92 93 94 95 96 97]\n"
     ]
    }
   ],
   "source": [
    "# TimeSeriesSplit\n",
    "split = TimeSeriesSplit()\n",
    "\n",
    "for train_ind, val_ind in split.split(train):\n",
    "    print(f'Train index: {train_ind}')\n",
    "    print(f'Test  index: {val_ind}')"
   ]
  },
  {
   "cell_type": "markdown",
   "metadata": {},
   "source": [
    "#### The Baseline Model"
   ]
  },
  {
   "cell_type": "code",
   "execution_count": 50,
   "metadata": {
    "ExecuteTime": {
     "end_time": "2022-07-27T01:41:27.624884Z",
     "start_time": "2022-07-27T01:41:27.614287Z"
    }
   },
   "outputs": [
    {
     "data": {
      "text/html": [
       "<div>\n",
       "<style scoped>\n",
       "    .dataframe tbody tr th:only-of-type {\n",
       "        vertical-align: middle;\n",
       "    }\n",
       "\n",
       "    .dataframe tbody tr th {\n",
       "        vertical-align: top;\n",
       "    }\n",
       "\n",
       "    .dataframe thead th {\n",
       "        text-align: right;\n",
       "    }\n",
       "</style>\n",
       "<table border=\"1\" class=\"dataframe\">\n",
       "  <thead>\n",
       "    <tr style=\"text-align: right;\">\n",
       "      <th></th>\n",
       "      <th>orig</th>\n",
       "      <th>shifted_one_period</th>\n",
       "      <th>shifted_two_periods</th>\n",
       "    </tr>\n",
       "  </thead>\n",
       "  <tbody>\n",
       "    <tr>\n",
       "      <th>0</th>\n",
       "      <td>-1767.0</td>\n",
       "      <td>NaN</td>\n",
       "      <td>NaN</td>\n",
       "    </tr>\n",
       "    <tr>\n",
       "      <th>1</th>\n",
       "      <td>-956.0</td>\n",
       "      <td>-1767.0</td>\n",
       "      <td>NaN</td>\n",
       "    </tr>\n",
       "    <tr>\n",
       "      <th>2</th>\n",
       "      <td>-1035.0</td>\n",
       "      <td>-956.0</td>\n",
       "      <td>-1767.0</td>\n",
       "    </tr>\n",
       "    <tr>\n",
       "      <th>3</th>\n",
       "      <td>-709.0</td>\n",
       "      <td>-1035.0</td>\n",
       "      <td>-956.0</td>\n",
       "    </tr>\n",
       "    <tr>\n",
       "      <th>4</th>\n",
       "      <td>-1078.0</td>\n",
       "      <td>-709.0</td>\n",
       "      <td>-1035.0</td>\n",
       "    </tr>\n",
       "  </tbody>\n",
       "</table>\n",
       "</div>"
      ],
      "text/plain": [
       "     orig  shifted_one_period  shifted_two_periods\n",
       "0 -1767.0                 NaN                  NaN\n",
       "1  -956.0             -1767.0                  NaN\n",
       "2 -1035.0              -956.0              -1767.0\n",
       "3  -709.0             -1035.0               -956.0\n",
       "4 -1078.0              -709.0              -1035.0"
      ]
     },
     "execution_count": 50,
     "metadata": {},
     "output_type": "execute_result"
    }
   ],
   "source": [
    "baseline = pd.DataFrame(np.hstack((train.values.reshape(-1, 1),\n",
    "                       train.shift().values.reshape(-1, 1),\n",
    "                       train.shift(periods=2).values.reshape(-1, 1))),\n",
    "             columns=['orig', 'shifted_one_period', 'shifted_two_periods'])\n",
    "baseline.head()"
   ]
  },
  {
   "cell_type": "code",
   "execution_count": 51,
   "metadata": {
    "ExecuteTime": {
     "end_time": "2022-07-27T01:41:33.280972Z",
     "start_time": "2022-07-27T01:41:33.004366Z"
    }
   },
   "outputs": [
    {
     "data": {
      "image/png": "[encoded data removed]",
      "text/plain": [
       "<Figure size 1080x720 with 1 Axes>"
      ]
     },
     "metadata": {
      "needs_background": "light"
     },
     "output_type": "display_data"
    }
   ],
   "source": [
    "# line plot of the baseline model\n",
    "\n",
    "ax = baseline['orig'].plot(figsize=(15,10))\n",
    "baseline['shifted_one_period'].plot()\n",
    "baseline['shifted_two_periods'].plot()\n",
    "ax.legend(['Original', 'shift 1', 'shift 2'])\n",
    "plt.show()"
   ]
  },
  {
   "cell_type": "code",
   "execution_count": 52,
   "metadata": {
    "ExecuteTime": {
     "end_time": "2022-07-27T01:41:41.131688Z",
     "start_time": "2022-07-27T01:41:41.127358Z"
    }
   },
   "outputs": [],
   "source": [
    "# testing with rmse\n",
    "\n",
    "rms_shift1 = mean_squared_error(baseline['orig'][1:], baseline['shifted_one_period'][1:], squared=False)\n",
    "rms_shift2 = mean_squared_error(baseline['orig'][2:], baseline['shifted_two_periods'][2:], squared=False)"
   ]
  },
  {
   "cell_type": "code",
   "execution_count": 53,
   "metadata": {
    "ExecuteTime": {
     "end_time": "2022-07-27T01:41:41.659528Z",
     "start_time": "2022-07-27T01:41:41.655789Z"
    }
   },
   "outputs": [
    {
     "data": {
      "text/plain": [
       "193.7138946737965"
      ]
     },
     "execution_count": 53,
     "metadata": {},
     "output_type": "execute_result"
    }
   ],
   "source": [
    "rms_shift1"
   ]
  },
  {
   "cell_type": "code",
   "execution_count": 54,
   "metadata": {
    "ExecuteTime": {
     "end_time": "2022-07-27T01:41:42.071234Z",
     "start_time": "2022-07-27T01:41:42.067034Z"
    }
   },
   "outputs": [
    {
     "data": {
      "text/plain": [
       "259.60578929086563"
      ]
     },
     "execution_count": 54,
     "metadata": {},
     "output_type": "execute_result"
    }
   ],
   "source": [
    "rms_shift2"
   ]
  },
  {
   "cell_type": "markdown",
   "metadata": {},
   "source": [
    "#### ARIMA Model"
   ]
  },
  {
   "cell_type": "code",
   "execution_count": 55,
   "metadata": {
    "ExecuteTime": {
     "end_time": "2022-07-27T01:46:11.523616Z",
     "start_time": "2022-07-27T01:46:11.424006Z"
    }
   },
   "outputs": [
    {
     "data": {
      "text/plain": [
       "2012-04-01    0.000000e+00\n",
       "2012-05-01   -1.764314e+03\n",
       "2012-06-01   -9.900338e+02\n",
       "2012-07-01   -1.031685e+03\n",
       "2012-08-01   -7.226807e+02\n",
       "2012-09-01   -1.062515e+03\n",
       "2012-10-01   -1.370201e+03\n",
       "2012-11-01   -1.646460e+03\n",
       "2012-12-01   -1.647462e+03\n",
       "2013-01-01   -1.851061e+03\n",
       "2013-02-01   -1.220033e+03\n",
       "2013-03-01   -1.285887e+03\n",
       "2013-04-01   -1.586991e+03\n",
       "2013-05-01   -1.436176e+03\n",
       "2013-06-01   -9.078291e+02\n",
       "2013-07-01   -3.140113e+02\n",
       "2013-08-01   -2.190635e+02\n",
       "2013-09-01   -2.409089e+02\n",
       "2013-10-01   -1.347001e+02\n",
       "2013-11-01   -2.200553e+02\n",
       "2013-12-01   -7.413388e+02\n",
       "2014-01-01   -4.248557e+02\n",
       "2014-02-01   -1.858199e+02\n",
       "2014-03-01   -3.235374e+02\n",
       "2014-04-01   -4.449642e+02\n",
       "2014-05-01   -6.540614e+02\n",
       "2014-06-01   -3.152334e+02\n",
       "2014-07-01   -7.677789e+01\n",
       "2014-08-01   -2.676254e+01\n",
       "2014-09-01   -6.188434e+01\n",
       "2014-10-01   -1.600699e+02\n",
       "2014-11-01   -3.096339e+02\n",
       "2014-12-01   -1.548585e+02\n",
       "2015-01-01   -3.118156e+02\n",
       "2015-02-01   -2.663081e+02\n",
       "2015-03-01   -2.266366e+02\n",
       "2015-04-01   -2.978106e+02\n",
       "2015-05-01   -2.513738e+02\n",
       "2015-06-01   -2.180639e+02\n",
       "2015-07-01   -5.239703e+01\n",
       "2015-08-01   -5.113982e+01\n",
       "2015-09-01   -6.180757e+00\n",
       "2015-10-01   -1.201222e+02\n",
       "2015-11-01   -1.119386e+01\n",
       "2015-12-01   -3.038485e+00\n",
       "2016-01-01   -6.732139e+00\n",
       "2016-02-01   -1.151791e+00\n",
       "2016-03-01    9.202661e-01\n",
       "2016-04-01   -1.682497e+00\n",
       "2016-05-01   -4.961515e+00\n",
       "2016-06-01    9.356193e-01\n",
       "2016-07-01   -1.578301e+00\n",
       "2016-08-01   -7.134082e-02\n",
       "2016-09-01    3.980871e-20\n",
       "2016-10-01   -6.706244e-01\n",
       "2016-11-01   -1.274821e+00\n",
       "2016-12-01   -2.832856e+00\n",
       "2017-01-01   -3.379017e+00\n",
       "2017-02-01    6.237462e-01\n",
       "2017-03-01    2.251791e-01\n",
       "2017-04-01   -3.248925e+00\n",
       "2017-05-01   -3.591607e+00\n",
       "2017-06-01   -2.546162e+00\n",
       "2017-07-01   -5.839304e-01\n",
       "2017-08-01   -1.458035e+00\n",
       "2017-09-01   -2.553838e+00\n",
       "2017-10-01   -7.198567e+00\n",
       "2017-11-01   -9.028659e+00\n",
       "2017-12-01   -9.195803e+00\n",
       "2018-01-01   -6.613306e+00\n",
       "2018-02-01   -6.883214e+00\n",
       "2018-03-01   -6.133572e+00\n",
       "2018-04-01   -9.453122e+00\n",
       "2018-05-01   -8.641965e+00\n",
       "2018-06-01   -1.425241e+01\n",
       "2018-07-01   -7.314739e+00\n",
       "2018-08-01   -6.329376e+00\n",
       "2018-09-01   -5.820983e+00\n",
       "2018-10-01   -9.248925e+00\n",
       "2018-11-01   -7.962948e+00\n",
       "2018-12-01   -7.995803e+00\n",
       "2019-01-01   -4.167861e+00\n",
       "2019-02-01    2.706244e+00\n",
       "2019-03-01    1.083930e+00\n",
       "2019-04-01   -1.874104e+00\n",
       "2019-05-01   -8.393038e-02\n",
       "2019-06-01   -9.580348e-01\n",
       "2019-07-01   -4.832139e+00\n",
       "2019-08-01   -3.083930e+00\n",
       "2019-09-01   -2.041965e+00\n",
       "2019-10-01    2.790174e+00\n",
       "2019-11-01    3.000000e+00\n",
       "2019-12-01    3.000000e+00\n",
       "2020-01-01   -3.974586e+02\n",
       "2020-02-01   -1.454145e+01\n",
       "2020-03-01    3.000000e+00\n",
       "2020-04-01    3.000000e+00\n",
       "2020-05-01    3.000000e+00\n",
       "Freq: MS, Name: predicted_mean, dtype: float64"
      ]
     },
     "execution_count": 55,
     "metadata": {},
     "output_type": "execute_result"
    }
   ],
   "source": [
    "# ar_1 model with differencing\n",
    "ar_1 = ARIMA(train, order=(1, 1, 0)).fit()\n",
    "\n",
    "# We put a typ='levels' to convert our predictions to remove the differencing performed.\n",
    "ar_1.predict(typ='levels')"
   ]
  },
  {
   "cell_type": "code",
   "execution_count": 56,
   "metadata": {
    "ExecuteTime": {
     "end_time": "2022-07-27T01:47:49.287137Z",
     "start_time": "2022-07-27T01:47:49.258614Z"
    }
   },
   "outputs": [
    {
     "data": {
      "text/html": [
       "<table class=\"simpletable\">\n",
       "<caption>SARIMAX Results</caption>\n",
       "<tr>\n",
       "  <th>Dep. Variable:</th>   <td>Surplus(+)/Deficit(-)(MU)</td> <th>  No. Observations:  </th>    <td>98</td>   \n",
       "</tr>\n",
       "<tr>\n",
       "  <th>Model:</th>                <td>ARIMA(1, 1, 0)</td>       <th>  Log Likelihood     </th> <td>-648.405</td>\n",
       "</tr>\n",
       "<tr>\n",
       "  <th>Date:</th>                <td>Thu, 28 Jul 2022</td>      <th>  AIC                </th> <td>1300.809</td>\n",
       "</tr>\n",
       "<tr>\n",
       "  <th>Time:</th>                    <td>10:28:22</td>          <th>  BIC                </th> <td>1305.958</td>\n",
       "</tr>\n",
       "<tr>\n",
       "  <th>Sample:</th>                 <td>04-01-2012</td>         <th>  HQIC               </th> <td>1302.891</td>\n",
       "</tr>\n",
       "<tr>\n",
       "  <th></th>                       <td>- 05-01-2020</td>        <th>                     </th>     <td> </td>   \n",
       "</tr>\n",
       "<tr>\n",
       "  <th>Covariance Type:</th>            <td>opg</td>            <th>                     </th>     <td> </td>   \n",
       "</tr>\n",
       "</table>\n",
       "<table class=\"simpletable\">\n",
       "<tr>\n",
       "     <td></td>       <th>coef</th>     <th>std err</th>      <th>z</th>      <th>P>|z|</th>  <th>[0.025</th>    <th>0.975]</th>  \n",
       "</tr>\n",
       "<tr>\n",
       "  <th>ar.L1</th>  <td>   -0.0420</td> <td>    0.071</td> <td>   -0.594</td> <td> 0.552</td> <td>   -0.180</td> <td>    0.096</td>\n",
       "</tr>\n",
       "<tr>\n",
       "  <th>sigma2</th> <td> 3.752e+04</td> <td> 2868.327</td> <td>   13.079</td> <td> 0.000</td> <td> 3.19e+04</td> <td> 4.31e+04</td>\n",
       "</tr>\n",
       "</table>\n",
       "<table class=\"simpletable\">\n",
       "<tr>\n",
       "  <th>Ljung-Box (L1) (Q):</th>     <td>0.02</td> <th>  Jarque-Bera (JB):  </th> <td>111.54</td>\n",
       "</tr>\n",
       "<tr>\n",
       "  <th>Prob(Q):</th>                <td>0.89</td> <th>  Prob(JB):          </th>  <td>0.00</td> \n",
       "</tr>\n",
       "<tr>\n",
       "  <th>Heteroskedasticity (H):</th> <td>0.10</td> <th>  Skew:              </th>  <td>1.20</td> \n",
       "</tr>\n",
       "<tr>\n",
       "  <th>Prob(H) (two-sided):</th>    <td>0.00</td> <th>  Kurtosis:          </th>  <td>7.67</td> \n",
       "</tr>\n",
       "</table><br/><br/>Warnings:<br/>[1] Covariance matrix calculated using the outer product of gradients (complex-step)."
      ],
      "text/plain": [
       "<class 'statsmodels.iolib.summary.Summary'>\n",
       "\"\"\"\n",
       "                                   SARIMAX Results                                   \n",
       "=====================================================================================\n",
       "Dep. Variable:     Surplus(+)/Deficit(-)(MU)   No. Observations:                   98\n",
       "Model:                        ARIMA(1, 1, 0)   Log Likelihood                -648.405\n",
       "Date:                       Thu, 28 Jul 2022   AIC                           1300.809\n",
       "Time:                               10:28:22   BIC                           1305.958\n",
       "Sample:                           04-01-2012   HQIC                          1302.891\n",
       "                                - 05-01-2020                                         \n",
       "Covariance Type:                         opg                                         \n",
       "==============================================================================\n",
       "                 coef    std err          z      P>|z|      [0.025      0.975]\n",
       "------------------------------------------------------------------------------\n",
       "ar.L1         -0.0420      0.071     -0.594      0.552      -0.180       0.096\n",
       "sigma2      3.752e+04   2868.327     13.079      0.000    3.19e+04    4.31e+04\n",
       "===================================================================================\n",
       "Ljung-Box (L1) (Q):                   0.02   Jarque-Bera (JB):               111.54\n",
       "Prob(Q):                              0.89   Prob(JB):                         0.00\n",
       "Heteroskedasticity (H):               0.10   Skew:                             1.20\n",
       "Prob(H) (two-sided):                  0.00   Kurtosis:                         7.67\n",
       "===================================================================================\n",
       "\n",
       "Warnings:\n",
       "[1] Covariance matrix calculated using the outer product of gradients (complex-step).\n",
       "\"\"\""
      ]
     },
     "execution_count": 56,
     "metadata": {},
     "output_type": "execute_result"
    }
   ],
   "source": [
    "# summary of ar_1\n",
    "ar_1.summary()"
   ]
  },
  {
   "cell_type": "markdown",
   "metadata": {},
   "source": [
    "#### Random-walk model"
   ]
  },
  {
   "cell_type": "code",
   "execution_count": 57,
   "metadata": {
    "ExecuteTime": {
     "end_time": "2022-07-27T01:48:28.546420Z",
     "start_time": "2022-07-27T01:48:28.512157Z"
    }
   },
   "outputs": [
    {
     "data": {
      "text/html": [
       "<table class=\"simpletable\">\n",
       "<caption>SARIMAX Results</caption>\n",
       "<tr>\n",
       "  <th>Dep. Variable:</th>   <td>Surplus(+)/Deficit(-)(MU)</td> <th>  No. Observations:  </th>    <td>98</td>   \n",
       "</tr>\n",
       "<tr>\n",
       "  <th>Model:</th>                <td>ARIMA(0, 1, 0)</td>       <th>  Log Likelihood     </th> <td>-648.476</td>\n",
       "</tr>\n",
       "<tr>\n",
       "  <th>Date:</th>                <td>Thu, 28 Jul 2022</td>      <th>  AIC                </th> <td>1298.952</td>\n",
       "</tr>\n",
       "<tr>\n",
       "  <th>Time:</th>                    <td>10:28:22</td>          <th>  BIC                </th> <td>1301.527</td>\n",
       "</tr>\n",
       "<tr>\n",
       "  <th>Sample:</th>                 <td>04-01-2012</td>         <th>  HQIC               </th> <td>1299.993</td>\n",
       "</tr>\n",
       "<tr>\n",
       "  <th></th>                       <td>- 05-01-2020</td>        <th>                     </th>     <td> </td>   \n",
       "</tr>\n",
       "<tr>\n",
       "  <th>Covariance Type:</th>            <td>opg</td>            <th>                     </th>     <td> </td>   \n",
       "</tr>\n",
       "</table>\n",
       "<table class=\"simpletable\">\n",
       "<tr>\n",
       "     <td></td>       <th>coef</th>     <th>std err</th>      <th>z</th>      <th>P>|z|</th>  <th>[0.025</th>    <th>0.975]</th>  \n",
       "</tr>\n",
       "<tr>\n",
       "  <th>sigma2</th> <td> 3.753e+04</td> <td> 2879.085</td> <td>   13.035</td> <td> 0.000</td> <td> 3.19e+04</td> <td> 4.32e+04</td>\n",
       "</tr>\n",
       "</table>\n",
       "<table class=\"simpletable\">\n",
       "<tr>\n",
       "  <th>Ljung-Box (L1) (Q):</th>     <td>0.07</td> <th>  Jarque-Bera (JB):  </th> <td>111.05</td>\n",
       "</tr>\n",
       "<tr>\n",
       "  <th>Prob(Q):</th>                <td>0.79</td> <th>  Prob(JB):          </th>  <td>0.00</td> \n",
       "</tr>\n",
       "<tr>\n",
       "  <th>Heteroskedasticity (H):</th> <td>0.11</td> <th>  Skew:              </th>  <td>1.22</td> \n",
       "</tr>\n",
       "<tr>\n",
       "  <th>Prob(H) (two-sided):</th>    <td>0.00</td> <th>  Kurtosis:          </th>  <td>7.63</td> \n",
       "</tr>\n",
       "</table><br/><br/>Warnings:<br/>[1] Covariance matrix calculated using the outer product of gradients (complex-step)."
      ],
      "text/plain": [
       "<class 'statsmodels.iolib.summary.Summary'>\n",
       "\"\"\"\n",
       "                                   SARIMAX Results                                   \n",
       "=====================================================================================\n",
       "Dep. Variable:     Surplus(+)/Deficit(-)(MU)   No. Observations:                   98\n",
       "Model:                        ARIMA(0, 1, 0)   Log Likelihood                -648.476\n",
       "Date:                       Thu, 28 Jul 2022   AIC                           1298.952\n",
       "Time:                               10:28:22   BIC                           1301.527\n",
       "Sample:                           04-01-2012   HQIC                          1299.993\n",
       "                                - 05-01-2020                                         \n",
       "Covariance Type:                         opg                                         \n",
       "==============================================================================\n",
       "                 coef    std err          z      P>|z|      [0.025      0.975]\n",
       "------------------------------------------------------------------------------\n",
       "sigma2      3.753e+04   2879.085     13.035      0.000    3.19e+04    4.32e+04\n",
       "===================================================================================\n",
       "Ljung-Box (L1) (Q):                   0.07   Jarque-Bera (JB):               111.05\n",
       "Prob(Q):                              0.79   Prob(JB):                         0.00\n",
       "Heteroskedasticity (H):               0.11   Skew:                             1.22\n",
       "Prob(H) (two-sided):                  0.00   Kurtosis:                         7.63\n",
       "===================================================================================\n",
       "\n",
       "Warnings:\n",
       "[1] Covariance matrix calculated using the outer product of gradients (complex-step).\n",
       "\"\"\""
      ]
     },
     "execution_count": 57,
     "metadata": {},
     "output_type": "execute_result"
    }
   ],
   "source": [
    "random_walk_model = ARIMA(train, order=(0, 1, 0)).fit()\n",
    "random_walk_model.summary()"
   ]
  },
  {
   "cell_type": "markdown",
   "metadata": {},
   "source": [
    "#### Baseline ARIMA model"
   ]
  },
  {
   "cell_type": "code",
   "execution_count": 58,
   "metadata": {
    "ExecuteTime": {
     "end_time": "2022-07-27T01:50:03.947378Z",
     "start_time": "2022-07-27T01:50:03.872440Z"
    }
   },
   "outputs": [
    {
     "data": {
      "text/html": [
       "<table class=\"simpletable\">\n",
       "<caption>SARIMAX Results</caption>\n",
       "<tr>\n",
       "  <th>Dep. Variable:</th>   <td>Surplus(+)/Deficit(-)(MU)</td> <th>  No. Observations:  </th>    <td>98</td>   \n",
       "</tr>\n",
       "<tr>\n",
       "  <th>Model:</th>                     <td>ARIMA</td>           <th>  Log Likelihood     </th> <td>-742.628</td>\n",
       "</tr>\n",
       "<tr>\n",
       "  <th>Date:</th>                <td>Thu, 28 Jul 2022</td>      <th>  AIC                </th> <td>1489.257</td>\n",
       "</tr>\n",
       "<tr>\n",
       "  <th>Time:</th>                    <td>10:28:22</td>          <th>  BIC                </th> <td>1494.426</td>\n",
       "</tr>\n",
       "<tr>\n",
       "  <th>Sample:</th>                 <td>04-01-2012</td>         <th>  HQIC               </th> <td>1491.348</td>\n",
       "</tr>\n",
       "<tr>\n",
       "  <th></th>                       <td>- 05-01-2020</td>        <th>                     </th>     <td> </td>   \n",
       "</tr>\n",
       "<tr>\n",
       "  <th>Covariance Type:</th>            <td>opg</td>            <th>                     </th>     <td> </td>   \n",
       "</tr>\n",
       "</table>\n",
       "<table class=\"simpletable\">\n",
       "<tr>\n",
       "     <td></td>       <th>coef</th>     <th>std err</th>      <th>z</th>      <th>P>|z|</th>  <th>[0.025</th>    <th>0.975]</th>  \n",
       "</tr>\n",
       "<tr>\n",
       "  <th>const</th>  <td> -263.6590</td> <td>  113.720</td> <td>   -2.318</td> <td> 0.020</td> <td> -486.547</td> <td>  -40.771</td>\n",
       "</tr>\n",
       "<tr>\n",
       "  <th>sigma2</th> <td> 2.237e+05</td> <td> 4.84e+04</td> <td>    4.617</td> <td> 0.000</td> <td> 1.29e+05</td> <td> 3.19e+05</td>\n",
       "</tr>\n",
       "</table>\n",
       "<table class=\"simpletable\">\n",
       "<tr>\n",
       "  <th>Ljung-Box (L1) (Q):</th>     <td>75.38</td> <th>  Jarque-Bera (JB):  </th> <td>101.41</td>\n",
       "</tr>\n",
       "<tr>\n",
       "  <th>Prob(Q):</th>                <td>0.00</td>  <th>  Prob(JB):          </th>  <td>0.00</td> \n",
       "</tr>\n",
       "<tr>\n",
       "  <th>Heteroskedasticity (H):</th> <td>0.12</td>  <th>  Skew:              </th>  <td>-2.02</td>\n",
       "</tr>\n",
       "<tr>\n",
       "  <th>Prob(H) (two-sided):</th>    <td>0.00</td>  <th>  Kurtosis:          </th>  <td>5.93</td> \n",
       "</tr>\n",
       "</table><br/><br/>Warnings:<br/>[1] Covariance matrix calculated using the outer product of gradients (complex-step)."
      ],
      "text/plain": [
       "<class 'statsmodels.iolib.summary.Summary'>\n",
       "\"\"\"\n",
       "                                   SARIMAX Results                                   \n",
       "=====================================================================================\n",
       "Dep. Variable:     Surplus(+)/Deficit(-)(MU)   No. Observations:                   98\n",
       "Model:                                 ARIMA   Log Likelihood                -742.628\n",
       "Date:                       Thu, 28 Jul 2022   AIC                           1489.257\n",
       "Time:                               10:28:22   BIC                           1494.426\n",
       "Sample:                           04-01-2012   HQIC                          1491.348\n",
       "                                - 05-01-2020                                         \n",
       "Covariance Type:                         opg                                         \n",
       "==============================================================================\n",
       "                 coef    std err          z      P>|z|      [0.025      0.975]\n",
       "------------------------------------------------------------------------------\n",
       "const       -263.6590    113.720     -2.318      0.020    -486.547     -40.771\n",
       "sigma2      2.237e+05   4.84e+04      4.617      0.000    1.29e+05    3.19e+05\n",
       "===================================================================================\n",
       "Ljung-Box (L1) (Q):                  75.38   Jarque-Bera (JB):               101.41\n",
       "Prob(Q):                              0.00   Prob(JB):                         0.00\n",
       "Heteroskedasticity (H):               0.12   Skew:                            -2.02\n",
       "Prob(H) (two-sided):                  0.00   Kurtosis:                         5.93\n",
       "===================================================================================\n",
       "\n",
       "Warnings:\n",
       "[1] Covariance matrix calculated using the outer product of gradients (complex-step).\n",
       "\"\"\""
      ]
     },
     "execution_count": 58,
     "metadata": {},
     "output_type": "execute_result"
    }
   ],
   "source": [
    "# Baseline ARIMA model\n",
    "baseline_ar = ARIMA(train, order=(0,0,0)).fit()\n",
    "bl_preds = baseline_ar.predict(typ='levels')\n",
    "bl_rmse = np.sqrt(mean_squared_error(train, bl_preds))\n",
    "baseline_ar.summary()"
   ]
  },
  {
   "cell_type": "code",
   "execution_count": 59,
   "metadata": {
    "ExecuteTime": {
     "end_time": "2022-07-27T01:50:16.153330Z",
     "start_time": "2022-07-27T01:50:16.146727Z"
    },
    "scrolled": true
   },
   "outputs": [
    {
     "data": {
      "text/plain": [
       "2012-04-01   -263.659045\n",
       "2012-05-01   -263.659045\n",
       "2012-06-01   -263.659045\n",
       "2012-07-01   -263.659045\n",
       "2012-08-01   -263.659045\n",
       "2012-09-01   -263.659045\n",
       "2012-10-01   -263.659045\n",
       "2012-11-01   -263.659045\n",
       "2012-12-01   -263.659045\n",
       "2013-01-01   -263.659045\n",
       "2013-02-01   -263.659045\n",
       "2013-03-01   -263.659045\n",
       "2013-04-01   -263.659045\n",
       "2013-05-01   -263.659045\n",
       "2013-06-01   -263.659045\n",
       "2013-07-01   -263.659045\n",
       "2013-08-01   -263.659045\n",
       "2013-09-01   -263.659045\n",
       "2013-10-01   -263.659045\n",
       "2013-11-01   -263.659045\n",
       "2013-12-01   -263.659045\n",
       "2014-01-01   -263.659045\n",
       "2014-02-01   -263.659045\n",
       "2014-03-01   -263.659045\n",
       "2014-04-01   -263.659045\n",
       "2014-05-01   -263.659045\n",
       "2014-06-01   -263.659045\n",
       "2014-07-01   -263.659045\n",
       "2014-08-01   -263.659045\n",
       "2014-09-01   -263.659045\n",
       "2014-10-01   -263.659045\n",
       "2014-11-01   -263.659045\n",
       "2014-12-01   -263.659045\n",
       "2015-01-01   -263.659045\n",
       "2015-02-01   -263.659045\n",
       "2015-03-01   -263.659045\n",
       "2015-04-01   -263.659045\n",
       "2015-05-01   -263.659045\n",
       "2015-06-01   -263.659045\n",
       "2015-07-01   -263.659045\n",
       "2015-08-01   -263.659045\n",
       "2015-09-01   -263.659045\n",
       "2015-10-01   -263.659045\n",
       "2015-11-01   -263.659045\n",
       "2015-12-01   -263.659045\n",
       "2016-01-01   -263.659045\n",
       "2016-02-01   -263.659045\n",
       "2016-03-01   -263.659045\n",
       "2016-04-01   -263.659045\n",
       "2016-05-01   -263.659045\n",
       "2016-06-01   -263.659045\n",
       "2016-07-01   -263.659045\n",
       "2016-08-01   -263.659045\n",
       "2016-09-01   -263.659045\n",
       "2016-10-01   -263.659045\n",
       "2016-11-01   -263.659045\n",
       "2016-12-01   -263.659045\n",
       "2017-01-01   -263.659045\n",
       "2017-02-01   -263.659045\n",
       "2017-03-01   -263.659045\n",
       "2017-04-01   -263.659045\n",
       "2017-05-01   -263.659045\n",
       "2017-06-01   -263.659045\n",
       "2017-07-01   -263.659045\n",
       "2017-08-01   -263.659045\n",
       "2017-09-01   -263.659045\n",
       "2017-10-01   -263.659045\n",
       "2017-11-01   -263.659045\n",
       "2017-12-01   -263.659045\n",
       "2018-01-01   -263.659045\n",
       "2018-02-01   -263.659045\n",
       "2018-03-01   -263.659045\n",
       "2018-04-01   -263.659045\n",
       "2018-05-01   -263.659045\n",
       "2018-06-01   -263.659045\n",
       "2018-07-01   -263.659045\n",
       "2018-08-01   -263.659045\n",
       "2018-09-01   -263.659045\n",
       "2018-10-01   -263.659045\n",
       "2018-11-01   -263.659045\n",
       "2018-12-01   -263.659045\n",
       "2019-01-01   -263.659045\n",
       "2019-02-01   -263.659045\n",
       "2019-03-01   -263.659045\n",
       "2019-04-01   -263.659045\n",
       "2019-05-01   -263.659045\n",
       "2019-06-01   -263.659045\n",
       "2019-07-01   -263.659045\n",
       "2019-08-01   -263.659045\n",
       "2019-09-01   -263.659045\n",
       "2019-10-01   -263.659045\n",
       "2019-11-01   -263.659045\n",
       "2019-12-01   -263.659045\n",
       "2020-01-01   -263.659045\n",
       "2020-02-01   -263.659045\n",
       "2020-03-01   -263.659045\n",
       "2020-04-01   -263.659045\n",
       "2020-05-01   -263.659045\n",
       "Freq: MS, Name: predicted_mean, dtype: float64"
      ]
     },
     "execution_count": 59,
     "metadata": {},
     "output_type": "execute_result"
    }
   ],
   "source": [
    "bl_preds"
   ]
  },
  {
   "cell_type": "code",
   "execution_count": 60,
   "metadata": {
    "ExecuteTime": {
     "end_time": "2022-07-27T01:50:34.410153Z",
     "start_time": "2022-07-27T01:50:34.406433Z"
    }
   },
   "outputs": [
    {
     "name": "stdout",
     "output_type": "stream",
     "text": [
      "Baseline AIC: 1489.2565381939116\n",
      "Random Walk AIC: 1298.952242227274\n",
      "AR(1, 1, 0) AIC: 1300.8090583130981\n"
     ]
    }
   ],
   "source": [
    "print(f'Baseline AIC: {baseline_ar.aic}')\n",
    "print(f'Random Walk AIC: {random_walk_model.aic}')\n",
    "print(f'AR(1, 1, 0) AIC: {ar_1.aic}' )"
   ]
  },
  {
   "cell_type": "markdown",
   "metadata": {},
   "source": [
    "We note that lower AIC is indicates a better model. In the case above the random walk model is better than the rest."
   ]
  },
  {
   "cell_type": "code",
   "execution_count": 61,
   "metadata": {
    "ExecuteTime": {
     "end_time": "2022-07-27T01:52:11.289677Z",
     "start_time": "2022-07-27T01:52:11.284701Z"
    }
   },
   "outputs": [],
   "source": [
    "y_hat_ar1 = ar_1.predict(typ='levels')\n",
    "ar1_rmse = np.sqrt(mean_squared_error(train, y_hat_ar1))"
   ]
  },
  {
   "cell_type": "code",
   "execution_count": 62,
   "metadata": {
    "ExecuteTime": {
     "end_time": "2022-07-27T01:52:13.145863Z",
     "start_time": "2022-07-27T01:52:13.141645Z"
    }
   },
   "outputs": [],
   "source": [
    "y_hat_rw = random_walk_model.predict(typ='levels')\n",
    "rw_rmse = np.sqrt(mean_squared_error(train, y_hat_rw))"
   ]
  },
  {
   "cell_type": "code",
   "execution_count": 63,
   "metadata": {
    "ExecuteTime": {
     "end_time": "2022-07-27T01:52:22.651887Z",
     "start_time": "2022-07-27T01:52:22.648281Z"
    }
   },
   "outputs": [
    {
     "name": "stdout",
     "output_type": "stream",
     "text": [
      "Baseline RMSE:    472.90803349956406\n",
      "Random Walk RMSE: 262.6828047634016\n",
      "AR1 RMSE:         262.5987601453368\n"
     ]
    }
   ],
   "source": [
    "print(f'Baseline RMSE:    {bl_rmse}')\n",
    "print(f'Random Walk RMSE: {rw_rmse}')\n",
    "print(f'AR1 RMSE:         {ar1_rmse}')"
   ]
  },
  {
   "cell_type": "markdown",
   "metadata": {},
   "source": [
    "However, we see the rmse is lowest for the random walk and AR1 model. "
   ]
  },
  {
   "cell_type": "markdown",
   "metadata": {},
   "source": [
    "#### Cross-Validation"
   ]
  },
  {
   "cell_type": "markdown",
   "metadata": {},
   "source": [
    "For this it will help to have our normal integer index."
   ]
  },
  {
   "cell_type": "code",
   "execution_count": 64,
   "metadata": {
    "ExecuteTime": {
     "end_time": "2022-07-27T01:53:52.455762Z",
     "start_time": "2022-07-27T01:53:52.450834Z"
    }
   },
   "outputs": [
    {
     "data": {
      "text/plain": [
       "DatetimeIndex(['2012-04-01', '2012-05-01', '2012-06-01', '2012-07-01',\n",
       "               '2012-08-01', '2012-09-01', '2012-10-01', '2012-11-01',\n",
       "               '2012-12-01', '2013-01-01', '2013-02-01', '2013-03-01',\n",
       "               '2013-04-01', '2013-05-01', '2013-06-01', '2013-07-01',\n",
       "               '2013-08-01', '2013-09-01', '2013-10-01', '2013-11-01',\n",
       "               '2013-12-01', '2014-01-01', '2014-02-01', '2014-03-01',\n",
       "               '2014-04-01', '2014-05-01', '2014-06-01', '2014-07-01',\n",
       "               '2014-08-01', '2014-09-01', '2014-10-01', '2014-11-01',\n",
       "               '2014-12-01', '2015-01-01', '2015-02-01', '2015-03-01',\n",
       "               '2015-04-01', '2015-05-01', '2015-06-01', '2015-07-01',\n",
       "               '2015-08-01', '2015-09-01', '2015-10-01', '2015-11-01',\n",
       "               '2015-12-01', '2016-01-01', '2016-02-01', '2016-03-01',\n",
       "               '2016-04-01', '2016-05-01', '2016-06-01', '2016-07-01',\n",
       "               '2016-08-01', '2016-09-01', '2016-10-01', '2016-11-01',\n",
       "               '2016-12-01', '2017-01-01', '2017-02-01', '2017-03-01',\n",
       "               '2017-04-01', '2017-05-01', '2017-06-01', '2017-07-01',\n",
       "               '2017-08-01', '2017-09-01', '2017-10-01', '2017-11-01',\n",
       "               '2017-12-01', '2018-01-01', '2018-02-01', '2018-03-01',\n",
       "               '2018-04-01', '2018-05-01', '2018-06-01', '2018-07-01',\n",
       "               '2018-08-01', '2018-09-01', '2018-10-01', '2018-11-01',\n",
       "               '2018-12-01', '2019-01-01', '2019-02-01', '2019-03-01',\n",
       "               '2019-04-01', '2019-05-01', '2019-06-01', '2019-07-01',\n",
       "               '2019-08-01', '2019-09-01', '2019-10-01', '2019-11-01',\n",
       "               '2019-12-01', '2020-01-01', '2020-02-01', '2020-03-01',\n",
       "               '2020-04-01', '2020-05-01'],\n",
       "              dtype='datetime64[ns]', name='ts_date', freq=None)"
      ]
     },
     "execution_count": 64,
     "metadata": {},
     "output_type": "execute_result"
    }
   ],
   "source": [
    "train.index"
   ]
  },
  {
   "cell_type": "code",
   "execution_count": 65,
   "metadata": {
    "ExecuteTime": {
     "end_time": "2022-07-27T01:53:56.341533Z",
     "start_time": "2022-07-27T01:53:56.332012Z"
    }
   },
   "outputs": [],
   "source": [
    "train_with_ind = train.reset_index()"
   ]
  },
  {
   "cell_type": "code",
   "execution_count": 66,
   "metadata": {
    "ExecuteTime": {
     "end_time": "2022-07-27T01:54:13.993522Z",
     "start_time": "2022-07-27T01:54:13.794315Z"
    }
   },
   "outputs": [
    {
     "name": "stdout",
     "output_type": "stream",
     "text": [
      "258.05359881738633\n",
      "213.99145384990865\n",
      "3.6971211423517456\n",
      "3.4833630928351065\n",
      "104.58388508326814\n"
     ]
    }
   ],
   "source": [
    "for train_ind, val_ind in split.split(train_with_ind):\n",
    "    ar = ARIMA(endog=train_with_ind.iloc[train_ind, -1], order=(1, 1, 0)).fit()\n",
    "    preds = ar.predict(typ='levels', start=val_ind[0], end=val_ind[-1])\n",
    "    true = train_with_ind.iloc[val_ind, -1]\n",
    "    print(np.sqrt(mean_squared_error(true, preds)))"
   ]
  },
  {
   "cell_type": "markdown",
   "metadata": {},
   "source": [
    "#### SRIMAX Modeling"
   ]
  },
  {
   "cell_type": "markdown",
   "metadata": {},
   "source": [
    "We now try the SARIMAX modeling as we know our data has a seasonality component"
   ]
  },
  {
   "cell_type": "code",
   "execution_count": 67,
   "metadata": {
    "ExecuteTime": {
     "end_time": "2022-07-27T01:59:35.812336Z",
     "start_time": "2022-07-27T01:59:35.806987Z"
    }
   },
   "outputs": [
    {
     "name": "stdout",
     "output_type": "stream",
     "text": [
      "Examples of parameter for SARIMA...\n",
      "SARIMAX: (0, 1, 0) x (0, 1, 0, 12)\n",
      "SARIMAX: (0, 1, 0) x (0, 1, 1, 12)\n",
      "SARIMAX: (0, 1, 0) x (1, 1, 0, 12)\n",
      "SARIMAX: (0, 1, 0) x (1, 1, 1, 12)\n",
      "SARIMAX: (0, 1, 1) x (0, 1, 0, 12)\n",
      "SARIMAX: (0, 1, 1) x (0, 1, 1, 12)\n",
      "SARIMAX: (0, 1, 1) x (1, 1, 0, 12)\n",
      "SARIMAX: (0, 1, 1) x (1, 1, 1, 12)\n",
      "SARIMAX: (1, 1, 0) x (0, 1, 0, 12)\n",
      "SARIMAX: (1, 1, 0) x (0, 1, 1, 12)\n",
      "SARIMAX: (1, 1, 0) x (1, 1, 0, 12)\n",
      "SARIMAX: (1, 1, 0) x (1, 1, 1, 12)\n",
      "SARIMAX: (1, 1, 1) x (0, 1, 0, 12)\n",
      "SARIMAX: (1, 1, 1) x (0, 1, 1, 12)\n",
      "SARIMAX: (1, 1, 1) x (1, 1, 0, 12)\n",
      "SARIMAX: (1, 1, 1) x (1, 1, 1, 12)\n"
     ]
    }
   ],
   "source": [
    "p = q = range(0, 2)\n",
    "pdq = list(itertools.product(p, [1], q))\n",
    "seasonal_pdq = [(x[0], x[1], x[2], 12) for x in list(itertools.product(p, [1], q))]\n",
    "print('Examples of parameter for SARIMA...')\n",
    "for i in pdq:\n",
    "    for s in seasonal_pdq:\n",
    "        print('SARIMAX: {} x {}'.format(i, s))"
   ]
  },
  {
   "cell_type": "code",
   "execution_count": 68,
   "metadata": {
    "ExecuteTime": {
     "end_time": "2022-07-27T02:06:42.064242Z",
     "start_time": "2022-07-27T02:06:39.456716Z"
    }
   },
   "outputs": [
    {
     "name": "stdout",
     "output_type": "stream",
     "text": [
      "RUNNING THE L-BFGS-B CODE\n",
      "\n",
      "           * * *\n",
      "\n",
      "Machine precision = 2.220D-16\n",
      " N =            1     M =           10\n",
      "\n",
      "At X0         0 variables are exactly at the bounds\n",
      "\n",
      "At iterate    0    f=  5.79726D+00    |proj g|=  6.34769D-04\n",
      "\n",
      "           * * *\n",
      "\n",
      "Tit   = total number of iterations\n",
      "Tnf   = total number of function evaluations\n",
      "Tnint = total number of segments explored during Cauchy searches\n",
      "Skip  = number of BFGS updates skipped\n",
      "Nact  = number of active bounds at final generalized Cauchy point\n",
      "Projg = norm of the final projected gradient\n",
      "F     = final function value\n",
      "\n",
      "           * * *\n",
      "\n",
      "   N    Tit     Tnf  Tnint  Skip  Nact     Projg        F\n",
      "    1      3      5      1     0     0   5.125D-06   5.793D+00\n",
      "  F =   5.7931871284355365     \n",
      "\n",
      "CONVERGENCE: NORM_OF_PROJECTED_GRADIENT_<=_PGTOL            \n",
      "ARIMA(0, 1, 0)x(0, 1, 0, 12) - AIC:1137.464677173365\n",
      "RUNNING THE L-BFGS-B CODE\n",
      "\n",
      "           * * *\n",
      "\n",
      "Machine precision = 2.220D-16\n",
      " N =            2     M =           10\n",
      "\n",
      "At X0         0 variables are exactly at the bounds\n",
      "\n",
      "At iterate    0    f=  5.12218D+00    |proj g|=  1.64940D+00\n",
      "\n",
      "At iterate    5    f=  4.83291D+00    |proj g|=  2.32389D-02\n",
      "\n",
      "At iterate   10    f=  4.80375D+00    |proj g|=  3.49992D-01\n"
     ]
    },
    {
     "name": "stderr",
     "output_type": "stream",
     "text": [
      " This problem is unconstrained.\n",
      " This problem is unconstrained.\n"
     ]
    },
    {
     "name": "stdout",
     "output_type": "stream",
     "text": [
      "\n",
      "At iterate   15    f=  4.66962D+00    |proj g|=  5.91470D-02\n",
      "\n",
      "At iterate   20    f=  4.66838D+00    |proj g|=  1.73355D-06\n",
      "\n",
      "           * * *\n",
      "\n",
      "Tit   = total number of iterations\n",
      "Tnf   = total number of function evaluations\n",
      "Tnint = total number of segments explored during Cauchy searches\n",
      "Skip  = number of BFGS updates skipped\n",
      "Nact  = number of active bounds at final generalized Cauchy point\n",
      "Projg = norm of the final projected gradient\n",
      "F     = final function value\n",
      "\n",
      "           * * *\n",
      "\n",
      "   N    Tit     Tnf  Tnint  Skip  Nact     Projg        F\n",
      "    2     20     22      1     0     0   1.734D-06   4.668D+00\n",
      "  F =   4.6683795835562618     \n",
      "\n",
      "CONVERGENCE: NORM_OF_PROJECTED_GRADIENT_<=_PGTOL            \n",
      "ARIMA(0, 1, 0)x(0, 1, 1, 12) - AIC:919.0023983770274\n",
      "RUNNING THE L-BFGS-B CODE\n",
      "\n",
      "           * * *\n",
      "\n",
      "Machine precision = 2.220D-16\n",
      " N =            2     M =           10\n",
      "\n",
      "At X0         0 variables are exactly at the bounds\n",
      "\n",
      "At iterate    0    f=  4.73064D+00    |proj g|=  8.95923D-06\n",
      "\n",
      "           * * *\n",
      "\n",
      "Tit   = total number of iterations\n",
      "Tnf   = total number of function evaluations\n",
      "Tnint = total number of segments explored during Cauchy searches\n",
      "Skip  = number of BFGS updates skipped\n",
      "Nact  = number of active bounds at final generalized Cauchy point\n",
      "Projg = norm of the final projected gradient\n",
      "F     = final function value\n",
      "\n",
      "           * * *\n",
      "\n",
      "   N    Tit     Tnf  Tnint  Skip  Nact     Projg        F\n",
      "    2      0      1      0     0     0   8.959D-06   4.731D+00\n",
      "  F =   4.7306372823261063     \n",
      "\n",
      "CONVERGENCE: NORM_OF_PROJECTED_GRADIENT_<=_PGTOL            \n",
      "ARIMA(0, 1, 0)x(1, 1, 0, 12) - AIC:931.2049073359168\n",
      "RUNNING THE L-BFGS-B CODE\n",
      "\n",
      "           * * *\n",
      "\n",
      "Machine precision = 2.220D-16\n",
      " N =            3     M =           10\n",
      "\n",
      "At X0         0 variables are exactly at the bounds\n",
      "\n",
      "At iterate    0    f=  5.07301D+00    |proj g|=  2.11263D+00\n"
     ]
    },
    {
     "name": "stderr",
     "output_type": "stream",
     "text": [
      " This problem is unconstrained.\n",
      " This problem is unconstrained.\n"
     ]
    },
    {
     "name": "stdout",
     "output_type": "stream",
     "text": [
      "\n",
      "At iterate    5    f=  4.58288D+00    |proj g|=  1.12721D-01\n",
      "\n",
      "At iterate   10    f=  4.58148D+00    |proj g|=  3.77266D-04\n",
      "\n",
      "At iterate   15    f=  4.58140D+00    |proj g|=  1.09248D-02\n",
      "\n",
      "At iterate   20    f=  4.57896D+00    |proj g|=  4.67595D-02\n",
      "\n",
      "At iterate   25    f=  4.57814D+00    |proj g|=  2.81939D-05\n",
      "\n",
      "           * * *\n",
      "\n",
      "Tit   = total number of iterations\n",
      "Tnf   = total number of function evaluations\n",
      "Tnint = total number of segments explored during Cauchy searches\n",
      "Skip  = number of BFGS updates skipped\n",
      "Nact  = number of active bounds at final generalized Cauchy point\n",
      "Projg = norm of the final projected gradient\n",
      "F     = final function value\n",
      "\n",
      "           * * *\n",
      "\n",
      "   N    Tit     Tnf  Tnint  Skip  Nact     Projg        F\n",
      "    3     27     32      1     0     0   2.557D-06   4.578D+00\n",
      "  F =   4.5781397016585350     \n",
      "\n",
      "CONVERGENCE: NORM_OF_PROJECTED_GRADIENT_<=_PGTOL            \n",
      "ARIMA(0, 1, 0)x(1, 1, 1, 12) - AIC:903.3153815250728\n",
      "RUNNING THE L-BFGS-B CODE\n",
      "\n",
      "           * * *\n",
      "\n",
      "Machine precision = 2.220D-16\n",
      " N =            2     M =           10\n",
      "\n",
      "At X0         0 variables are exactly at the bounds\n",
      "\n",
      "At iterate    0    f=  5.61178D+00    |proj g|=  5.89762D-02\n",
      "\n",
      "           * * *\n",
      "\n",
      "Tit   = total number of iterations\n",
      "Tnf   = total number of function evaluations\n",
      "Tnint = total number of segments explored during Cauchy searches\n",
      "Skip  = number of BFGS updates skipped\n",
      "Nact  = number of active bounds at final generalized Cauchy point\n",
      "Projg = norm of the final projected gradient\n",
      "F     = final function value\n",
      "\n",
      "           * * *\n",
      "\n",
      "   N    Tit     Tnf  Tnint  Skip  Nact     Projg        F\n",
      "    2      3      6      1     0     0   9.679D-05   5.611D+00\n",
      "  F =   5.6106292214002726     \n",
      "\n",
      "CONVERGENCE: REL_REDUCTION_OF_F_<=_FACTR*EPSMCH             \n",
      "ARIMA(0, 1, 1)x(0, 1, 0, 12) - AIC:1103.6833273944535\n",
      "RUNNING THE L-BFGS-B CODE\n",
      "\n",
      "           * * *\n",
      "\n",
      "Machine precision = 2.220D-16\n",
      " N =            3     M =           10\n",
      "\n",
      "At X0         0 variables are exactly at the bounds\n",
      "\n",
      "At iterate    0    f=  4.64478D+00    |proj g|=  2.19648D-01\n",
      "\n",
      "At iterate    5    f=  4.61830D+00    |proj g|=  1.92517D-03\n"
     ]
    },
    {
     "name": "stderr",
     "output_type": "stream",
     "text": [
      " This problem is unconstrained.\n",
      " This problem is unconstrained.\n"
     ]
    },
    {
     "name": "stdout",
     "output_type": "stream",
     "text": [
      "\n",
      "At iterate   10    f=  4.61486D+00    |proj g|=  3.65801D-02\n",
      "\n",
      "At iterate   15    f=  4.56720D+00    |proj g|=  9.10175D-02\n",
      "\n",
      "At iterate   20    f=  4.55550D+00    |proj g|=  4.25724D-05\n",
      "\n",
      "           * * *\n",
      "\n",
      "Tit   = total number of iterations\n",
      "Tnf   = total number of function evaluations\n",
      "Tnint = total number of segments explored during Cauchy searches\n",
      "Skip  = number of BFGS updates skipped\n",
      "Nact  = number of active bounds at final generalized Cauchy point\n",
      "Projg = norm of the final projected gradient\n",
      "F     = final function value\n",
      "\n",
      "           * * *\n",
      "\n",
      "   N    Tit     Tnf  Tnint  Skip  Nact     Projg        F\n",
      "    3     21     24      1     0     0   2.763D-06   4.556D+00\n",
      "  F =   4.5555029170339028     \n",
      "\n",
      "CONVERGENCE: NORM_OF_PROJECTED_GRADIENT_<=_PGTOL            \n",
      "ARIMA(0, 1, 1)x(0, 1, 1, 12) - AIC:898.878571738645\n",
      "RUNNING THE L-BFGS-B CODE\n",
      "\n",
      "           * * *\n",
      "\n",
      "Machine precision = 2.220D-16\n",
      " N =            3     M =           10\n",
      "\n",
      "At X0         0 variables are exactly at the bounds\n",
      "\n",
      "At iterate    0    f=  4.77371D+00    |proj g|=  3.47242D-02\n",
      "\n",
      "At iterate    5    f=  4.77027D+00    |proj g|=  1.74098D-03\n",
      "\n",
      "At iterate   10    f=  4.76213D+00    |proj g|=  5.52627D-02\n",
      "\n",
      "At iterate   15    f=  4.72301D+00    |proj g|=  6.90060D-03\n",
      "\n",
      "           * * *\n",
      "\n",
      "Tit   = total number of iterations\n",
      "Tnf   = total number of function evaluations\n",
      "Tnint = total number of segments explored during Cauchy searches\n",
      "Skip  = number of BFGS updates skipped\n",
      "Nact  = number of active bounds at final generalized Cauchy point\n",
      "Projg = norm of the final projected gradient\n",
      "F     = final function value\n",
      "\n",
      "           * * *\n",
      "\n",
      "   N    Tit     Tnf  Tnint  Skip  Nact     Projg        F\n",
      "    3     18     21      1     0     0   8.658D-06   4.723D+00\n",
      "  F =   4.7229488074757935     \n",
      "\n",
      "CONVERGENCE: NORM_OF_PROJECTED_GRADIENT_<=_PGTOL            \n",
      "ARIMA(0, 1, 1)x(1, 1, 0, 12) - AIC:931.6979662652556\n",
      "RUNNING THE L-BFGS-B CODE\n",
      "\n",
      "           * * *\n",
      "\n",
      "Machine precision = 2.220D-16\n",
      " N =            4     M =           10\n",
      "\n",
      "At X0         0 variables are exactly at the bounds\n",
      "\n",
      "At iterate    0    f=  4.63926D+00    |proj g|=  2.40654D-01\n"
     ]
    },
    {
     "name": "stderr",
     "output_type": "stream",
     "text": [
      " This problem is unconstrained.\n",
      " This problem is unconstrained.\n"
     ]
    },
    {
     "name": "stdout",
     "output_type": "stream",
     "text": [
      "\n",
      "At iterate    5    f=  4.59766D+00    |proj g|=  1.32781D-01\n",
      "\n",
      "At iterate   10    f=  4.59152D+00    |proj g|=  2.41987D-03\n",
      "\n",
      "At iterate   15    f=  4.59034D+00    |proj g|=  3.18654D-02\n",
      "\n",
      "At iterate   20    f=  4.50208D+00    |proj g|=  3.16930D-01\n",
      "\n",
      "At iterate   25    f=  4.45269D+00    |proj g|=  1.86265D-03\n",
      "\n",
      "           * * *\n",
      "\n",
      "Tit   = total number of iterations\n",
      "Tnf   = total number of function evaluations\n",
      "Tnint = total number of segments explored during Cauchy searches\n",
      "Skip  = number of BFGS updates skipped\n",
      "Nact  = number of active bounds at final generalized Cauchy point\n",
      "Projg = norm of the final projected gradient\n",
      "F     = final function value\n",
      "\n",
      "           * * *\n",
      "\n",
      "   N    Tit     Tnf  Tnint  Skip  Nact     Projg        F\n",
      "    4     27     33      1     0     0   1.973D-05   4.453D+00\n",
      "  F =   4.4526884271582929     \n",
      "\n",
      "CONVERGENCE: REL_REDUCTION_OF_F_<=_FACTR*EPSMCH             \n",
      "ARIMA(0, 1, 1)x(1, 1, 1, 12) - AIC:880.7269317230254\n",
      "RUNNING THE L-BFGS-B CODE\n",
      "\n",
      "           * * *\n",
      "\n",
      "Machine precision = 2.220D-16\n",
      " N =            2     M =           10\n",
      "\n",
      "At X0         0 variables are exactly at the bounds\n",
      "\n",
      "At iterate    0    f=  5.72035D+00    |proj g|=  5.17861D-06\n",
      "\n",
      "           * * *\n",
      "\n",
      "Tit   = total number of iterations\n",
      "Tnf   = total number of function evaluations\n",
      "Tnint = total number of segments explored during Cauchy searches\n",
      "Skip  = number of BFGS updates skipped\n",
      "Nact  = number of active bounds at final generalized Cauchy point\n",
      "Projg = norm of the final projected gradient\n",
      "F     = final function value\n",
      "\n",
      "           * * *\n",
      "\n",
      "   N    Tit     Tnf  Tnint  Skip  Nact     Projg        F\n",
      "    2      0      1      0     0     0   5.179D-06   5.720D+00\n",
      "  F =   5.7203546457032539     \n",
      "\n",
      "CONVERGENCE: NORM_OF_PROJECTED_GRADIENT_<=_PGTOL            \n",
      "ARIMA(1, 1, 0)x(0, 1, 0, 12) - AIC:1125.1895105578378\n",
      "RUNNING THE L-BFGS-B CODE\n",
      "\n",
      "           * * *\n",
      "\n",
      "Machine precision = 2.220D-16\n",
      " N =            3     M =           10\n",
      "\n",
      "At X0         0 variables are exactly at the bounds\n",
      "\n",
      "At iterate    0    f=  4.76589D+00    |proj g|=  2.48291D-01\n",
      "\n",
      "At iterate    5    f=  4.72196D+00    |proj g|=  1.89898D-03\n",
      "\n",
      "At iterate   10    f=  4.72003D+00    |proj g|=  5.24143D-02\n"
     ]
    },
    {
     "name": "stderr",
     "output_type": "stream",
     "text": [
      " This problem is unconstrained.\n",
      " This problem is unconstrained.\n"
     ]
    },
    {
     "name": "stdout",
     "output_type": "stream",
     "text": [
      "\n",
      "At iterate   15    f=  4.66919D+00    |proj g|=  2.28259D-01\n",
      "\n",
      "At iterate   20    f=  4.65263D+00    |proj g|=  8.09735D-06\n",
      "\n",
      "           * * *\n",
      "\n",
      "Tit   = total number of iterations\n",
      "Tnf   = total number of function evaluations\n",
      "Tnint = total number of segments explored during Cauchy searches\n",
      "Skip  = number of BFGS updates skipped\n",
      "Nact  = number of active bounds at final generalized Cauchy point\n",
      "Projg = norm of the final projected gradient\n",
      "F     = final function value\n",
      "\n",
      "           * * *\n",
      "\n",
      "   N    Tit     Tnf  Tnint  Skip  Nact     Projg        F\n",
      "    3     20     23      1     0     0   8.097D-06   4.653D+00\n",
      "  F =   4.6526252223980080     \n",
      "\n",
      "CONVERGENCE: NORM_OF_PROJECTED_GRADIENT_<=_PGTOL            \n",
      "ARIMA(1, 1, 0)x(0, 1, 1, 12) - AIC:917.9145435900097\n",
      "RUNNING THE L-BFGS-B CODE\n",
      "\n",
      "           * * *\n",
      "\n",
      "Machine precision = 2.220D-16\n",
      " N =            3     M =           10\n",
      "\n",
      "At X0         0 variables are exactly at the bounds\n",
      "\n",
      "At iterate    0    f=  4.72956D+00    |proj g|=  9.92529D-02\n",
      "\n",
      "At iterate    5    f=  4.71680D+00    |proj g|=  5.69406D-03\n",
      "\n",
      "At iterate   10    f=  4.70544D+00    |proj g|=  1.19990D-01\n",
      "\n",
      "At iterate   15    f=  4.64335D+00    |proj g|=  9.04334D-04\n",
      "\n",
      "           * * *\n",
      "\n",
      "Tit   = total number of iterations\n",
      "Tnf   = total number of function evaluations\n",
      "Tnint = total number of segments explored during Cauchy searches\n",
      "Skip  = number of BFGS updates skipped\n",
      "Nact  = number of active bounds at final generalized Cauchy point\n",
      "Projg = norm of the final projected gradient\n",
      "F     = final function value\n",
      "\n",
      "           * * *\n",
      "\n",
      "   N    Tit     Tnf  Tnint  Skip  Nact     Projg        F\n",
      "    3     18     21      1     0     0   2.081D-06   4.643D+00\n",
      "  F =   4.6433485180019476     \n",
      "\n",
      "CONVERGENCE: NORM_OF_PROJECTED_GRADIENT_<=_PGTOL            \n",
      "ARIMA(1, 1, 0)x(1, 1, 0, 12) - AIC:916.0963095283818\n"
     ]
    },
    {
     "name": "stderr",
     "output_type": "stream",
     "text": [
      " This problem is unconstrained.\n",
      " This problem is unconstrained.\n"
     ]
    },
    {
     "name": "stdout",
     "output_type": "stream",
     "text": [
      "RUNNING THE L-BFGS-B CODE\n",
      "\n",
      "           * * *\n",
      "\n",
      "Machine precision = 2.220D-16\n",
      " N =            4     M =           10\n",
      "\n",
      "At X0         0 variables are exactly at the bounds\n",
      "\n",
      "At iterate    0    f=  4.76013D+00    |proj g|=  2.63793D-01\n",
      "\n",
      "At iterate    5    f=  4.70699D+00    |proj g|=  5.49458D-02\n",
      "\n",
      "At iterate   10    f=  4.69524D+00    |proj g|=  2.34598D-03\n",
      "\n",
      "At iterate   15    f=  4.69356D+00    |proj g|=  6.87003D-02\n",
      "\n",
      "At iterate   20    f=  4.58985D+00    |proj g|=  5.13106D-01\n",
      "\n",
      "At iterate   25    f=  4.55410D+00    |proj g|=  7.65786D-03\n",
      "\n",
      "           * * *\n",
      "\n",
      "Tit   = total number of iterations\n",
      "Tnf   = total number of function evaluations\n",
      "Tnint = total number of segments explored during Cauchy searches\n",
      "Skip  = number of BFGS updates skipped\n",
      "Nact  = number of active bounds at final generalized Cauchy point\n",
      "Projg = norm of the final projected gradient\n",
      "F     = final function value\n",
      "\n",
      "           * * *\n",
      "\n",
      "   N    Tit     Tnf  Tnint  Skip  Nact     Projg        F\n",
      "    4     28     33      1     0     0   8.344D-06   4.554D+00\n",
      "  F =   4.5540696377261085     \n",
      "\n",
      "CONVERGENCE: NORM_OF_PROJECTED_GRADIENT_<=_PGTOL            \n",
      "ARIMA(1, 1, 0)x(1, 1, 1, 12) - AIC:900.5976489943173\n",
      "RUNNING THE L-BFGS-B CODE\n",
      "\n",
      "           * * *\n",
      "\n",
      "Machine precision = 2.220D-16\n",
      " N =            3     M =           10\n",
      "\n",
      "At X0         0 variables are exactly at the bounds\n",
      "\n",
      "At iterate    0    f=  5.60597D+00    |proj g|=  4.64677D-03\n",
      "\n",
      "           * * *\n",
      "\n",
      "Tit   = total number of iterations\n",
      "Tnf   = total number of function evaluations\n",
      "Tnint = total number of segments explored during Cauchy searches\n",
      "Skip  = number of BFGS updates skipped\n",
      "Nact  = number of active bounds at final generalized Cauchy point\n",
      "Projg = norm of the final projected gradient\n",
      "F     = final function value\n",
      "\n",
      "           * * *\n",
      "\n",
      "   N    Tit     Tnf  Tnint  Skip  Nact     Projg        F\n",
      "    3      4      6      1     0     0   2.550D-05   5.606D+00\n",
      "  F =   5.6058846286645201     \n",
      "\n",
      "CONVERGENCE: REL_REDUCTION_OF_F_<=_FACTR*EPSMCH             \n",
      "ARIMA(1, 1, 1)x(0, 1, 0, 12) - AIC:1104.753387218246\n",
      "RUNNING THE L-BFGS-B CODE\n",
      "\n",
      "           * * *\n",
      "\n",
      "Machine precision = 2.220D-16\n",
      " N =            4     M =           10\n",
      "\n",
      "At X0         0 variables are exactly at the bounds\n",
      "\n",
      "At iterate    0    f=  4.64902D+00    |proj g|=  2.04637D-01\n"
     ]
    },
    {
     "name": "stderr",
     "output_type": "stream",
     "text": [
      " This problem is unconstrained.\n",
      " This problem is unconstrained.\n"
     ]
    },
    {
     "name": "stdout",
     "output_type": "stream",
     "text": [
      "\n",
      "At iterate    5    f=  4.61836D+00    |proj g|=  3.04990D-02\n",
      "\n",
      "At iterate   10    f=  4.61739D+00    |proj g|=  3.58893D-03\n",
      "\n",
      "At iterate   15    f=  4.61070D+00    |proj g|=  7.23397D-02\n",
      "\n",
      "At iterate   20    f=  4.55307D+00    |proj g|=  1.96093D-02\n",
      "\n",
      "At iterate   25    f=  4.55250D+00    |proj g|=  3.94298D-06\n",
      "\n",
      "           * * *\n",
      "\n",
      "Tit   = total number of iterations\n",
      "Tnf   = total number of function evaluations\n",
      "Tnint = total number of segments explored during Cauchy searches\n",
      "Skip  = number of BFGS updates skipped\n",
      "Nact  = number of active bounds at final generalized Cauchy point\n",
      "Projg = norm of the final projected gradient\n",
      "F     = final function value\n",
      "\n",
      "           * * *\n",
      "\n",
      "   N    Tit     Tnf  Tnint  Skip  Nact     Projg        F\n",
      "    4     25     28      1     0     0   3.943D-06   4.553D+00\n",
      "  F =   4.5525044085333644     \n",
      "\n",
      "CONVERGENCE: NORM_OF_PROJECTED_GRADIENT_<=_PGTOL            \n",
      "ARIMA(1, 1, 1)x(0, 1, 1, 12) - AIC:900.2908640725394\n",
      "RUNNING THE L-BFGS-B CODE\n",
      "\n",
      "           * * *\n",
      "\n",
      "Machine precision = 2.220D-16\n",
      " N =            4     M =           10\n",
      "\n",
      "At X0         0 variables are exactly at the bounds\n",
      "\n",
      "At iterate    0    f=  4.69998D+00    |proj g|=  7.62966D-02\n"
     ]
    },
    {
     "name": "stderr",
     "output_type": "stream",
     "text": [
      " This problem is unconstrained.\n"
     ]
    },
    {
     "name": "stdout",
     "output_type": "stream",
     "text": [
      "\n",
      "At iterate    5    f=  4.68279D+00    |proj g|=  8.92662D-02\n",
      "\n",
      "At iterate   10    f=  4.67659D+00    |proj g|=  4.53846D-03\n",
      "\n",
      "At iterate   15    f=  4.67610D+00    |proj g|=  1.31569D-02\n",
      "\n",
      "At iterate   20    f=  4.63298D+00    |proj g|=  1.57894D-01\n",
      "\n",
      "At iterate   25    f=  4.60348D+00    |proj g|=  6.05535D-03\n",
      "\n",
      "           * * *\n",
      "\n",
      "Tit   = total number of iterations\n",
      "Tnf   = total number of function evaluations\n",
      "Tnint = total number of segments explored during Cauchy searches\n",
      "Skip  = number of BFGS updates skipped\n",
      "Nact  = number of active bounds at final generalized Cauchy point\n",
      "Projg = norm of the final projected gradient\n",
      "F     = final function value\n",
      "\n",
      "           * * *\n",
      "\n",
      "   N    Tit     Tnf  Tnint  Skip  Nact     Projg        F\n",
      "    4     28     40      1     0     0   7.993D-06   4.603D+00\n",
      "  F =   4.6034526426063023     \n",
      "\n",
      "CONVERGENCE: NORM_OF_PROJECTED_GRADIENT_<=_PGTOL            \n",
      "ARIMA(1, 1, 1)x(1, 1, 0, 12) - AIC:910.2767179508353\n",
      "RUNNING THE L-BFGS-B CODE\n",
      "\n",
      "           * * *\n",
      "\n",
      "Machine precision = 2.220D-16\n",
      " N =            5     M =           10\n",
      "\n",
      "At X0         0 variables are exactly at the bounds\n",
      "\n",
      "At iterate    0    f=  4.64417D+00    |proj g|=  2.18269D-01\n",
      "\n",
      "At iterate    5    f=  4.60554D+00    |proj g|=  1.29059D-01\n"
     ]
    },
    {
     "name": "stderr",
     "output_type": "stream",
     "text": [
      " This problem is unconstrained.\n"
     ]
    },
    {
     "name": "stdout",
     "output_type": "stream",
     "text": [
      "\n",
      "At iterate   10    f=  4.58846D+00    |proj g|=  1.00905D-02\n",
      "\n",
      "At iterate   15    f=  4.58812D+00    |proj g|=  4.33127D-03\n",
      "\n",
      "At iterate   20    f=  4.57703D+00    |proj g|=  1.32891D-01\n",
      "\n",
      "At iterate   25    f=  4.45503D+00    |proj g|=  2.76487D-01\n",
      "\n",
      "At iterate   30    f=  4.44717D+00    |proj g|=  2.84330D-03\n",
      "\n",
      "           * * *\n",
      "\n",
      "Tit   = total number of iterations\n",
      "Tnf   = total number of function evaluations\n",
      "Tnint = total number of segments explored during Cauchy searches\n",
      "Skip  = number of BFGS updates skipped\n",
      "Nact  = number of active bounds at final generalized Cauchy point\n",
      "Projg = norm of the final projected gradient\n",
      "F     = final function value\n",
      "\n",
      "           * * *\n",
      "\n",
      "   N    Tit     Tnf  Tnint  Skip  Nact     Projg        F\n",
      "    5     33     41      1     0     0   2.320D-05   4.447D+00\n",
      "  F =   4.4471563570197086     \n",
      "\n",
      "CONVERGENCE: REL_REDUCTION_OF_F_<=_FACTR*EPSMCH             \n",
      "ARIMA(1, 1, 1)x(1, 1, 1, 12) - AIC:881.6426459758629\n"
     ]
    }
   ],
   "source": [
    "for param in pdq:\n",
    "    for param_seasonal in seasonal_pdq:\n",
    "        try:\n",
    "            mod=SARIMAX(train,\n",
    "                         order=param,\n",
    "                         seasonal_order=param_seasonal,\n",
    "                         enforce_stationarity=False,\n",
    "                         enforce_invertibility=False, freq=train.index.inferred_freq)\n",
    "            results = mod.fit()\n",
    "            print('ARIMA{}x{} - AIC:{}'.format(param,param_seasonal,results.aic))\n",
    "        except: \n",
    "            print('Oops!')\n",
    "            continue"
   ]
  },
  {
   "cell_type": "markdown",
   "metadata": {},
   "source": [
    "Let's try the eighth from the top, ARIMA(0, 1, 1)x(1, 1, 1, 12)."
   ]
  },
  {
   "cell_type": "code",
   "execution_count": 69,
   "metadata": {
    "ExecuteTime": {
     "end_time": "2022-07-27T02:08:31.834999Z",
     "start_time": "2022-07-27T02:08:31.509415Z"
    }
   },
   "outputs": [
    {
     "name": "stdout",
     "output_type": "stream",
     "text": [
      "RUNNING THE L-BFGS-B CODE\n",
      "\n",
      "           * * *\n",
      "\n",
      "Machine precision = 2.220D-16\n",
      " N =            4     M =           10\n",
      "\n",
      "At X0         0 variables are exactly at the bounds\n",
      "\n",
      "At iterate    0    f=  4.63926D+00    |proj g|=  2.40654D-01\n",
      "\n",
      "At iterate    5    f=  4.59766D+00    |proj g|=  1.32781D-01\n"
     ]
    },
    {
     "name": "stderr",
     "output_type": "stream",
     "text": [
      " This problem is unconstrained.\n"
     ]
    },
    {
     "name": "stdout",
     "output_type": "stream",
     "text": [
      "\n",
      "At iterate   10    f=  4.59152D+00    |proj g|=  2.41987D-03\n",
      "\n",
      "At iterate   15    f=  4.59034D+00    |proj g|=  3.18654D-02\n",
      "\n",
      "At iterate   20    f=  4.50208D+00    |proj g|=  3.16930D-01\n",
      "\n",
      "At iterate   25    f=  4.45269D+00    |proj g|=  1.86265D-03\n",
      "\n",
      "           * * *\n",
      "\n",
      "Tit   = total number of iterations\n",
      "Tnf   = total number of function evaluations\n",
      "Tnint = total number of segments explored during Cauchy searches\n",
      "Skip  = number of BFGS updates skipped\n",
      "Nact  = number of active bounds at final generalized Cauchy point\n",
      "Projg = norm of the final projected gradient\n",
      "F     = final function value\n",
      "\n",
      "           * * *\n",
      "\n",
      "   N    Tit     Tnf  Tnint  Skip  Nact     Projg        F\n",
      "    4     27     33      1     0     0   1.973D-05   4.453D+00\n",
      "  F =   4.4526884271582929     \n",
      "\n",
      "CONVERGENCE: REL_REDUCTION_OF_F_<=_FACTR*EPSMCH             \n"
     ]
    }
   ],
   "source": [
    "sari_mod =SARIMAX(train,\n",
    "                  order=(0, 1, 1),\n",
    "                  seasonal_order=(1, 1, 1, 12),\n",
    "                  enforce_stationarity=False,\n",
    "                  enforce_invertibility=False).fit()"
   ]
  },
  {
   "cell_type": "code",
   "execution_count": 70,
   "metadata": {
    "ExecuteTime": {
     "end_time": "2022-07-27T02:09:05.341803Z",
     "start_time": "2022-07-27T02:09:04.361291Z"
    }
   },
   "outputs": [
    {
     "name": "stdout",
     "output_type": "stream",
     "text": [
      "RUNNING THE L-BFGS-B CODE\n",
      "\n",
      "           * * *\n",
      "\n",
      "Machine precision = 2.220D-16\n",
      " N =            4     M =           10\n",
      "\n",
      "At X0         0 variables are exactly at the bounds\n",
      "\n",
      "At iterate    0    f= -0.00000D+00    |proj g|=  0.00000D+00\n",
      "\n",
      "           * * *\n",
      "\n",
      "Tit   = total number of iterations\n",
      "Tnf   = total number of function evaluations\n",
      "Tnint = total number of segments explored during Cauchy searches\n",
      "Skip  = number of BFGS updates skipped\n",
      "Nact  = number of active bounds at final generalized Cauchy point\n",
      "Projg = norm of the final projected gradient\n",
      "F     = final function value\n",
      "\n",
      "           * * *\n",
      "\n",
      "   N    Tit     Tnf  Tnint  Skip  Nact     Projg        F\n",
      "    4      0      1      0     0     0   0.000D+00  -0.000D+00\n",
      "  F =  -0.0000000000000000     \n",
      "\n",
      "CONVERGENCE: NORM_OF_PROJECTED_GRADIENT_<=_PGTOL            \n",
      "518.085127172856\n",
      "RUNNING THE L-BFGS-B CODE\n",
      "\n",
      "           * * *\n",
      "\n",
      "Machine precision = 2.220D-16\n",
      " N =            4     M =           10\n",
      "\n",
      "At X0         0 variables are exactly at the bounds\n",
      "\n",
      "At iterate    0    f=  1.48205D+00    |proj g|=  1.30110D-01\n"
     ]
    },
    {
     "name": "stderr",
     "output_type": "stream",
     "text": [
      "/home/abhay.bhadani/Omdena/venvpy39/lib/python3.9/site-packages/statsmodels/tsa/statespace/sarimax.py:866: UserWarning: Too few observations to estimate starting parameters for seasonal ARMA. All parameters except for variances will be set to zeros.\n",
      "  warn('Too few observations to estimate starting parameters%s.'\n",
      " This problem is unconstrained.\n",
      "/home/abhay.bhadani/Omdena/venvpy39/lib/python3.9/site-packages/statsmodels/tsa/statespace/sarimax.py:866: UserWarning: Too few observations to estimate starting parameters for seasonal ARMA. All parameters except for variances will be set to zeros.\n",
      "  warn('Too few observations to estimate starting parameters%s.'\n",
      " This problem is unconstrained.\n"
     ]
    },
    {
     "name": "stdout",
     "output_type": "stream",
     "text": [
      "\n",
      "At iterate    5    f=  1.44054D+00    |proj g|=  1.89771D-02\n",
      "\n",
      "At iterate   10    f=  1.44006D+00    |proj g|=  3.40293D-04\n",
      "\n",
      "At iterate   15    f=  1.43989D+00    |proj g|=  4.88011D-03\n",
      "\n",
      "At iterate   20    f=  1.43049D+00    |proj g|=  2.07523D-02\n",
      "\n",
      "At iterate   25    f=  1.42510D+00    |proj g|=  7.46508D-03\n",
      "\n",
      "At iterate   30    f=  1.41599D+00    |proj g|=  5.82223D-02\n",
      "\n",
      "At iterate   35    f=  1.40481D+00    |proj g|=  4.92755D-02\n",
      "\n",
      "At iterate   40    f=  1.40117D+00    |proj g|=  8.86614D-04\n",
      "\n",
      "At iterate   45    f=  1.40116D+00    |proj g|=  5.85620D-07\n",
      "\n",
      "           * * *\n",
      "\n",
      "Tit   = total number of iterations\n",
      "Tnf   = total number of function evaluations\n",
      "Tnint = total number of segments explored during Cauchy searches\n",
      "Skip  = number of BFGS updates skipped\n",
      "Nact  = number of active bounds at final generalized Cauchy point\n",
      "Projg = norm of the final projected gradient\n",
      "F     = final function value\n",
      "\n",
      "           * * *\n",
      "\n",
      "   N    Tit     Tnf  Tnint  Skip  Nact     Projg        F\n",
      "    4     45     60      1     0     0   5.856D-07   1.401D+00\n",
      "  F =   1.4011561420802807     \n",
      "\n",
      "CONVERGENCE: NORM_OF_PROJECTED_GRADIENT_<=_PGTOL            \n",
      "424.0236733246859\n",
      "RUNNING THE L-BFGS-B CODE\n",
      "\n",
      "           * * *\n",
      "\n",
      "Machine precision = 2.220D-16\n",
      " N =            4     M =           10\n",
      "\n",
      "At X0         0 variables are exactly at the bounds\n",
      "\n",
      "At iterate    0    f=  3.14925D+00    |proj g|=  2.23621D-01\n",
      "\n",
      "At iterate    5    f=  3.11243D+00    |proj g|=  7.38143D-03\n",
      "\n",
      "At iterate   10    f=  3.10462D+00    |proj g|=  6.97788D-03\n"
     ]
    },
    {
     "name": "stderr",
     "output_type": "stream",
     "text": [
      " This problem is unconstrained.\n"
     ]
    },
    {
     "name": "stdout",
     "output_type": "stream",
     "text": [
      "\n",
      "At iterate   15    f=  3.10418D+00    |proj g|=  3.82524D-03\n",
      "\n",
      "At iterate   20    f=  3.09999D+00    |proj g|=  7.19100D-02\n",
      "\n",
      "At iterate   25    f=  3.02998D+00    |proj g|=  1.61417D-01\n",
      "\n",
      "At iterate   30    f=  3.02174D+00    |proj g|=  3.21103D-02\n",
      "\n",
      "At iterate   35    f=  3.02035D+00    |proj g|=  3.45765D-04\n",
      "\n",
      "           * * *\n",
      "\n",
      "Tit   = total number of iterations\n",
      "Tnf   = total number of function evaluations\n",
      "Tnint = total number of segments explored during Cauchy searches\n",
      "Skip  = number of BFGS updates skipped\n",
      "Nact  = number of active bounds at final generalized Cauchy point\n",
      "Projg = norm of the final projected gradient\n",
      "F     = final function value\n",
      "\n",
      "           * * *\n",
      "\n",
      "   N    Tit     Tnf  Tnint  Skip  Nact     Projg        F\n",
      "    4     37     49      1     0     0   3.838D-07   3.020D+00\n",
      "  F =   3.0203511552216815     \n",
      "\n",
      "CONVERGENCE: NORM_OF_PROJECTED_GRADIENT_<=_PGTOL            \n",
      "155.0073148253138\n",
      "RUNNING THE L-BFGS-B CODE\n",
      "\n",
      "           * * *\n",
      "\n",
      "Machine precision = 2.220D-16\n",
      " N =            4     M =           10\n",
      "\n",
      "At X0         0 variables are exactly at the bounds\n",
      "\n",
      "At iterate    0    f=  4.05762D+00    |proj g|=  1.03821D+00\n"
     ]
    },
    {
     "name": "stderr",
     "output_type": "stream",
     "text": [
      " This problem is unconstrained.\n"
     ]
    },
    {
     "name": "stdout",
     "output_type": "stream",
     "text": [
      "\n",
      "At iterate    5    f=  3.86107D+00    |proj g|=  2.66510D-03\n",
      "\n",
      "At iterate   10    f=  3.85994D+00    |proj g|=  6.26870D-03\n",
      "\n",
      "At iterate   15    f=  3.79801D+00    |proj g|=  3.36549D-01\n",
      "\n",
      "At iterate   20    f=  3.72485D+00    |proj g|=  1.33950D-02\n",
      "\n",
      "At iterate   25    f=  3.72447D+00    |proj g|=  1.87546D-05\n",
      "\n",
      "           * * *\n",
      "\n",
      "Tit   = total number of iterations\n",
      "Tnf   = total number of function evaluations\n",
      "Tnint = total number of segments explored during Cauchy searches\n",
      "Skip  = number of BFGS updates skipped\n",
      "Nact  = number of active bounds at final generalized Cauchy point\n",
      "Projg = norm of the final projected gradient\n",
      "F     = final function value\n",
      "\n",
      "           * * *\n",
      "\n",
      "   N    Tit     Tnf  Tnint  Skip  Nact     Projg        F\n",
      "    4     26     31      1     0     0   1.180D-06   3.724D+00\n",
      "  F =   3.7244671420438147     \n",
      "\n",
      "CONVERGENCE: NORM_OF_PROJECTED_GRADIENT_<=_PGTOL            \n",
      "125.75742624122442\n",
      "RUNNING THE L-BFGS-B CODE\n",
      "\n",
      "           * * *\n",
      "\n",
      "Machine precision = 2.220D-16\n",
      " N =            4     M =           10\n",
      "\n",
      "At X0         0 variables are exactly at the bounds\n",
      "\n",
      "At iterate    0    f=  4.30722D+00    |proj g|=  1.39808D-01\n"
     ]
    },
    {
     "name": "stderr",
     "output_type": "stream",
     "text": [
      " This problem is unconstrained.\n"
     ]
    },
    {
     "name": "stdout",
     "output_type": "stream",
     "text": [
      "\n",
      "At iterate    5    f=  4.27768D+00    |proj g|=  1.11093D-01\n",
      "\n",
      "At iterate   10    f=  4.27397D+00    |proj g|=  9.87456D-03\n",
      "\n",
      "At iterate   15    f=  4.27225D+00    |proj g|=  5.39958D-02\n",
      "\n",
      "At iterate   20    f=  4.17502D+00    |proj g|=  7.54891D-01\n",
      "\n",
      "At iterate   25    f=  4.09312D+00    |proj g|=  8.52603D-03\n",
      "\n",
      "           * * *\n",
      "\n",
      "Tit   = total number of iterations\n",
      "Tnf   = total number of function evaluations\n",
      "Tnint = total number of segments explored during Cauchy searches\n",
      "Skip  = number of BFGS updates skipped\n",
      "Nact  = number of active bounds at final generalized Cauchy point\n",
      "Projg = norm of the final projected gradient\n",
      "F     = final function value\n",
      "\n",
      "           * * *\n",
      "\n",
      "   N    Tit     Tnf  Tnint  Skip  Nact     Projg        F\n",
      "    4     29     37      1     0     0   5.212D-06   4.092D+00\n",
      "  F =   4.0924734613810756     \n",
      "\n",
      "CONVERGENCE: NORM_OF_PROJECTED_GRADIENT_<=_PGTOL            \n",
      "127.24945412695284\n"
     ]
    }
   ],
   "source": [
    "for train_ind, val_ind in split.split(train_with_ind):\n",
    "    sarimax = SARIMAX(endog=train_with_ind.iloc[train_ind, -1],\n",
    "                      order=(0, 1, 1),\n",
    "                     seasonal_order=(1, 1, 1, 12),\n",
    "                     enforce_stationarity=False,\n",
    "                     enforce_invertibility=False).fit()\n",
    "    preds = sarimax.predict(typ='levels', start=val_ind[0], end=val_ind[-1])\n",
    "    true = train_with_ind.iloc[val_ind, -1]\n",
    "    print(np.sqrt(mean_squared_error(true, preds)))"
   ]
  },
  {
   "cell_type": "code",
   "execution_count": 71,
   "metadata": {
    "ExecuteTime": {
     "end_time": "2022-07-27T02:09:26.381318Z",
     "start_time": "2022-07-27T02:09:26.163925Z"
    }
   },
   "outputs": [
    {
     "data": {
      "image/png": "[encoded data removed]",
      "text/plain": [
       "<Figure size 432x288 with 1 Axes>"
      ]
     },
     "metadata": {
      "needs_background": "light"
     },
     "output_type": "display_data"
    }
   ],
   "source": [
    "y_hat_train = sari_mod.predict(typ='levels')\n",
    "y_hat_test = sari_mod.predict(start=test.index[0], end=test.index[-1],typ='levels')\n",
    "\n",
    "fig, ax = plt.subplots()\n",
    "ax.plot(train, label='train')\n",
    "ax.plot(test, label='test')\n",
    "ax.plot(y_hat_train, label='train_pred')\n",
    "ax.plot(y_hat_test, label='test_pred')\n",
    "\n",
    "plt.legend();"
   ]
  },
  {
   "cell_type": "code",
   "execution_count": 72,
   "metadata": {
    "ExecuteTime": {
     "end_time": "2022-07-27T02:09:27.433642Z",
     "start_time": "2022-07-27T02:09:27.219993Z"
    }
   },
   "outputs": [
    {
     "data": {
      "image/png": "[encoded data removed]",
      "text/plain": [
       "<Figure size 432x288 with 1 Axes>"
      ]
     },
     "metadata": {
      "needs_background": "light"
     },
     "output_type": "display_data"
    }
   ],
   "source": [
    "# Let's zoom in on test\n",
    "fig, ax = plt.subplots()\n",
    "\n",
    "ax.plot(test, label='true')\n",
    "ax.plot(y_hat_test, label='pred')\n",
    "\n",
    "plt.legend();"
   ]
  },
  {
   "cell_type": "code",
   "execution_count": 73,
   "metadata": {
    "ExecuteTime": {
     "end_time": "2022-07-27T02:09:28.128958Z",
     "start_time": "2022-07-27T02:09:28.124036Z"
    }
   },
   "outputs": [
    {
     "data": {
      "text/plain": [
       "161.8238920684032"
      ]
     },
     "execution_count": 73,
     "metadata": {},
     "output_type": "execute_result"
    }
   ],
   "source": [
    "np.sqrt(mean_squared_error(test, y_hat_test))"
   ]
  },
  {
   "cell_type": "markdown",
   "metadata": {},
   "source": [
    "The rmse has reduced significantly from random walk rmse of 262.68 to SRIMAX model rmse of 161.83"
   ]
  },
  {
   "cell_type": "markdown",
   "metadata": {},
   "source": [
    "### Forecast with final model "
   ]
  },
  {
   "cell_type": "markdown",
   "metadata": {},
   "source": [
    "Lastly, let's predict into the future.\n",
    "\n",
    "To do so, we'll refit to our entire training set."
   ]
  },
  {
   "cell_type": "code",
   "execution_count": 74,
   "metadata": {
    "ExecuteTime": {
     "end_time": "2022-07-27T02:11:24.742505Z",
     "start_time": "2022-07-27T02:11:24.360574Z"
    }
   },
   "outputs": [
    {
     "name": "stderr",
     "output_type": "stream",
     "text": [
      " This problem is unconstrained.\n"
     ]
    },
    {
     "name": "stdout",
     "output_type": "stream",
     "text": [
      "RUNNING THE L-BFGS-B CODE\n",
      "\n",
      "           * * *\n",
      "\n",
      "Machine precision = 2.220D-16\n",
      " N =            4     M =           10\n",
      "\n",
      "At X0         0 variables are exactly at the bounds\n",
      "\n",
      "At iterate    0    f=  4.92508D+00    |proj g|=  1.77022D-01\n",
      "\n",
      "At iterate    5    f=  4.89792D+00    |proj g|=  2.46762D-03\n",
      "\n",
      "At iterate   10    f=  4.87908D+00    |proj g|=  6.53381D-03\n",
      "\n",
      "At iterate   15    f=  4.87646D+00    |proj g|=  3.46590D-02\n",
      "\n",
      "At iterate   20    f=  4.80443D+00    |proj g|=  1.13214D-01\n",
      "\n",
      "At iterate   25    f=  4.78175D+00    |proj g|=  1.81200D-03\n",
      "\n",
      "           * * *\n",
      "\n",
      "Tit   = total number of iterations\n",
      "Tnf   = total number of function evaluations\n",
      "Tnint = total number of segments explored during Cauchy searches\n",
      "Skip  = number of BFGS updates skipped\n",
      "Nact  = number of active bounds at final generalized Cauchy point\n",
      "Projg = norm of the final projected gradient\n",
      "F     = final function value\n",
      "\n",
      "           * * *\n",
      "\n",
      "   N    Tit     Tnf  Tnint  Skip  Nact     Projg        F\n",
      "    4     28     35      1     0     0   2.237D-06   4.782D+00\n",
      "  F =   4.7817520776234401     \n",
      "\n",
      "CONVERGENCE: NORM_OF_PROJECTED_GRADIENT_<=_PGTOL            \n"
     ]
    }
   ],
   "source": [
    "sari_mod = SARIMAX(ts_new,\n",
    "                  order=(0, 1, 1),\n",
    "                  seasonal_order=(1, 1, 1, 12),\n",
    "                  enforce_stationarity=False,\n",
    "                  enforce_invertibility=False).fit()"
   ]
  },
  {
   "cell_type": "code",
   "execution_count": 75,
   "metadata": {
    "ExecuteTime": {
     "end_time": "2022-07-27T02:11:29.265871Z",
     "start_time": "2022-07-27T02:11:29.254041Z"
    }
   },
   "outputs": [],
   "source": [
    "forecast = sari_mod.forecast(steps=12)"
   ]
  },
  {
   "cell_type": "code",
   "execution_count": 76,
   "metadata": {
    "ExecuteTime": {
     "end_time": "2022-07-27T02:12:09.498885Z",
     "start_time": "2022-07-27T02:12:09.273485Z"
    }
   },
   "outputs": [
    {
     "data": {
      "image/png": "[encoded data removed]",
      "text/plain": [
       "<Figure size 432x288 with 1 Axes>"
      ]
     },
     "metadata": {
      "needs_background": "light"
     },
     "output_type": "display_data"
    }
   ],
   "source": [
    "fig, ax = plt.subplots()\n",
    "ax.plot(ts_new, label='so_far')\n",
    "ax.plot(forecast, label='forecast')\n",
    "ax.set_title('Power outage in Tamilnadu\\n One Year out')\n",
    "\n",
    "plt.legend();"
   ]
  }
 ],
 "metadata": {
  "kernelspec": {
   "display_name": "Python 3",
   "language": "python",
   "name": "python3"
  },
  "language_info": {
   "codemirror_mode": {
    "name": "ipython",
    "version": 3
   },
   "file_extension": ".py",
   "mimetype": "text/x-python",
   "name": "python",
   "nbconvert_exporter": "python",
   "pygments_lexer": "ipython3",
   "version": "3.9.7"
  },
  "varInspector": {
   "cols": {
    "lenName": 16,
    "lenType": 16,
    "lenVar": 40
   },
   "kernels_config": {
    "python": {
     "delete_cmd_postfix": "",
     "delete_cmd_prefix": "del ",
     "library": "var_list.py",
     "varRefreshCmd": "print(var_dic_list())"
    },
    "r": {
     "delete_cmd_postfix": ") ",
     "delete_cmd_prefix": "rm(",
     "library": "var_list.r",
     "varRefreshCmd": "cat(var_dic_list()) "
    }
   },
   "types_to_exclude": [
    "module",
    "function",
    "builtin_function_or_method",
    "instance",
    "_Feature"
   ],
   "window_display": false
  }
 },
 "nbformat": 4,
 "nbformat_minor": 4
}
