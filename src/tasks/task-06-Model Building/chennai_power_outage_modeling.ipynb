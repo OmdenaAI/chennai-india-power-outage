{
 "cells": [
  {
   "cell_type": "code",
   "execution_count": 1,
   "id": "7b60e5da",
   "metadata": {},
   "outputs": [],
   "source": [
    "import pandas as pd\n",
    "import numpy as np\n",
    "import matplotlib.pyplot as plt\n",
    "from statsmodels.tsa.stattools import acf, pacf\n",
    "import streamlit as st\n",
    "\n",
    "from sklearn.metrics import mean_squared_error\n",
    "from math import sqrt\n",
    "\n",
    "import pickle\n",
    "from matplotlib import pyplot\n",
    "\n",
    "# from statsmodels.graphics.tsaplots import plot_acf, plot_pac\n",
    "# import seaborn as sns"
   ]
  },
  {
   "cell_type": "code",
   "execution_count": 2,
   "id": "b8a6b470",
   "metadata": {},
   "outputs": [
    {
     "data": {
      "text/plain": [
       "(479, 9)"
      ]
     },
     "execution_count": 2,
     "metadata": {},
     "output_type": "execute_result"
    }
   ],
   "source": [
    "daily_load_shedding_df = pd.read_csv('../../data/cleaned data/dayly_load_shedding_schedule_chennai_2014_2022.csv')\n",
    "daily_load_shedding_df.shape"
   ]
  },
  {
   "cell_type": "code",
   "execution_count": 3,
   "id": "8a400a46",
   "metadata": {},
   "outputs": [
    {
     "data": {
      "text/plain": [
       "(122, 17)"
      ]
     },
     "execution_count": 3,
     "metadata": {},
     "output_type": "execute_result"
    }
   ],
   "source": [
    "demand_supply_monthly_df = pd.read_csv('../../data/cleaned data/demand_supply_monthly.csv')\n",
    "demand_supply_monthly_df.shape"
   ]
  },
  {
   "cell_type": "code",
   "execution_count": 4,
   "id": "1efcb70d",
   "metadata": {},
   "outputs": [
    {
     "data": {
      "text/plain": [
       "(11, 12)"
      ]
     },
     "execution_count": 4,
     "metadata": {},
     "output_type": "execute_result"
    }
   ],
   "source": [
    "demand_supply_yearly_df= pd.read_csv('../../data/cleaned data/demand_supply_yearly.csv')\n",
    "demand_supply_yearly_df.shape"
   ]
  },
  {
   "cell_type": "code",
   "execution_count": 5,
   "id": "7baf45a1",
   "metadata": {},
   "outputs": [
    {
     "data": {
      "text/plain": [
       "(64, 5)"
      ]
     },
     "execution_count": 5,
     "metadata": {},
     "output_type": "execute_result"
    }
   ],
   "source": [
    "electricity_consumption_df = pd.read_csv('../../data/cleaned data/electricity_consumption_consolidated.csv')\n",
    "electricity_consumption_df.shape"
   ]
  },
  {
   "cell_type": "code",
   "execution_count": 6,
   "id": "58681059",
   "metadata": {},
   "outputs": [
    {
     "data": {
      "text/plain": [
       "(507, 4)"
      ]
     },
     "execution_count": 6,
     "metadata": {},
     "output_type": "execute_result"
    }
   ],
   "source": [
    "electricity_generation_df = pd.read_csv('../../data/cleaned data/electricity_generation_consolidated_supply_only.csv')\n",
    "electricity_generation_df.shape"
   ]
  },
  {
   "cell_type": "markdown",
   "id": "089ae878",
   "metadata": {},
   "source": [
    "## daily_load_shedding_df"
   ]
  },
  {
   "cell_type": "code",
   "execution_count": 7,
   "id": "190cf61c",
   "metadata": {},
   "outputs": [
    {
     "data": {
      "text/plain": [
       "Index(['PO_day', 'PO_date', 'PO_start_time', 'PO_end_time', 'PO_posting_date',\n",
       "       'PO_posting_time', 'PO_duration(Hrs)', 'PO_start_time_short',\n",
       "       'PO_end_time_short'],\n",
       "      dtype='object')"
      ]
     },
     "execution_count": 7,
     "metadata": {},
     "output_type": "execute_result"
    }
   ],
   "source": [
    "daily_load_shedding_df.columns"
   ]
  },
  {
   "cell_type": "code",
   "execution_count": 8,
   "id": "563acda0",
   "metadata": {},
   "outputs": [
    {
     "data": {
      "text/html": [
       "<div>\n",
       "<style scoped>\n",
       "    .dataframe tbody tr th:only-of-type {\n",
       "        vertical-align: middle;\n",
       "    }\n",
       "\n",
       "    .dataframe tbody tr th {\n",
       "        vertical-align: top;\n",
       "    }\n",
       "\n",
       "    .dataframe thead th {\n",
       "        text-align: right;\n",
       "    }\n",
       "</style>\n",
       "<table border=\"1\" class=\"dataframe\">\n",
       "  <thead>\n",
       "    <tr style=\"text-align: right;\">\n",
       "      <th></th>\n",
       "      <th>PO_day</th>\n",
       "      <th>PO_date</th>\n",
       "      <th>PO_start_time</th>\n",
       "      <th>PO_end_time</th>\n",
       "      <th>PO_posting_date</th>\n",
       "      <th>PO_posting_time</th>\n",
       "      <th>PO_duration(Hrs)</th>\n",
       "      <th>PO_start_time_short</th>\n",
       "      <th>PO_end_time_short</th>\n",
       "    </tr>\n",
       "  </thead>\n",
       "  <tbody>\n",
       "    <tr>\n",
       "      <th>474</th>\n",
       "      <td>Saturday</td>\n",
       "      <td>2014-05-17 00:00:00</td>\n",
       "      <td>1900-01-01 09:00:00</td>\n",
       "      <td>1900-01-01 17:00:00</td>\n",
       "      <td>2014-05-16 00:00:00</td>\n",
       "      <td>2:43:16 PM</td>\n",
       "      <td>8.0</td>\n",
       "      <td>09:00:00</td>\n",
       "      <td>17:00:00</td>\n",
       "    </tr>\n",
       "    <tr>\n",
       "      <th>475</th>\n",
       "      <td>Sunday</td>\n",
       "      <td>2014-10-05 00:00:00</td>\n",
       "      <td>1900-01-01 09:00:00</td>\n",
       "      <td>1900-01-01 14:00:00</td>\n",
       "      <td>2014-05-09 00:00:00</td>\n",
       "      <td>4:13:21 PM</td>\n",
       "      <td>5.0</td>\n",
       "      <td>09:00:00</td>\n",
       "      <td>14:00:00</td>\n",
       "    </tr>\n",
       "    <tr>\n",
       "      <th>476</th>\n",
       "      <td>Friday</td>\n",
       "      <td>2014-09-05 00:00:00</td>\n",
       "      <td>1900-01-01 09:00:00</td>\n",
       "      <td>1900-01-01 14:00:00</td>\n",
       "      <td>2014-05-08 00:00:00</td>\n",
       "      <td>3:25:55 PM</td>\n",
       "      <td>5.0</td>\n",
       "      <td>09:00:00</td>\n",
       "      <td>14:00:00</td>\n",
       "    </tr>\n",
       "    <tr>\n",
       "      <th>477</th>\n",
       "      <td>Tuesday</td>\n",
       "      <td>2014-08-05 00:00:00</td>\n",
       "      <td>1900-01-01 09:00:00</td>\n",
       "      <td>1900-01-01 14:00:00</td>\n",
       "      <td>2014-05-07 00:00:00</td>\n",
       "      <td>12:09:01 PM</td>\n",
       "      <td>5.0</td>\n",
       "      <td>09:00:00</td>\n",
       "      <td>14:00:00</td>\n",
       "    </tr>\n",
       "    <tr>\n",
       "      <th>478</th>\n",
       "      <td>Saturday</td>\n",
       "      <td>2014-07-05 00:00:00</td>\n",
       "      <td>1900-01-01 09:00:00</td>\n",
       "      <td>1900-01-01 14:00:00</td>\n",
       "      <td>2014-05-06 00:00:00</td>\n",
       "      <td>11:18:47 AM</td>\n",
       "      <td>5.0</td>\n",
       "      <td>09:00:00</td>\n",
       "      <td>14:00:00</td>\n",
       "    </tr>\n",
       "  </tbody>\n",
       "</table>\n",
       "</div>"
      ],
      "text/plain": [
       "       PO_day              PO_date        PO_start_time          PO_end_time  \\\n",
       "474  Saturday  2014-05-17 00:00:00  1900-01-01 09:00:00  1900-01-01 17:00:00   \n",
       "475    Sunday  2014-10-05 00:00:00  1900-01-01 09:00:00  1900-01-01 14:00:00   \n",
       "476    Friday  2014-09-05 00:00:00  1900-01-01 09:00:00  1900-01-01 14:00:00   \n",
       "477   Tuesday  2014-08-05 00:00:00  1900-01-01 09:00:00  1900-01-01 14:00:00   \n",
       "478  Saturday  2014-07-05 00:00:00  1900-01-01 09:00:00  1900-01-01 14:00:00   \n",
       "\n",
       "         PO_posting_date PO_posting_time  PO_duration(Hrs)  \\\n",
       "474  2014-05-16 00:00:00      2:43:16 PM               8.0   \n",
       "475  2014-05-09 00:00:00      4:13:21 PM               5.0   \n",
       "476  2014-05-08 00:00:00      3:25:55 PM               5.0   \n",
       "477  2014-05-07 00:00:00     12:09:01 PM               5.0   \n",
       "478  2014-05-06 00:00:00     11:18:47 AM               5.0   \n",
       "\n",
       "    PO_start_time_short PO_end_time_short  \n",
       "474            09:00:00          17:00:00  \n",
       "475            09:00:00          14:00:00  \n",
       "476            09:00:00          14:00:00  \n",
       "477            09:00:00          14:00:00  \n",
       "478            09:00:00          14:00:00  "
      ]
     },
     "execution_count": 8,
     "metadata": {},
     "output_type": "execute_result"
    }
   ],
   "source": [
    "daily_load_shedding_df.tail()"
   ]
  },
  {
   "cell_type": "code",
   "execution_count": 9,
   "id": "7a3bf85a",
   "metadata": {},
   "outputs": [
    {
     "data": {
      "text/html": [
       "<div>\n",
       "<style scoped>\n",
       "    .dataframe tbody tr th:only-of-type {\n",
       "        vertical-align: middle;\n",
       "    }\n",
       "\n",
       "    .dataframe tbody tr th {\n",
       "        vertical-align: top;\n",
       "    }\n",
       "\n",
       "    .dataframe thead th {\n",
       "        text-align: right;\n",
       "    }\n",
       "</style>\n",
       "<table border=\"1\" class=\"dataframe\">\n",
       "  <thead>\n",
       "    <tr style=\"text-align: right;\">\n",
       "      <th></th>\n",
       "      <th>Requirement(MU/DAY)</th>\n",
       "      <th>Energy_met(MU/DAY)</th>\n",
       "      <th>Surplus(+)/Deficit(-)(MU/DAY)</th>\n",
       "      <th>Requirement(MU)</th>\n",
       "      <th>Energy_met(MU)</th>\n",
       "      <th>Surplus(+)/Deficit(-)(MU)</th>\n",
       "      <th>%Shortage(MU)</th>\n",
       "      <th>Requirement(MW)</th>\n",
       "      <th>Peak_Demand_Met5(MW)</th>\n",
       "      <th>Surplus(+)/Deficit(-)(MW)</th>\n",
       "      <th>%Shortage(MW)</th>\n",
       "      <th>name_report</th>\n",
       "      <th>year</th>\n",
       "      <th>month</th>\n",
       "      <th>date_published</th>\n",
       "      <th>month_published</th>\n",
       "      <th>year_published</th>\n",
       "    </tr>\n",
       "  </thead>\n",
       "  <tbody>\n",
       "    <tr>\n",
       "      <th>0</th>\n",
       "      <td>354.0</td>\n",
       "      <td>354.0</td>\n",
       "      <td>-0.9</td>\n",
       "      <td>10632.0</td>\n",
       "      <td>10605.0</td>\n",
       "      <td>-26.0</td>\n",
       "      <td>-0.2</td>\n",
       "      <td>17646.0</td>\n",
       "      <td>17563.0</td>\n",
       "      <td>-83.0</td>\n",
       "      <td>-0.5</td>\n",
       "      <td>Monthly_Report_Apr_2022</td>\n",
       "      <td>2022</td>\n",
       "      <td>4</td>\n",
       "      <td>2022-05-23</td>\n",
       "      <td>5</td>\n",
       "      <td>2022</td>\n",
       "    </tr>\n",
       "    <tr>\n",
       "      <th>1</th>\n",
       "      <td>337.0</td>\n",
       "      <td>337.0</td>\n",
       "      <td>0.0</td>\n",
       "      <td>10459.0</td>\n",
       "      <td>10458.0</td>\n",
       "      <td>-1.0</td>\n",
       "      <td>0.0</td>\n",
       "      <td>16906.0</td>\n",
       "      <td>16906.0</td>\n",
       "      <td>0.0</td>\n",
       "      <td>0.0</td>\n",
       "      <td>Monthly_Report_May_2022</td>\n",
       "      <td>2022</td>\n",
       "      <td>5</td>\n",
       "      <td>2022-06-23</td>\n",
       "      <td>6</td>\n",
       "      <td>2022</td>\n",
       "    </tr>\n",
       "    <tr>\n",
       "      <th>2</th>\n",
       "      <td>344.0</td>\n",
       "      <td>343.0</td>\n",
       "      <td>-0.3</td>\n",
       "      <td>10657.0</td>\n",
       "      <td>10648.0</td>\n",
       "      <td>-9.0</td>\n",
       "      <td>-0.1</td>\n",
       "      <td>17196.0</td>\n",
       "      <td>17196.0</td>\n",
       "      <td>0.0</td>\n",
       "      <td>0.0</td>\n",
       "      <td>Monthly_Report_Mar_2022</td>\n",
       "      <td>2022</td>\n",
       "      <td>3</td>\n",
       "      <td>2022-04-25</td>\n",
       "      <td>4</td>\n",
       "      <td>2022</td>\n",
       "    </tr>\n",
       "    <tr>\n",
       "      <th>3</th>\n",
       "      <td>286.0</td>\n",
       "      <td>286.0</td>\n",
       "      <td>0.0</td>\n",
       "      <td>8873.0</td>\n",
       "      <td>8873.0</td>\n",
       "      <td>1.0</td>\n",
       "      <td>0.0</td>\n",
       "      <td>15290.0</td>\n",
       "      <td>15290.0</td>\n",
       "      <td>0.0</td>\n",
       "      <td>0.0</td>\n",
       "      <td>Monthly_Report_Jan_2022</td>\n",
       "      <td>2022</td>\n",
       "      <td>1</td>\n",
       "      <td>2022-02-23</td>\n",
       "      <td>2</td>\n",
       "      <td>2022</td>\n",
       "    </tr>\n",
       "    <tr>\n",
       "      <th>4</th>\n",
       "      <td>245.0</td>\n",
       "      <td>245.0</td>\n",
       "      <td>0.0</td>\n",
       "      <td>7362.0</td>\n",
       "      <td>7360.0</td>\n",
       "      <td>-1.0</td>\n",
       "      <td>0.0</td>\n",
       "      <td>13501.0</td>\n",
       "      <td>13480.0</td>\n",
       "      <td>-21.0</td>\n",
       "      <td>-0.2</td>\n",
       "      <td>Monthly_Report_Nov_2021</td>\n",
       "      <td>2021</td>\n",
       "      <td>11</td>\n",
       "      <td>2021-12-23</td>\n",
       "      <td>12</td>\n",
       "      <td>2021</td>\n",
       "    </tr>\n",
       "  </tbody>\n",
       "</table>\n",
       "</div>"
      ],
      "text/plain": [
       "   Requirement(MU/DAY)  Energy_met(MU/DAY)  Surplus(+)/Deficit(-)(MU/DAY)  \\\n",
       "0                354.0               354.0                           -0.9   \n",
       "1                337.0               337.0                            0.0   \n",
       "2                344.0               343.0                           -0.3   \n",
       "3                286.0               286.0                            0.0   \n",
       "4                245.0               245.0                            0.0   \n",
       "\n",
       "   Requirement(MU)  Energy_met(MU)  Surplus(+)/Deficit(-)(MU)  %Shortage(MU)  \\\n",
       "0          10632.0         10605.0                      -26.0           -0.2   \n",
       "1          10459.0         10458.0                       -1.0            0.0   \n",
       "2          10657.0         10648.0                       -9.0           -0.1   \n",
       "3           8873.0          8873.0                        1.0            0.0   \n",
       "4           7362.0          7360.0                       -1.0            0.0   \n",
       "\n",
       "   Requirement(MW)  Peak_Demand_Met5(MW)  Surplus(+)/Deficit(-)(MW)  \\\n",
       "0          17646.0               17563.0                      -83.0   \n",
       "1          16906.0               16906.0                        0.0   \n",
       "2          17196.0               17196.0                        0.0   \n",
       "3          15290.0               15290.0                        0.0   \n",
       "4          13501.0               13480.0                      -21.0   \n",
       "\n",
       "   %Shortage(MW)              name_report  year  month date_published  \\\n",
       "0           -0.5  Monthly_Report_Apr_2022  2022      4     2022-05-23   \n",
       "1            0.0  Monthly_Report_May_2022  2022      5     2022-06-23   \n",
       "2            0.0  Monthly_Report_Mar_2022  2022      3     2022-04-25   \n",
       "3            0.0  Monthly_Report_Jan_2022  2022      1     2022-02-23   \n",
       "4           -0.2  Monthly_Report_Nov_2021  2021     11     2021-12-23   \n",
       "\n",
       "   month_published  year_published  \n",
       "0                5            2022  \n",
       "1                6            2022  \n",
       "2                4            2022  \n",
       "3                2            2022  \n",
       "4               12            2021  "
      ]
     },
     "execution_count": 9,
     "metadata": {},
     "output_type": "execute_result"
    }
   ],
   "source": [
    "demand_supply_monthly_df.head()"
   ]
  },
  {
   "cell_type": "code",
   "execution_count": 10,
   "id": "3eb5962e",
   "metadata": {},
   "outputs": [
    {
     "data": {
      "text/html": [
       "<div>\n",
       "<style scoped>\n",
       "    .dataframe tbody tr th:only-of-type {\n",
       "        vertical-align: middle;\n",
       "    }\n",
       "\n",
       "    .dataframe tbody tr th {\n",
       "        vertical-align: top;\n",
       "    }\n",
       "\n",
       "    .dataframe thead th {\n",
       "        text-align: right;\n",
       "    }\n",
       "</style>\n",
       "<table border=\"1\" class=\"dataframe\">\n",
       "  <thead>\n",
       "    <tr style=\"text-align: right;\">\n",
       "      <th></th>\n",
       "      <th>Category Id</th>\n",
       "      <th>Category</th>\n",
       "      <th>Consumption (M.U)</th>\n",
       "      <th>Year</th>\n",
       "      <th>Consumers</th>\n",
       "    </tr>\n",
       "  </thead>\n",
       "  <tbody>\n",
       "    <tr>\n",
       "      <th>2</th>\n",
       "      <td>3</td>\n",
       "      <td>Domestic</td>\n",
       "      <td>13709</td>\n",
       "      <td>2010</td>\n",
       "      <td>15565047</td>\n",
       "    </tr>\n",
       "    <tr>\n",
       "      <th>9</th>\n",
       "      <td>3</td>\n",
       "      <td>Domestic</td>\n",
       "      <td>16312</td>\n",
       "      <td>2011</td>\n",
       "      <td>16318288</td>\n",
       "    </tr>\n",
       "    <tr>\n",
       "      <th>16</th>\n",
       "      <td>3</td>\n",
       "      <td>Domestic</td>\n",
       "      <td>16249</td>\n",
       "      <td>2012</td>\n",
       "      <td>16897339</td>\n",
       "    </tr>\n",
       "    <tr>\n",
       "      <th>23</th>\n",
       "      <td>3</td>\n",
       "      <td>Domestic</td>\n",
       "      <td>18,231</td>\n",
       "      <td>2013</td>\n",
       "      <td>17697908</td>\n",
       "    </tr>\n",
       "    <tr>\n",
       "      <th>30</th>\n",
       "      <td>3</td>\n",
       "      <td>Domestic</td>\n",
       "      <td>20201</td>\n",
       "      <td>2014</td>\n",
       "      <td>18402768</td>\n",
       "    </tr>\n",
       "    <tr>\n",
       "      <th>36</th>\n",
       "      <td>3</td>\n",
       "      <td>Domestic</td>\n",
       "      <td>21990</td>\n",
       "      <td>2015</td>\n",
       "      <td>19988000</td>\n",
       "    </tr>\n",
       "    <tr>\n",
       "      <th>42</th>\n",
       "      <td>3</td>\n",
       "      <td>Domestic</td>\n",
       "      <td>23489</td>\n",
       "      <td>2016</td>\n",
       "      <td>20131000</td>\n",
       "    </tr>\n",
       "    <tr>\n",
       "      <th>48</th>\n",
       "      <td>3</td>\n",
       "      <td>Domestic</td>\n",
       "      <td>24530</td>\n",
       "      <td>2017</td>\n",
       "      <td>20696000</td>\n",
       "    </tr>\n",
       "    <tr>\n",
       "      <th>53</th>\n",
       "      <td>3</td>\n",
       "      <td>Domestic</td>\n",
       "      <td>25815</td>\n",
       "      <td>2018</td>\n",
       "      <td>21303347</td>\n",
       "    </tr>\n",
       "    <tr>\n",
       "      <th>59</th>\n",
       "      <td>3</td>\n",
       "      <td>Domestic</td>\n",
       "      <td>26996</td>\n",
       "      <td>2019</td>\n",
       "      <td>21875000</td>\n",
       "    </tr>\n",
       "  </tbody>\n",
       "</table>\n",
       "</div>"
      ],
      "text/plain": [
       "    Category Id  Category Consumption (M.U)  Year  Consumers\n",
       "2             3  Domestic             13709  2010   15565047\n",
       "9             3  Domestic             16312  2011   16318288\n",
       "16            3  Domestic             16249  2012   16897339\n",
       "23            3  Domestic            18,231  2013   17697908\n",
       "30            3  Domestic             20201  2014   18402768\n",
       "36            3  Domestic             21990  2015   19988000\n",
       "42            3  Domestic             23489  2016   20131000\n",
       "48            3  Domestic             24530  2017   20696000\n",
       "53            3  Domestic             25815  2018   21303347\n",
       "59            3  Domestic             26996  2019   21875000"
      ]
     },
     "execution_count": 10,
     "metadata": {},
     "output_type": "execute_result"
    }
   ],
   "source": [
    "electricity_consumption_df[electricity_consumption_df.Category=='Domestic']"
   ]
  },
  {
   "cell_type": "code",
   "execution_count": 11,
   "id": "5f98a0ea",
   "metadata": {},
   "outputs": [
    {
     "data": {
      "text/plain": [
       "array(['Industries (including Traction)', 'Agriculture', 'Domestic',\n",
       "       'Commercial', 'Public Lighting and Water works',\n",
       "       'Sales of Licensees,Sales to other States', 'Miscellaneous',\n",
       "       'Miscellaneous ', 'Public Lighting and Water Works'], dtype=object)"
      ]
     },
     "execution_count": 11,
     "metadata": {},
     "output_type": "execute_result"
    }
   ],
   "source": [
    "electricity_consumption_df.Category.unique()"
   ]
  },
  {
   "cell_type": "code",
   "execution_count": 12,
   "id": "d8ba31b9",
   "metadata": {},
   "outputs": [
    {
     "data": {
      "text/html": [
       "<div>\n",
       "<style scoped>\n",
       "    .dataframe tbody tr th:only-of-type {\n",
       "        vertical-align: middle;\n",
       "    }\n",
       "\n",
       "    .dataframe tbody tr th {\n",
       "        vertical-align: top;\n",
       "    }\n",
       "\n",
       "    .dataframe thead th {\n",
       "        text-align: right;\n",
       "    }\n",
       "</style>\n",
       "<table border=\"1\" class=\"dataframe\">\n",
       "  <thead>\n",
       "    <tr style=\"text-align: right;\">\n",
       "      <th></th>\n",
       "      <th>Type</th>\n",
       "      <th>Name</th>\n",
       "      <th>Net Generation(M.U)</th>\n",
       "      <th>Year</th>\n",
       "    </tr>\n",
       "  </thead>\n",
       "  <tbody>\n",
       "    <tr>\n",
       "      <th>0</th>\n",
       "      <td>Gas</td>\n",
       "      <td>Basin Bridge</td>\n",
       "      <td>79.16</td>\n",
       "      <td>2010</td>\n",
       "    </tr>\n",
       "    <tr>\n",
       "      <th>1</th>\n",
       "      <td>Gas</td>\n",
       "      <td>Kovil Kalappal</td>\n",
       "      <td>487.20</td>\n",
       "      <td>2010</td>\n",
       "    </tr>\n",
       "    <tr>\n",
       "      <th>2</th>\n",
       "      <td>Gas</td>\n",
       "      <td>Vazhuthur I &amp; II</td>\n",
       "      <td>1008.89</td>\n",
       "      <td>2010</td>\n",
       "    </tr>\n",
       "    <tr>\n",
       "      <th>3</th>\n",
       "      <td>Gas</td>\n",
       "      <td>Kutralam</td>\n",
       "      <td>602.78</td>\n",
       "      <td>2010</td>\n",
       "    </tr>\n",
       "    <tr>\n",
       "      <th>4</th>\n",
       "      <td>Gas</td>\n",
       "      <td>Wind Mill</td>\n",
       "      <td>11.09</td>\n",
       "      <td>2010</td>\n",
       "    </tr>\n",
       "  </tbody>\n",
       "</table>\n",
       "</div>"
      ],
      "text/plain": [
       "  Type              Name  Net Generation(M.U)  Year\n",
       "0  Gas      Basin Bridge                79.16  2010\n",
       "1  Gas    Kovil Kalappal               487.20  2010\n",
       "2  Gas  Vazhuthur I & II              1008.89  2010\n",
       "3  Gas          Kutralam               602.78  2010\n",
       "4  Gas         Wind Mill                11.09  2010"
      ]
     },
     "execution_count": 12,
     "metadata": {},
     "output_type": "execute_result"
    }
   ],
   "source": [
    "electricity_generation_df.head()"
   ]
  },
  {
   "cell_type": "code",
   "execution_count": 13,
   "id": "82365c96",
   "metadata": {},
   "outputs": [
    {
     "data": {
      "text/plain": [
       "(11, 12)"
      ]
     },
     "execution_count": 13,
     "metadata": {},
     "output_type": "execute_result"
    }
   ],
   "source": [
    "demand_supply_yearly_df.shape"
   ]
  },
  {
   "cell_type": "code",
   "execution_count": 14,
   "id": "32156d0e",
   "metadata": {},
   "outputs": [
    {
     "data": {
      "text/html": [
       "<div>\n",
       "<style scoped>\n",
       "    .dataframe tbody tr th:only-of-type {\n",
       "        vertical-align: middle;\n",
       "    }\n",
       "\n",
       "    .dataframe tbody tr th {\n",
       "        vertical-align: top;\n",
       "    }\n",
       "\n",
       "    .dataframe thead th {\n",
       "        text-align: right;\n",
       "    }\n",
       "</style>\n",
       "<table border=\"1\" class=\"dataframe\">\n",
       "  <thead>\n",
       "    <tr style=\"text-align: right;\">\n",
       "      <th></th>\n",
       "      <th>Requirement(MU/DAY)</th>\n",
       "      <th>Energy_met(MU/DAY)</th>\n",
       "      <th>Surplus(+)/Deficit(-)(MU/DAY)</th>\n",
       "      <th>Requirement(MU)</th>\n",
       "      <th>Energy_met(MU)</th>\n",
       "      <th>Surplus(+)/Deficit(-)(MU)</th>\n",
       "      <th>%Shortage(MU)</th>\n",
       "      <th>Requirement(MW)</th>\n",
       "      <th>Peak_Demand_Met5(MW)</th>\n",
       "      <th>Surplus(+)/Deficit(-)(MW)</th>\n",
       "      <th>%Shortage(MW)</th>\n",
       "      <th>name_report</th>\n",
       "      <th>year</th>\n",
       "      <th>month</th>\n",
       "      <th>date_published</th>\n",
       "      <th>month_published</th>\n",
       "      <th>year_published</th>\n",
       "    </tr>\n",
       "  </thead>\n",
       "  <tbody>\n",
       "    <tr>\n",
       "      <th>0</th>\n",
       "      <td>354.0</td>\n",
       "      <td>354.0</td>\n",
       "      <td>-0.9</td>\n",
       "      <td>10632.0</td>\n",
       "      <td>10605.0</td>\n",
       "      <td>-26.0</td>\n",
       "      <td>-0.2</td>\n",
       "      <td>17646.0</td>\n",
       "      <td>17563.0</td>\n",
       "      <td>-83.0</td>\n",
       "      <td>-0.5</td>\n",
       "      <td>Monthly_Report_Apr_2022</td>\n",
       "      <td>2022</td>\n",
       "      <td>4</td>\n",
       "      <td>2022-05-23</td>\n",
       "      <td>5</td>\n",
       "      <td>2022</td>\n",
       "    </tr>\n",
       "    <tr>\n",
       "      <th>1</th>\n",
       "      <td>337.0</td>\n",
       "      <td>337.0</td>\n",
       "      <td>0.0</td>\n",
       "      <td>10459.0</td>\n",
       "      <td>10458.0</td>\n",
       "      <td>-1.0</td>\n",
       "      <td>0.0</td>\n",
       "      <td>16906.0</td>\n",
       "      <td>16906.0</td>\n",
       "      <td>0.0</td>\n",
       "      <td>0.0</td>\n",
       "      <td>Monthly_Report_May_2022</td>\n",
       "      <td>2022</td>\n",
       "      <td>5</td>\n",
       "      <td>2022-06-23</td>\n",
       "      <td>6</td>\n",
       "      <td>2022</td>\n",
       "    </tr>\n",
       "    <tr>\n",
       "      <th>2</th>\n",
       "      <td>344.0</td>\n",
       "      <td>343.0</td>\n",
       "      <td>-0.3</td>\n",
       "      <td>10657.0</td>\n",
       "      <td>10648.0</td>\n",
       "      <td>-9.0</td>\n",
       "      <td>-0.1</td>\n",
       "      <td>17196.0</td>\n",
       "      <td>17196.0</td>\n",
       "      <td>0.0</td>\n",
       "      <td>0.0</td>\n",
       "      <td>Monthly_Report_Mar_2022</td>\n",
       "      <td>2022</td>\n",
       "      <td>3</td>\n",
       "      <td>2022-04-25</td>\n",
       "      <td>4</td>\n",
       "      <td>2022</td>\n",
       "    </tr>\n",
       "    <tr>\n",
       "      <th>3</th>\n",
       "      <td>286.0</td>\n",
       "      <td>286.0</td>\n",
       "      <td>0.0</td>\n",
       "      <td>8873.0</td>\n",
       "      <td>8873.0</td>\n",
       "      <td>1.0</td>\n",
       "      <td>0.0</td>\n",
       "      <td>15290.0</td>\n",
       "      <td>15290.0</td>\n",
       "      <td>0.0</td>\n",
       "      <td>0.0</td>\n",
       "      <td>Monthly_Report_Jan_2022</td>\n",
       "      <td>2022</td>\n",
       "      <td>1</td>\n",
       "      <td>2022-02-23</td>\n",
       "      <td>2</td>\n",
       "      <td>2022</td>\n",
       "    </tr>\n",
       "    <tr>\n",
       "      <th>4</th>\n",
       "      <td>245.0</td>\n",
       "      <td>245.0</td>\n",
       "      <td>0.0</td>\n",
       "      <td>7362.0</td>\n",
       "      <td>7360.0</td>\n",
       "      <td>-1.0</td>\n",
       "      <td>0.0</td>\n",
       "      <td>13501.0</td>\n",
       "      <td>13480.0</td>\n",
       "      <td>-21.0</td>\n",
       "      <td>-0.2</td>\n",
       "      <td>Monthly_Report_Nov_2021</td>\n",
       "      <td>2021</td>\n",
       "      <td>11</td>\n",
       "      <td>2021-12-23</td>\n",
       "      <td>12</td>\n",
       "      <td>2021</td>\n",
       "    </tr>\n",
       "    <tr>\n",
       "      <th>...</th>\n",
       "      <td>...</td>\n",
       "      <td>...</td>\n",
       "      <td>...</td>\n",
       "      <td>...</td>\n",
       "      <td>...</td>\n",
       "      <td>...</td>\n",
       "      <td>...</td>\n",
       "      <td>...</td>\n",
       "      <td>...</td>\n",
       "      <td>...</td>\n",
       "      <td>...</td>\n",
       "      <td>...</td>\n",
       "      <td>...</td>\n",
       "      <td>...</td>\n",
       "      <td>...</td>\n",
       "      <td>...</td>\n",
       "      <td>...</td>\n",
       "    </tr>\n",
       "    <tr>\n",
       "      <th>117</th>\n",
       "      <td>284.0</td>\n",
       "      <td>284.0</td>\n",
       "      <td>-0.1</td>\n",
       "      <td>8807.0</td>\n",
       "      <td>8803.0</td>\n",
       "      <td>-4.0</td>\n",
       "      <td>0.0</td>\n",
       "      <td>14971.0</td>\n",
       "      <td>14946.0</td>\n",
       "      <td>-25.0</td>\n",
       "      <td>-0.2</td>\n",
       "      <td>Monthly Report December 2018</td>\n",
       "      <td>2018</td>\n",
       "      <td>12</td>\n",
       "      <td>2019-01-23</td>\n",
       "      <td>1</td>\n",
       "      <td>2019</td>\n",
       "    </tr>\n",
       "    <tr>\n",
       "      <th>118</th>\n",
       "      <td>285.0</td>\n",
       "      <td>284.8</td>\n",
       "      <td>-0.3</td>\n",
       "      <td>8835.9</td>\n",
       "      <td>8828.0</td>\n",
       "      <td>-7.9</td>\n",
       "      <td>-0.1</td>\n",
       "      <td>14971.0</td>\n",
       "      <td>14946.0</td>\n",
       "      <td>-25.0</td>\n",
       "      <td>-0.2</td>\n",
       "      <td>Monthly Report October 2018</td>\n",
       "      <td>2018</td>\n",
       "      <td>10</td>\n",
       "      <td>2018-11-22</td>\n",
       "      <td>11</td>\n",
       "      <td>2018</td>\n",
       "    </tr>\n",
       "    <tr>\n",
       "      <th>119</th>\n",
       "      <td>300.9</td>\n",
       "      <td>300.7</td>\n",
       "      <td>-0.2</td>\n",
       "      <td>9326.8</td>\n",
       "      <td>9320.9</td>\n",
       "      <td>-5.8</td>\n",
       "      <td>-0.1</td>\n",
       "      <td>15025.0</td>\n",
       "      <td>14984.0</td>\n",
       "      <td>-41.0</td>\n",
       "      <td>-0.3</td>\n",
       "      <td>Monthly Report August 2018</td>\n",
       "      <td>2018</td>\n",
       "      <td>8</td>\n",
       "      <td>2018-09-23</td>\n",
       "      <td>9</td>\n",
       "      <td>2018</td>\n",
       "    </tr>\n",
       "    <tr>\n",
       "      <th>120</th>\n",
       "      <td>315.7</td>\n",
       "      <td>315.5</td>\n",
       "      <td>-0.2</td>\n",
       "      <td>9471.3</td>\n",
       "      <td>9464.3</td>\n",
       "      <td>-7.0</td>\n",
       "      <td>-0.1</td>\n",
       "      <td>15191.0</td>\n",
       "      <td>15183.0</td>\n",
       "      <td>-8.0</td>\n",
       "      <td>-0.1</td>\n",
       "      <td>Monthly Report June 2018</td>\n",
       "      <td>2018</td>\n",
       "      <td>6</td>\n",
       "      <td>2018-07-23</td>\n",
       "      <td>7</td>\n",
       "      <td>2018</td>\n",
       "    </tr>\n",
       "    <tr>\n",
       "      <th>121</th>\n",
       "      <td>337.6</td>\n",
       "      <td>337.3</td>\n",
       "      <td>-0.3</td>\n",
       "      <td>10126.9</td>\n",
       "      <td>10118.4</td>\n",
       "      <td>-8.6</td>\n",
       "      <td>-0.1</td>\n",
       "      <td>15457.0</td>\n",
       "      <td>15411.0</td>\n",
       "      <td>-45.0</td>\n",
       "      <td>-0.3</td>\n",
       "      <td>Monthly Report April 2018</td>\n",
       "      <td>2018</td>\n",
       "      <td>4</td>\n",
       "      <td>2018-05-23</td>\n",
       "      <td>5</td>\n",
       "      <td>2018</td>\n",
       "    </tr>\n",
       "  </tbody>\n",
       "</table>\n",
       "<p>122 rows × 17 columns</p>\n",
       "</div>"
      ],
      "text/plain": [
       "     Requirement(MU/DAY)  Energy_met(MU/DAY)  Surplus(+)/Deficit(-)(MU/DAY)  \\\n",
       "0                  354.0               354.0                           -0.9   \n",
       "1                  337.0               337.0                            0.0   \n",
       "2                  344.0               343.0                           -0.3   \n",
       "3                  286.0               286.0                            0.0   \n",
       "4                  245.0               245.0                            0.0   \n",
       "..                   ...                 ...                            ...   \n",
       "117                284.0               284.0                           -0.1   \n",
       "118                285.0               284.8                           -0.3   \n",
       "119                300.9               300.7                           -0.2   \n",
       "120                315.7               315.5                           -0.2   \n",
       "121                337.6               337.3                           -0.3   \n",
       "\n",
       "     Requirement(MU)  Energy_met(MU)  Surplus(+)/Deficit(-)(MU)  \\\n",
       "0            10632.0         10605.0                      -26.0   \n",
       "1            10459.0         10458.0                       -1.0   \n",
       "2            10657.0         10648.0                       -9.0   \n",
       "3             8873.0          8873.0                        1.0   \n",
       "4             7362.0          7360.0                       -1.0   \n",
       "..               ...             ...                        ...   \n",
       "117           8807.0          8803.0                       -4.0   \n",
       "118           8835.9          8828.0                       -7.9   \n",
       "119           9326.8          9320.9                       -5.8   \n",
       "120           9471.3          9464.3                       -7.0   \n",
       "121          10126.9         10118.4                       -8.6   \n",
       "\n",
       "     %Shortage(MU)  Requirement(MW)  Peak_Demand_Met5(MW)  \\\n",
       "0             -0.2          17646.0               17563.0   \n",
       "1              0.0          16906.0               16906.0   \n",
       "2             -0.1          17196.0               17196.0   \n",
       "3              0.0          15290.0               15290.0   \n",
       "4              0.0          13501.0               13480.0   \n",
       "..             ...              ...                   ...   \n",
       "117            0.0          14971.0               14946.0   \n",
       "118           -0.1          14971.0               14946.0   \n",
       "119           -0.1          15025.0               14984.0   \n",
       "120           -0.1          15191.0               15183.0   \n",
       "121           -0.1          15457.0               15411.0   \n",
       "\n",
       "     Surplus(+)/Deficit(-)(MW)  %Shortage(MW)                   name_report  \\\n",
       "0                        -83.0           -0.5       Monthly_Report_Apr_2022   \n",
       "1                          0.0            0.0       Monthly_Report_May_2022   \n",
       "2                          0.0            0.0       Monthly_Report_Mar_2022   \n",
       "3                          0.0            0.0       Monthly_Report_Jan_2022   \n",
       "4                        -21.0           -0.2       Monthly_Report_Nov_2021   \n",
       "..                         ...            ...                           ...   \n",
       "117                      -25.0           -0.2  Monthly Report December 2018   \n",
       "118                      -25.0           -0.2   Monthly Report October 2018   \n",
       "119                      -41.0           -0.3    Monthly Report August 2018   \n",
       "120                       -8.0           -0.1      Monthly Report June 2018   \n",
       "121                      -45.0           -0.3     Monthly Report April 2018   \n",
       "\n",
       "     year  month date_published  month_published  year_published  \n",
       "0    2022      4     2022-05-23                5            2022  \n",
       "1    2022      5     2022-06-23                6            2022  \n",
       "2    2022      3     2022-04-25                4            2022  \n",
       "3    2022      1     2022-02-23                2            2022  \n",
       "4    2021     11     2021-12-23               12            2021  \n",
       "..    ...    ...            ...              ...             ...  \n",
       "117  2018     12     2019-01-23                1            2019  \n",
       "118  2018     10     2018-11-22               11            2018  \n",
       "119  2018      8     2018-09-23                9            2018  \n",
       "120  2018      6     2018-07-23                7            2018  \n",
       "121  2018      4     2018-05-23                5            2018  \n",
       "\n",
       "[122 rows x 17 columns]"
      ]
     },
     "execution_count": 14,
     "metadata": {},
     "output_type": "execute_result"
    }
   ],
   "source": [
    "demand_supply_monthly_df"
   ]
  },
  {
   "cell_type": "code",
   "execution_count": 15,
   "id": "87bfbd93",
   "metadata": {},
   "outputs": [
    {
     "data": {
      "text/plain": [
       "Index(['Requirement(MU/DAY)', 'Energy_met(MU/DAY)',\n",
       "       'Surplus(+)/Deficit(-)(MU/DAY)', 'Requirement(MU)', 'Energy_met(MU)',\n",
       "       'Surplus(+)/Deficit(-)(MU)', '%Shortage(MU)', 'Requirement(MW)',\n",
       "       'Peak_Demand_Met5(MW)', 'Surplus(+)/Deficit(-)(MW)', '%Shortage(MW)',\n",
       "       'name_report', 'year', 'month', 'date_published', 'month_published',\n",
       "       'year_published'],\n",
       "      dtype='object')"
      ]
     },
     "execution_count": 15,
     "metadata": {},
     "output_type": "execute_result"
    }
   ],
   "source": [
    "demand_supply_monthly_df.columns"
   ]
  },
  {
   "cell_type": "code",
   "execution_count": 16,
   "id": "ef8e4796",
   "metadata": {},
   "outputs": [
    {
     "data": {
      "text/html": [
       "<div>\n",
       "<style scoped>\n",
       "    .dataframe tbody tr th:only-of-type {\n",
       "        vertical-align: middle;\n",
       "    }\n",
       "\n",
       "    .dataframe tbody tr th {\n",
       "        vertical-align: top;\n",
       "    }\n",
       "\n",
       "    .dataframe thead th {\n",
       "        text-align: right;\n",
       "    }\n",
       "</style>\n",
       "<table border=\"1\" class=\"dataframe\">\n",
       "  <thead>\n",
       "    <tr style=\"text-align: right;\">\n",
       "      <th></th>\n",
       "      <th>month</th>\n",
       "    </tr>\n",
       "    <tr>\n",
       "      <th>year</th>\n",
       "      <th></th>\n",
       "    </tr>\n",
       "  </thead>\n",
       "  <tbody>\n",
       "    <tr>\n",
       "      <th>2012</th>\n",
       "      <td>9</td>\n",
       "    </tr>\n",
       "    <tr>\n",
       "      <th>2013</th>\n",
       "      <td>12</td>\n",
       "    </tr>\n",
       "    <tr>\n",
       "      <th>2014</th>\n",
       "      <td>12</td>\n",
       "    </tr>\n",
       "    <tr>\n",
       "      <th>2015</th>\n",
       "      <td>12</td>\n",
       "    </tr>\n",
       "    <tr>\n",
       "      <th>2016</th>\n",
       "      <td>12</td>\n",
       "    </tr>\n",
       "    <tr>\n",
       "      <th>2017</th>\n",
       "      <td>12</td>\n",
       "    </tr>\n",
       "    <tr>\n",
       "      <th>2018</th>\n",
       "      <td>12</td>\n",
       "    </tr>\n",
       "    <tr>\n",
       "      <th>2019</th>\n",
       "      <td>12</td>\n",
       "    </tr>\n",
       "    <tr>\n",
       "      <th>2020</th>\n",
       "      <td>12</td>\n",
       "    </tr>\n",
       "    <tr>\n",
       "      <th>2021</th>\n",
       "      <td>12</td>\n",
       "    </tr>\n",
       "    <tr>\n",
       "      <th>2022</th>\n",
       "      <td>5</td>\n",
       "    </tr>\n",
       "  </tbody>\n",
       "</table>\n",
       "</div>"
      ],
      "text/plain": [
       "      month\n",
       "year       \n",
       "2012      9\n",
       "2013     12\n",
       "2014     12\n",
       "2015     12\n",
       "2016     12\n",
       "2017     12\n",
       "2018     12\n",
       "2019     12\n",
       "2020     12\n",
       "2021     12\n",
       "2022      5"
      ]
     },
     "execution_count": 16,
     "metadata": {},
     "output_type": "execute_result"
    }
   ],
   "source": [
    "demand_supply_monthly_df[['month','year']].groupby(['year']).count()"
   ]
  },
  {
   "cell_type": "markdown",
   "id": "831d0442",
   "metadata": {},
   "source": [
    "# Questions to be addressed\n",
    "### Build a model to predict the following based on the month-wise energy consumption pattern in Tamil Nadu, India data collected  \n",
    "#### 1) Predict the Requirements (MU/Day)\n",
    "#### 2) Requirement(MU)\n",
    "#### 3) Requirement(MW)\n",
    "#### 4) Predict the Peak_Demand_Met5(MW) for future months\n",
    "\n",
    "\n",
    "MU means Million units of electricity. One unit of electricity is one Kilowatt per hour. One Kilowatt are a thousand Watts. \n",
    "\n",
    "MW - Megawatts are basic to understanding electricity planning concepts. \n",
    "Watts (W) are the yardstick for measuring power. A one hundred watt light bulb, for example, is rated to consume one hundred watts of power when turned on. If such a light bulb were on for four hours it would consume a total of 400 watt-hours (Wh) of energy. Watts, therefore, measure instantaneous power while watt hours measure the total amount of energy consumed over a period of time.\n",
    "\n",
    "A megawatt (MW) is one million watts and a kilowatt (kW) is one thousand watts. Both terms are commonly used in the power business when describing generation or load consumption. For instance, a 100 MW rated wind farm is capable of producing 100 MW during peak winds, but will produce much less than its rated amount when winds are light. \n",
    "\n",
    "The ratio of a power plant’s average production to its rated capability is known as capacity factor. Load factor generally, on the other hand, is calculated by dividing the average load by the peak load over a certain period of time. If the residential load at a utility averaged 5,000 MW over the course of a year and the peak load was 10,000 MW, then the residential customers would be said to have a load factor of 50\n",
    "percent (5,000 MW average divided by 10,000 MW peak)."
   ]
  },
  {
   "cell_type": "code",
   "execution_count": 17,
   "id": "5f263fbf",
   "metadata": {},
   "outputs": [
    {
     "data": {
      "text/plain": [
       "(122, 8)"
      ]
     },
     "execution_count": 17,
     "metadata": {},
     "output_type": "execute_result"
    }
   ],
   "source": [
    "df_temp = demand_supply_monthly_df[['Requirement(MU/DAY)', 'Energy_met(MU/DAY)', 'Requirement(MU)', \n",
    "                                    'Energy_met(MU)','Requirement(MW)', 'Peak_Demand_Met5(MW)','year', 'month']]\n",
    "\n",
    "df_temp.shape"
   ]
  },
  {
   "cell_type": "code",
   "execution_count": 18,
   "id": "c8992b85",
   "metadata": {},
   "outputs": [
    {
     "data": {
      "text/html": [
       "<div>\n",
       "<style scoped>\n",
       "    .dataframe tbody tr th:only-of-type {\n",
       "        vertical-align: middle;\n",
       "    }\n",
       "\n",
       "    .dataframe tbody tr th {\n",
       "        vertical-align: top;\n",
       "    }\n",
       "\n",
       "    .dataframe thead th {\n",
       "        text-align: right;\n",
       "    }\n",
       "</style>\n",
       "<table border=\"1\" class=\"dataframe\">\n",
       "  <thead>\n",
       "    <tr style=\"text-align: right;\">\n",
       "      <th></th>\n",
       "      <th>Requirement(MU/DAY)</th>\n",
       "      <th>Energy_met(MU/DAY)</th>\n",
       "      <th>Requirement(MU)</th>\n",
       "      <th>Energy_met(MU)</th>\n",
       "      <th>Requirement(MW)</th>\n",
       "      <th>Peak_Demand_Met5(MW)</th>\n",
       "      <th>year</th>\n",
       "      <th>month</th>\n",
       "    </tr>\n",
       "  </thead>\n",
       "  <tbody>\n",
       "    <tr>\n",
       "      <th>0</th>\n",
       "      <td>354.0</td>\n",
       "      <td>354.0</td>\n",
       "      <td>10632.0</td>\n",
       "      <td>10605.0</td>\n",
       "      <td>17646.0</td>\n",
       "      <td>17563.0</td>\n",
       "      <td>2022</td>\n",
       "      <td>4</td>\n",
       "    </tr>\n",
       "    <tr>\n",
       "      <th>1</th>\n",
       "      <td>337.0</td>\n",
       "      <td>337.0</td>\n",
       "      <td>10459.0</td>\n",
       "      <td>10458.0</td>\n",
       "      <td>16906.0</td>\n",
       "      <td>16906.0</td>\n",
       "      <td>2022</td>\n",
       "      <td>5</td>\n",
       "    </tr>\n",
       "    <tr>\n",
       "      <th>2</th>\n",
       "      <td>344.0</td>\n",
       "      <td>343.0</td>\n",
       "      <td>10657.0</td>\n",
       "      <td>10648.0</td>\n",
       "      <td>17196.0</td>\n",
       "      <td>17196.0</td>\n",
       "      <td>2022</td>\n",
       "      <td>3</td>\n",
       "    </tr>\n",
       "    <tr>\n",
       "      <th>3</th>\n",
       "      <td>286.0</td>\n",
       "      <td>286.0</td>\n",
       "      <td>8873.0</td>\n",
       "      <td>8873.0</td>\n",
       "      <td>15290.0</td>\n",
       "      <td>15290.0</td>\n",
       "      <td>2022</td>\n",
       "      <td>1</td>\n",
       "    </tr>\n",
       "    <tr>\n",
       "      <th>4</th>\n",
       "      <td>245.0</td>\n",
       "      <td>245.0</td>\n",
       "      <td>7362.0</td>\n",
       "      <td>7360.0</td>\n",
       "      <td>13501.0</td>\n",
       "      <td>13480.0</td>\n",
       "      <td>2021</td>\n",
       "      <td>11</td>\n",
       "    </tr>\n",
       "  </tbody>\n",
       "</table>\n",
       "</div>"
      ],
      "text/plain": [
       "   Requirement(MU/DAY)  Energy_met(MU/DAY)  Requirement(MU)  Energy_met(MU)  \\\n",
       "0                354.0               354.0          10632.0         10605.0   \n",
       "1                337.0               337.0          10459.0         10458.0   \n",
       "2                344.0               343.0          10657.0         10648.0   \n",
       "3                286.0               286.0           8873.0          8873.0   \n",
       "4                245.0               245.0           7362.0          7360.0   \n",
       "\n",
       "   Requirement(MW)  Peak_Demand_Met5(MW)  year  month  \n",
       "0          17646.0               17563.0  2022      4  \n",
       "1          16906.0               16906.0  2022      5  \n",
       "2          17196.0               17196.0  2022      3  \n",
       "3          15290.0               15290.0  2022      1  \n",
       "4          13501.0               13480.0  2021     11  "
      ]
     },
     "execution_count": 18,
     "metadata": {},
     "output_type": "execute_result"
    }
   ],
   "source": [
    "df_temp.head()"
   ]
  },
  {
   "cell_type": "code",
   "execution_count": 19,
   "id": "e1f3c2ec",
   "metadata": {},
   "outputs": [
    {
     "name": "stderr",
     "output_type": "stream",
     "text": [
      "/tmp/ipykernel_32274/70565087.py:3: SettingWithCopyWarning: \n",
      "A value is trying to be set on a copy of a slice from a DataFrame.\n",
      "Try using .loc[row_indexer,col_indexer] = value instead\n",
      "\n",
      "See the caveats in the documentation: https://pandas.pydata.org/pandas-docs/stable/user_guide/indexing.html#returning-a-view-versus-a-copy\n",
      "  df_temp['date'] = pd.to_datetime(df_temp['year'].apply(str)+'-'+df_temp['month'].apply(str)+'-'+str(1), format='%Y-%m-%d')\n"
     ]
    }
   ],
   "source": [
    "#demand_supply_monthly_df = pd.read_csv('../../data/cleaned data/demand_supply_monthly.csv')\n",
    "#demand_supply_monthly_df.shape\n",
    "df_temp['date'] = pd.to_datetime(df_temp['year'].apply(str)+'-'+df_temp['month'].apply(str)+'-'+str(1), format='%Y-%m-%d')"
   ]
  },
  {
   "cell_type": "code",
   "execution_count": 20,
   "id": "4e1993b5",
   "metadata": {},
   "outputs": [
    {
     "name": "stderr",
     "output_type": "stream",
     "text": [
      "/tmp/ipykernel_32274/4199139029.py:1: SettingWithCopyWarning: \n",
      "A value is trying to be set on a copy of a slice from a DataFrame\n",
      "\n",
      "See the caveats in the documentation: https://pandas.pydata.org/pandas-docs/stable/user_guide/indexing.html#returning-a-view-versus-a-copy\n",
      "  df_temp.sort_values('date', inplace=True)\n"
     ]
    }
   ],
   "source": [
    "df_temp.sort_values('date', inplace=True)\n"
   ]
  },
  {
   "cell_type": "code",
   "execution_count": null,
   "id": "775dc3ca",
   "metadata": {},
   "outputs": [],
   "source": []
  },
  {
   "cell_type": "code",
   "execution_count": null,
   "id": "b99a4628",
   "metadata": {},
   "outputs": [],
   "source": []
  },
  {
   "cell_type": "code",
   "execution_count": 21,
   "id": "18570f4a",
   "metadata": {},
   "outputs": [
    {
     "data": {
      "text/html": [
       "<div>\n",
       "<style scoped>\n",
       "    .dataframe tbody tr th:only-of-type {\n",
       "        vertical-align: middle;\n",
       "    }\n",
       "\n",
       "    .dataframe tbody tr th {\n",
       "        vertical-align: top;\n",
       "    }\n",
       "\n",
       "    .dataframe thead th {\n",
       "        text-align: right;\n",
       "    }\n",
       "</style>\n",
       "<table border=\"1\" class=\"dataframe\">\n",
       "  <thead>\n",
       "    <tr style=\"text-align: right;\">\n",
       "      <th></th>\n",
       "      <th>Requirement(MU/DAY)</th>\n",
       "      <th>Energy_met(MU/DAY)</th>\n",
       "      <th>Requirement(MU)</th>\n",
       "      <th>Energy_met(MU)</th>\n",
       "      <th>Requirement(MW)</th>\n",
       "      <th>Peak_Demand_Met5(MW)</th>\n",
       "      <th>year</th>\n",
       "      <th>month</th>\n",
       "      <th>date</th>\n",
       "    </tr>\n",
       "  </thead>\n",
       "  <tbody>\n",
       "    <tr>\n",
       "      <th>3</th>\n",
       "      <td>286.0</td>\n",
       "      <td>286.0</td>\n",
       "      <td>8873.0</td>\n",
       "      <td>8873.0</td>\n",
       "      <td>15290.0</td>\n",
       "      <td>15290.0</td>\n",
       "      <td>2022</td>\n",
       "      <td>1</td>\n",
       "      <td>2022-01-01</td>\n",
       "    </tr>\n",
       "    <tr>\n",
       "      <th>8</th>\n",
       "      <td>322.0</td>\n",
       "      <td>322.0</td>\n",
       "      <td>9028.0</td>\n",
       "      <td>9028.0</td>\n",
       "      <td>16262.0</td>\n",
       "      <td>16262.0</td>\n",
       "      <td>2022</td>\n",
       "      <td>2</td>\n",
       "      <td>2022-02-01</td>\n",
       "    </tr>\n",
       "    <tr>\n",
       "      <th>2</th>\n",
       "      <td>344.0</td>\n",
       "      <td>343.0</td>\n",
       "      <td>10657.0</td>\n",
       "      <td>10648.0</td>\n",
       "      <td>17196.0</td>\n",
       "      <td>17196.0</td>\n",
       "      <td>2022</td>\n",
       "      <td>3</td>\n",
       "      <td>2022-03-01</td>\n",
       "    </tr>\n",
       "    <tr>\n",
       "      <th>0</th>\n",
       "      <td>354.0</td>\n",
       "      <td>354.0</td>\n",
       "      <td>10632.0</td>\n",
       "      <td>10605.0</td>\n",
       "      <td>17646.0</td>\n",
       "      <td>17563.0</td>\n",
       "      <td>2022</td>\n",
       "      <td>4</td>\n",
       "      <td>2022-04-01</td>\n",
       "    </tr>\n",
       "    <tr>\n",
       "      <th>1</th>\n",
       "      <td>337.0</td>\n",
       "      <td>337.0</td>\n",
       "      <td>10459.0</td>\n",
       "      <td>10458.0</td>\n",
       "      <td>16906.0</td>\n",
       "      <td>16906.0</td>\n",
       "      <td>2022</td>\n",
       "      <td>5</td>\n",
       "      <td>2022-05-01</td>\n",
       "    </tr>\n",
       "  </tbody>\n",
       "</table>\n",
       "</div>"
      ],
      "text/plain": [
       "   Requirement(MU/DAY)  Energy_met(MU/DAY)  Requirement(MU)  Energy_met(MU)  \\\n",
       "3                286.0               286.0           8873.0          8873.0   \n",
       "8                322.0               322.0           9028.0          9028.0   \n",
       "2                344.0               343.0          10657.0         10648.0   \n",
       "0                354.0               354.0          10632.0         10605.0   \n",
       "1                337.0               337.0          10459.0         10458.0   \n",
       "\n",
       "   Requirement(MW)  Peak_Demand_Met5(MW)  year  month       date  \n",
       "3          15290.0               15290.0  2022      1 2022-01-01  \n",
       "8          16262.0               16262.0  2022      2 2022-02-01  \n",
       "2          17196.0               17196.0  2022      3 2022-03-01  \n",
       "0          17646.0               17563.0  2022      4 2022-04-01  \n",
       "1          16906.0               16906.0  2022      5 2022-05-01  "
      ]
     },
     "execution_count": 21,
     "metadata": {},
     "output_type": "execute_result"
    }
   ],
   "source": [
    "df_temp.tail()"
   ]
  },
  {
   "cell_type": "code",
   "execution_count": 22,
   "id": "cb149490",
   "metadata": {},
   "outputs": [
    {
     "data": {
      "text/html": [
       "<div>\n",
       "<style scoped>\n",
       "    .dataframe tbody tr th:only-of-type {\n",
       "        vertical-align: middle;\n",
       "    }\n",
       "\n",
       "    .dataframe tbody tr th {\n",
       "        vertical-align: top;\n",
       "    }\n",
       "\n",
       "    .dataframe thead th {\n",
       "        text-align: right;\n",
       "    }\n",
       "</style>\n",
       "<table border=\"1\" class=\"dataframe\">\n",
       "  <thead>\n",
       "    <tr style=\"text-align: right;\">\n",
       "      <th></th>\n",
       "      <th>Requirement(MU/DAY)</th>\n",
       "      <th>Energy_met(MU/DAY)</th>\n",
       "      <th>Requirement(MU)</th>\n",
       "      <th>Energy_met(MU)</th>\n",
       "      <th>Requirement(MW)</th>\n",
       "      <th>Peak_Demand_Met5(MW)</th>\n",
       "    </tr>\n",
       "  </thead>\n",
       "  <tbody>\n",
       "    <tr>\n",
       "      <th>Requirement(MU/DAY)</th>\n",
       "      <td>1.000000</td>\n",
       "      <td>0.936236</td>\n",
       "      <td>0.962122</td>\n",
       "      <td>0.910293</td>\n",
       "      <td>0.826244</td>\n",
       "      <td>0.800857</td>\n",
       "    </tr>\n",
       "    <tr>\n",
       "      <th>Energy_met(MU/DAY)</th>\n",
       "      <td>0.936236</td>\n",
       "      <td>1.000000</td>\n",
       "      <td>0.906506</td>\n",
       "      <td>0.978842</td>\n",
       "      <td>0.877694</td>\n",
       "      <td>0.917977</td>\n",
       "    </tr>\n",
       "    <tr>\n",
       "      <th>Requirement(MU)</th>\n",
       "      <td>0.962122</td>\n",
       "      <td>0.906506</td>\n",
       "      <td>1.000000</td>\n",
       "      <td>0.937061</td>\n",
       "      <td>0.818923</td>\n",
       "      <td>0.786638</td>\n",
       "    </tr>\n",
       "    <tr>\n",
       "      <th>Energy_met(MU)</th>\n",
       "      <td>0.910293</td>\n",
       "      <td>0.978842</td>\n",
       "      <td>0.937061</td>\n",
       "      <td>1.000000</td>\n",
       "      <td>0.872410</td>\n",
       "      <td>0.907465</td>\n",
       "    </tr>\n",
       "    <tr>\n",
       "      <th>Requirement(MW)</th>\n",
       "      <td>0.826244</td>\n",
       "      <td>0.877694</td>\n",
       "      <td>0.818923</td>\n",
       "      <td>0.872410</td>\n",
       "      <td>1.000000</td>\n",
       "      <td>0.951951</td>\n",
       "    </tr>\n",
       "    <tr>\n",
       "      <th>Peak_Demand_Met5(MW)</th>\n",
       "      <td>0.800857</td>\n",
       "      <td>0.917977</td>\n",
       "      <td>0.786638</td>\n",
       "      <td>0.907465</td>\n",
       "      <td>0.951951</td>\n",
       "      <td>1.000000</td>\n",
       "    </tr>\n",
       "  </tbody>\n",
       "</table>\n",
       "</div>"
      ],
      "text/plain": [
       "                      Requirement(MU/DAY)  Energy_met(MU/DAY)  \\\n",
       "Requirement(MU/DAY)              1.000000            0.936236   \n",
       "Energy_met(MU/DAY)               0.936236            1.000000   \n",
       "Requirement(MU)                  0.962122            0.906506   \n",
       "Energy_met(MU)                   0.910293            0.978842   \n",
       "Requirement(MW)                  0.826244            0.877694   \n",
       "Peak_Demand_Met5(MW)             0.800857            0.917977   \n",
       "\n",
       "                      Requirement(MU)  Energy_met(MU)  Requirement(MW)  \\\n",
       "Requirement(MU/DAY)          0.962122        0.910293         0.826244   \n",
       "Energy_met(MU/DAY)           0.906506        0.978842         0.877694   \n",
       "Requirement(MU)              1.000000        0.937061         0.818923   \n",
       "Energy_met(MU)               0.937061        1.000000         0.872410   \n",
       "Requirement(MW)              0.818923        0.872410         1.000000   \n",
       "Peak_Demand_Met5(MW)         0.786638        0.907465         0.951951   \n",
       "\n",
       "                      Peak_Demand_Met5(MW)  \n",
       "Requirement(MU/DAY)               0.800857  \n",
       "Energy_met(MU/DAY)                0.917977  \n",
       "Requirement(MU)                   0.786638  \n",
       "Energy_met(MU)                    0.907465  \n",
       "Requirement(MW)                   0.951951  \n",
       "Peak_Demand_Met5(MW)              1.000000  "
      ]
     },
     "execution_count": 22,
     "metadata": {},
     "output_type": "execute_result"
    }
   ],
   "source": [
    "# To find the correlation among\n",
    "# the columns using pearson method\n",
    "df_temp[['Requirement(MU/DAY)', 'Energy_met(MU/DAY)', 'Requirement(MU)', 'Energy_met(MU)','Requirement(MW)', \n",
    "         'Peak_Demand_Met5(MW)']].corr(method ='pearson')"
   ]
  },
  {
   "cell_type": "code",
   "execution_count": 23,
   "id": "ad5a207f",
   "metadata": {},
   "outputs": [
    {
     "name": "stderr",
     "output_type": "stream",
     "text": [
      "/tmp/ipykernel_32274/3671122157.py:4: FutureWarning: this method is deprecated in favour of `Styler.format(precision=..)`\n",
      "  corr.style.background_gradient(cmap='coolwarm').set_precision(2)\n"
     ]
    },
    {
     "data": {
      "text/html": [
       "<style type=\"text/css\">\n",
       "#T_60d63_row0_col0, #T_60d63_row1_col1, #T_60d63_row2_col2, #T_60d63_row3_col3, #T_60d63_row4_col4, #T_60d63_row5_col5 {\n",
       "  background-color: #b40426;\n",
       "  color: #f1f1f1;\n",
       "}\n",
       "#T_60d63_row0_col1 {\n",
       "  background-color: #d7dce3;\n",
       "  color: #000000;\n",
       "}\n",
       "#T_60d63_row0_col2 {\n",
       "  background-color: #e97a5f;\n",
       "  color: #f1f1f1;\n",
       "}\n",
       "#T_60d63_row0_col3 {\n",
       "  background-color: #9ebeff;\n",
       "  color: #000000;\n",
       "}\n",
       "#T_60d63_row0_col4 {\n",
       "  background-color: #465ecf;\n",
       "  color: #f1f1f1;\n",
       "}\n",
       "#T_60d63_row0_col5 {\n",
       "  background-color: #4f69d9;\n",
       "  color: #f1f1f1;\n",
       "}\n",
       "#T_60d63_row1_col0 {\n",
       "  background-color: #f7b396;\n",
       "  color: #000000;\n",
       "}\n",
       "#T_60d63_row1_col2 {\n",
       "  background-color: #ebd3c6;\n",
       "  color: #000000;\n",
       "}\n",
       "#T_60d63_row1_col3 {\n",
       "  background-color: #e7745b;\n",
       "  color: #f1f1f1;\n",
       "}\n",
       "#T_60d63_row1_col4 {\n",
       "  background-color: #a7c5fe;\n",
       "  color: #000000;\n",
       "}\n",
       "#T_60d63_row1_col5 {\n",
       "  background-color: #f3c7b1;\n",
       "  color: #000000;\n",
       "}\n",
       "#T_60d63_row2_col0 {\n",
       "  background-color: #ec7f63;\n",
       "  color: #f1f1f1;\n",
       "}\n",
       "#T_60d63_row2_col1 {\n",
       "  background-color: #88abfd;\n",
       "  color: #000000;\n",
       "}\n",
       "#T_60d63_row2_col3 {\n",
       "  background-color: #dedcdb;\n",
       "  color: #000000;\n",
       "}\n",
       "#T_60d63_row2_col4, #T_60d63_row2_col5, #T_60d63_row4_col1, #T_60d63_row4_col3, #T_60d63_row5_col0, #T_60d63_row5_col2 {\n",
       "  background-color: #3b4cc0;\n",
       "  color: #f1f1f1;\n",
       "}\n",
       "#T_60d63_row3_col0 {\n",
       "  background-color: #e9d5cb;\n",
       "  color: #000000;\n",
       "}\n",
       "#T_60d63_row3_col1 {\n",
       "  background-color: #e9785d;\n",
       "  color: #f1f1f1;\n",
       "}\n",
       "#T_60d63_row3_col2 {\n",
       "  background-color: #f7aa8c;\n",
       "  color: #000000;\n",
       "}\n",
       "#T_60d63_row3_col4 {\n",
       "  background-color: #9dbdff;\n",
       "  color: #000000;\n",
       "}\n",
       "#T_60d63_row3_col5 {\n",
       "  background-color: #ecd3c5;\n",
       "  color: #000000;\n",
       "}\n",
       "#T_60d63_row4_col0 {\n",
       "  background-color: #6282ea;\n",
       "  color: #f1f1f1;\n",
       "}\n",
       "#T_60d63_row4_col2 {\n",
       "  background-color: #6a8bef;\n",
       "  color: #f1f1f1;\n",
       "}\n",
       "#T_60d63_row4_col5 {\n",
       "  background-color: #f18f71;\n",
       "  color: #f1f1f1;\n",
       "}\n",
       "#T_60d63_row5_col1 {\n",
       "  background-color: #a9c6fd;\n",
       "  color: #000000;\n",
       "}\n",
       "#T_60d63_row5_col3 {\n",
       "  background-color: #96b7ff;\n",
       "  color: #000000;\n",
       "}\n",
       "#T_60d63_row5_col4 {\n",
       "  background-color: #f59f80;\n",
       "  color: #000000;\n",
       "}\n",
       "</style>\n",
       "<table id=\"T_60d63\">\n",
       "  <thead>\n",
       "    <tr>\n",
       "      <th class=\"blank level0\" >&nbsp;</th>\n",
       "      <th id=\"T_60d63_level0_col0\" class=\"col_heading level0 col0\" >Requirement(MU/DAY)</th>\n",
       "      <th id=\"T_60d63_level0_col1\" class=\"col_heading level0 col1\" >Energy_met(MU/DAY)</th>\n",
       "      <th id=\"T_60d63_level0_col2\" class=\"col_heading level0 col2\" >Requirement(MU)</th>\n",
       "      <th id=\"T_60d63_level0_col3\" class=\"col_heading level0 col3\" >Energy_met(MU)</th>\n",
       "      <th id=\"T_60d63_level0_col4\" class=\"col_heading level0 col4\" >Requirement(MW)</th>\n",
       "      <th id=\"T_60d63_level0_col5\" class=\"col_heading level0 col5\" >Peak_Demand_Met5(MW)</th>\n",
       "    </tr>\n",
       "  </thead>\n",
       "  <tbody>\n",
       "    <tr>\n",
       "      <th id=\"T_60d63_level0_row0\" class=\"row_heading level0 row0\" >Requirement(MU/DAY)</th>\n",
       "      <td id=\"T_60d63_row0_col0\" class=\"data row0 col0\" >1.00</td>\n",
       "      <td id=\"T_60d63_row0_col1\" class=\"data row0 col1\" >0.94</td>\n",
       "      <td id=\"T_60d63_row0_col2\" class=\"data row0 col2\" >0.96</td>\n",
       "      <td id=\"T_60d63_row0_col3\" class=\"data row0 col3\" >0.91</td>\n",
       "      <td id=\"T_60d63_row0_col4\" class=\"data row0 col4\" >0.83</td>\n",
       "      <td id=\"T_60d63_row0_col5\" class=\"data row0 col5\" >0.80</td>\n",
       "    </tr>\n",
       "    <tr>\n",
       "      <th id=\"T_60d63_level0_row1\" class=\"row_heading level0 row1\" >Energy_met(MU/DAY)</th>\n",
       "      <td id=\"T_60d63_row1_col0\" class=\"data row1 col0\" >0.94</td>\n",
       "      <td id=\"T_60d63_row1_col1\" class=\"data row1 col1\" >1.00</td>\n",
       "      <td id=\"T_60d63_row1_col2\" class=\"data row1 col2\" >0.91</td>\n",
       "      <td id=\"T_60d63_row1_col3\" class=\"data row1 col3\" >0.98</td>\n",
       "      <td id=\"T_60d63_row1_col4\" class=\"data row1 col4\" >0.88</td>\n",
       "      <td id=\"T_60d63_row1_col5\" class=\"data row1 col5\" >0.92</td>\n",
       "    </tr>\n",
       "    <tr>\n",
       "      <th id=\"T_60d63_level0_row2\" class=\"row_heading level0 row2\" >Requirement(MU)</th>\n",
       "      <td id=\"T_60d63_row2_col0\" class=\"data row2 col0\" >0.96</td>\n",
       "      <td id=\"T_60d63_row2_col1\" class=\"data row2 col1\" >0.91</td>\n",
       "      <td id=\"T_60d63_row2_col2\" class=\"data row2 col2\" >1.00</td>\n",
       "      <td id=\"T_60d63_row2_col3\" class=\"data row2 col3\" >0.94</td>\n",
       "      <td id=\"T_60d63_row2_col4\" class=\"data row2 col4\" >0.82</td>\n",
       "      <td id=\"T_60d63_row2_col5\" class=\"data row2 col5\" >0.79</td>\n",
       "    </tr>\n",
       "    <tr>\n",
       "      <th id=\"T_60d63_level0_row3\" class=\"row_heading level0 row3\" >Energy_met(MU)</th>\n",
       "      <td id=\"T_60d63_row3_col0\" class=\"data row3 col0\" >0.91</td>\n",
       "      <td id=\"T_60d63_row3_col1\" class=\"data row3 col1\" >0.98</td>\n",
       "      <td id=\"T_60d63_row3_col2\" class=\"data row3 col2\" >0.94</td>\n",
       "      <td id=\"T_60d63_row3_col3\" class=\"data row3 col3\" >1.00</td>\n",
       "      <td id=\"T_60d63_row3_col4\" class=\"data row3 col4\" >0.87</td>\n",
       "      <td id=\"T_60d63_row3_col5\" class=\"data row3 col5\" >0.91</td>\n",
       "    </tr>\n",
       "    <tr>\n",
       "      <th id=\"T_60d63_level0_row4\" class=\"row_heading level0 row4\" >Requirement(MW)</th>\n",
       "      <td id=\"T_60d63_row4_col0\" class=\"data row4 col0\" >0.83</td>\n",
       "      <td id=\"T_60d63_row4_col1\" class=\"data row4 col1\" >0.88</td>\n",
       "      <td id=\"T_60d63_row4_col2\" class=\"data row4 col2\" >0.82</td>\n",
       "      <td id=\"T_60d63_row4_col3\" class=\"data row4 col3\" >0.87</td>\n",
       "      <td id=\"T_60d63_row4_col4\" class=\"data row4 col4\" >1.00</td>\n",
       "      <td id=\"T_60d63_row4_col5\" class=\"data row4 col5\" >0.95</td>\n",
       "    </tr>\n",
       "    <tr>\n",
       "      <th id=\"T_60d63_level0_row5\" class=\"row_heading level0 row5\" >Peak_Demand_Met5(MW)</th>\n",
       "      <td id=\"T_60d63_row5_col0\" class=\"data row5 col0\" >0.80</td>\n",
       "      <td id=\"T_60d63_row5_col1\" class=\"data row5 col1\" >0.92</td>\n",
       "      <td id=\"T_60d63_row5_col2\" class=\"data row5 col2\" >0.79</td>\n",
       "      <td id=\"T_60d63_row5_col3\" class=\"data row5 col3\" >0.91</td>\n",
       "      <td id=\"T_60d63_row5_col4\" class=\"data row5 col4\" >0.95</td>\n",
       "      <td id=\"T_60d63_row5_col5\" class=\"data row5 col5\" >1.00</td>\n",
       "    </tr>\n",
       "  </tbody>\n",
       "</table>\n"
      ],
      "text/plain": [
       "<pandas.io.formats.style.Styler at 0x7ff24f5888e0>"
      ]
     },
     "execution_count": 23,
     "metadata": {},
     "output_type": "execute_result"
    }
   ],
   "source": [
    "\n",
    "\n",
    "\n",
    "corr = df_temp[['Requirement(MU/DAY)', 'Energy_met(MU/DAY)', 'Requirement(MU)', 'Energy_met(MU)',\n",
    "                     'Requirement(MW)','Peak_Demand_Met5(MW)']].corr()\n",
    "\n",
    "corr.style.background_gradient(cmap='coolwarm').set_precision(2)\n",
    "\n",
    "# plt.matshow(corr)\n",
    "# plt.show()"
   ]
  },
  {
   "cell_type": "code",
   "execution_count": null,
   "id": "086b74f9",
   "metadata": {},
   "outputs": [],
   "source": []
  },
  {
   "cell_type": "code",
   "execution_count": 24,
   "id": "0cf2d51f",
   "metadata": {},
   "outputs": [
    {
     "data": {
      "text/html": [
       "<div>\n",
       "<style scoped>\n",
       "    .dataframe tbody tr th:only-of-type {\n",
       "        vertical-align: middle;\n",
       "    }\n",
       "\n",
       "    .dataframe tbody tr th {\n",
       "        vertical-align: top;\n",
       "    }\n",
       "\n",
       "    .dataframe thead th {\n",
       "        text-align: right;\n",
       "    }\n",
       "</style>\n",
       "<table border=\"1\" class=\"dataframe\">\n",
       "  <thead>\n",
       "    <tr style=\"text-align: right;\">\n",
       "      <th></th>\n",
       "      <th>Peak_Demand_Met5(MW)</th>\n",
       "    </tr>\n",
       "    <tr>\n",
       "      <th>date</th>\n",
       "      <th></th>\n",
       "    </tr>\n",
       "  </thead>\n",
       "  <tbody>\n",
       "    <tr>\n",
       "      <th>2012-04-01</th>\n",
       "      <td>10078.0</td>\n",
       "    </tr>\n",
       "    <tr>\n",
       "      <th>2012-05-01</th>\n",
       "      <td>10491.0</td>\n",
       "    </tr>\n",
       "    <tr>\n",
       "      <th>2012-06-01</th>\n",
       "      <td>11283.0</td>\n",
       "    </tr>\n",
       "    <tr>\n",
       "      <th>2012-07-01</th>\n",
       "      <td>11105.0</td>\n",
       "    </tr>\n",
       "    <tr>\n",
       "      <th>2012-08-01</th>\n",
       "      <td>10751.0</td>\n",
       "    </tr>\n",
       "  </tbody>\n",
       "</table>\n",
       "</div>"
      ],
      "text/plain": [
       "            Peak_Demand_Met5(MW)\n",
       "date                            \n",
       "2012-04-01               10078.0\n",
       "2012-05-01               10491.0\n",
       "2012-06-01               11283.0\n",
       "2012-07-01               11105.0\n",
       "2012-08-01               10751.0"
      ]
     },
     "execution_count": 24,
     "metadata": {},
     "output_type": "execute_result"
    }
   ],
   "source": [
    "df_temp1 = df_temp[['date','Peak_Demand_Met5(MW)']]\n",
    "\n",
    "df_temp1.set_index('date', inplace=True)\n",
    "\n",
    "df_temp1.head()"
   ]
  },
  {
   "cell_type": "code",
   "execution_count": 25,
   "id": "c0a28960",
   "metadata": {},
   "outputs": [
    {
     "data": {
      "text/html": [
       "<div>\n",
       "<style scoped>\n",
       "    .dataframe tbody tr th:only-of-type {\n",
       "        vertical-align: middle;\n",
       "    }\n",
       "\n",
       "    .dataframe tbody tr th {\n",
       "        vertical-align: top;\n",
       "    }\n",
       "\n",
       "    .dataframe thead th {\n",
       "        text-align: right;\n",
       "    }\n",
       "</style>\n",
       "<table border=\"1\" class=\"dataframe\">\n",
       "  <thead>\n",
       "    <tr style=\"text-align: right;\">\n",
       "      <th></th>\n",
       "      <th>Peak_Demand_Met5(MW)</th>\n",
       "    </tr>\n",
       "    <tr>\n",
       "      <th>date</th>\n",
       "      <th></th>\n",
       "    </tr>\n",
       "  </thead>\n",
       "  <tbody>\n",
       "    <tr>\n",
       "      <th>2012-04-01</th>\n",
       "      <td>10078.0</td>\n",
       "    </tr>\n",
       "    <tr>\n",
       "      <th>2012-05-01</th>\n",
       "      <td>10491.0</td>\n",
       "    </tr>\n",
       "    <tr>\n",
       "      <th>2012-06-01</th>\n",
       "      <td>11283.0</td>\n",
       "    </tr>\n",
       "    <tr>\n",
       "      <th>2012-07-01</th>\n",
       "      <td>11105.0</td>\n",
       "    </tr>\n",
       "    <tr>\n",
       "      <th>2012-08-01</th>\n",
       "      <td>10751.0</td>\n",
       "    </tr>\n",
       "    <tr>\n",
       "      <th>...</th>\n",
       "      <td>...</td>\n",
       "    </tr>\n",
       "    <tr>\n",
       "      <th>2022-01-01</th>\n",
       "      <td>15290.0</td>\n",
       "    </tr>\n",
       "    <tr>\n",
       "      <th>2022-02-01</th>\n",
       "      <td>16262.0</td>\n",
       "    </tr>\n",
       "    <tr>\n",
       "      <th>2022-03-01</th>\n",
       "      <td>17196.0</td>\n",
       "    </tr>\n",
       "    <tr>\n",
       "      <th>2022-04-01</th>\n",
       "      <td>17563.0</td>\n",
       "    </tr>\n",
       "    <tr>\n",
       "      <th>2022-05-01</th>\n",
       "      <td>16906.0</td>\n",
       "    </tr>\n",
       "  </tbody>\n",
       "</table>\n",
       "<p>122 rows × 1 columns</p>\n",
       "</div>"
      ],
      "text/plain": [
       "            Peak_Demand_Met5(MW)\n",
       "date                            \n",
       "2012-04-01               10078.0\n",
       "2012-05-01               10491.0\n",
       "2012-06-01               11283.0\n",
       "2012-07-01               11105.0\n",
       "2012-08-01               10751.0\n",
       "...                          ...\n",
       "2022-01-01               15290.0\n",
       "2022-02-01               16262.0\n",
       "2022-03-01               17196.0\n",
       "2022-04-01               17563.0\n",
       "2022-05-01               16906.0\n",
       "\n",
       "[122 rows x 1 columns]"
      ]
     },
     "execution_count": 25,
     "metadata": {},
     "output_type": "execute_result"
    }
   ],
   "source": [
    "df_temp1.sort_index()"
   ]
  },
  {
   "cell_type": "code",
   "execution_count": 26,
   "id": "f97d5491",
   "metadata": {},
   "outputs": [
    {
     "data": {
      "text/html": [
       "<div>\n",
       "<style scoped>\n",
       "    .dataframe tbody tr th:only-of-type {\n",
       "        vertical-align: middle;\n",
       "    }\n",
       "\n",
       "    .dataframe tbody tr th {\n",
       "        vertical-align: top;\n",
       "    }\n",
       "\n",
       "    .dataframe thead th {\n",
       "        text-align: right;\n",
       "    }\n",
       "</style>\n",
       "<table border=\"1\" class=\"dataframe\">\n",
       "  <thead>\n",
       "    <tr style=\"text-align: right;\">\n",
       "      <th></th>\n",
       "      <th>Peak_Demand_Met5(MW)</th>\n",
       "    </tr>\n",
       "    <tr>\n",
       "      <th>date</th>\n",
       "      <th></th>\n",
       "    </tr>\n",
       "  </thead>\n",
       "  <tbody>\n",
       "    <tr>\n",
       "      <th>2012-04-01</th>\n",
       "      <td>10078.0</td>\n",
       "    </tr>\n",
       "    <tr>\n",
       "      <th>2012-05-01</th>\n",
       "      <td>10491.0</td>\n",
       "    </tr>\n",
       "    <tr>\n",
       "      <th>2012-06-01</th>\n",
       "      <td>11283.0</td>\n",
       "    </tr>\n",
       "    <tr>\n",
       "      <th>2012-07-01</th>\n",
       "      <td>11105.0</td>\n",
       "    </tr>\n",
       "    <tr>\n",
       "      <th>2012-08-01</th>\n",
       "      <td>10751.0</td>\n",
       "    </tr>\n",
       "    <tr>\n",
       "      <th>...</th>\n",
       "      <td>...</td>\n",
       "    </tr>\n",
       "    <tr>\n",
       "      <th>2022-01-01</th>\n",
       "      <td>15290.0</td>\n",
       "    </tr>\n",
       "    <tr>\n",
       "      <th>2022-02-01</th>\n",
       "      <td>16262.0</td>\n",
       "    </tr>\n",
       "    <tr>\n",
       "      <th>2022-03-01</th>\n",
       "      <td>17196.0</td>\n",
       "    </tr>\n",
       "    <tr>\n",
       "      <th>2022-04-01</th>\n",
       "      <td>17563.0</td>\n",
       "    </tr>\n",
       "    <tr>\n",
       "      <th>2022-05-01</th>\n",
       "      <td>16906.0</td>\n",
       "    </tr>\n",
       "  </tbody>\n",
       "</table>\n",
       "<p>122 rows × 1 columns</p>\n",
       "</div>"
      ],
      "text/plain": [
       "            Peak_Demand_Met5(MW)\n",
       "date                            \n",
       "2012-04-01               10078.0\n",
       "2012-05-01               10491.0\n",
       "2012-06-01               11283.0\n",
       "2012-07-01               11105.0\n",
       "2012-08-01               10751.0\n",
       "...                          ...\n",
       "2022-01-01               15290.0\n",
       "2022-02-01               16262.0\n",
       "2022-03-01               17196.0\n",
       "2022-04-01               17563.0\n",
       "2022-05-01               16906.0\n",
       "\n",
       "[122 rows x 1 columns]"
      ]
     },
     "execution_count": 26,
     "metadata": {},
     "output_type": "execute_result"
    }
   ],
   "source": [
    "df = df_temp1\n",
    "#df_ts['t'] = [x for x in range(10)]\n",
    "df"
   ]
  },
  {
   "cell_type": "markdown",
   "id": "5f5639f4",
   "metadata": {},
   "source": [
    "### Plot Peak_Demand_Met5\n"
   ]
  },
  {
   "cell_type": "code",
   "execution_count": 27,
   "id": "4b731e7a",
   "metadata": {},
   "outputs": [
    {
     "data": {
      "image/png": "[encoded data removed]",
      "text/plain": [
       "<Figure size 432x288 with 1 Axes>"
      ]
     },
     "metadata": {
      "needs_background": "light"
     },
     "output_type": "display_data"
    }
   ],
   "source": [
    "\n",
    "plt.plot(df[\"Peak_Demand_Met5(MW)\"], marker='o')\n",
    "\n",
    "# Labelling \n",
    "\n",
    "plt.xlabel(\"Date\")\n",
    "plt.ylabel(\"Peak Demand Met5 (MW)\")\n",
    "plt.title(\"Time Series Plot for Peak_Demand_Met5(MW)\")\n",
    "\n",
    "# Display\n",
    "\n",
    "plt.show()"
   ]
  },
  {
   "cell_type": "markdown",
   "id": "3c713728",
   "metadata": {},
   "source": [
    "The graph shows that the demand has not been stationary. Inorder to model this data, we will have to first make this series as a stationary series. Then only, we would be in a postion to forecast next month's/future demand.\n",
    "\n",
    "Different types of Stationary Time Series\n",
    "\n",
    "a) Stationary Process: A process that generates a stationary series of observations.\n",
    "\n",
    "\n",
    "b) Stationary Model: A model that describes a stationary series of observations.\n",
    "\n",
    "\n",
    "c) Trend Stationary: A time series that does not exhibit a trend.\n",
    "\n",
    "\n",
    "d) Seasonal Stationary: A time series that does not exhibit seasonality.\n",
    "\n",
    "\n",
    "e) Strictly Stationary: A mathematical definition of a stationary process, specifically that the joint f) distribution of observations is invariant to time shift."
   ]
  },
  {
   "cell_type": "code",
   "execution_count": null,
   "id": "850d57f3",
   "metadata": {},
   "outputs": [],
   "source": []
  },
  {
   "cell_type": "code",
   "execution_count": 28,
   "id": "305262b4",
   "metadata": {},
   "outputs": [
    {
     "name": "stderr",
     "output_type": "stream",
     "text": [
      "/tmp/ipykernel_32274/51868633.py:2: SettingWithCopyWarning: \n",
      "A value is trying to be set on a copy of a slice from a DataFrame.\n",
      "Try using .loc[row_indexer,col_indexer] = value instead\n",
      "\n",
      "See the caveats in the documentation: https://pandas.pydata.org/pandas-docs/stable/user_guide/indexing.html#returning-a-view-versus-a-copy\n",
      "  df['Peak_Demand_Met5_MW_diff1'] = df['Peak_Demand_Met5(MW)'].diff(periods=1)\n"
     ]
    }
   ],
   "source": [
    "# First-order difference\n",
    "df['Peak_Demand_Met5_MW_diff1'] = df['Peak_Demand_Met5(MW)'].diff(periods=1)\n",
    "df = df.dropna()"
   ]
  },
  {
   "cell_type": "code",
   "execution_count": 29,
   "id": "70967975",
   "metadata": {},
   "outputs": [
    {
     "data": {
      "image/png": "[encoded data removed]",
      "text/plain": [
       "<Figure size 432x288 with 1 Axes>"
      ]
     },
     "metadata": {
      "needs_background": "light"
     },
     "output_type": "display_data"
    }
   ],
   "source": [
    "\n",
    "plt.plot(df[\"Peak_Demand_Met5(MW)\"], marker='o',  label='PDM_MW')\n",
    "plt.plot(df[\"Peak_Demand_Met5_MW_diff1\"], marker='+', label='PDM_MW_diff1')\n",
    "\n",
    "# Labelling \n",
    "\n",
    "plt.xlabel(\"Date\")\n",
    "plt.ylabel(\"Peak Demand Met5 (MW)\")\n",
    "plt.title(\"Time Series Plot for Peak_Demand_Met5(MW)\")\n",
    "plt.legend();\n",
    "\n",
    "# Display\n",
    "\n",
    "plt.show()"
   ]
  },
  {
   "cell_type": "code",
   "execution_count": 30,
   "id": "fd6cb062",
   "metadata": {},
   "outputs": [
    {
     "name": "stdout",
     "output_type": "stream",
     "text": [
      "P-value:  0.16621387265879567\n"
     ]
    }
   ],
   "source": [
    "#\n",
    "# Check for stationarity of the time-series data\n",
    "# We will look for p-value. In case, p-value is less than 0.05, the time series\n",
    "# data can said to have stationarity\n",
    "#\n",
    "from statsmodels.tsa.stattools import adfuller\n",
    "#\n",
    "# Run the test\n",
    "#\n",
    "df_stationarityTest = adfuller(df['Peak_Demand_Met5(MW)'], autolag='AIC')\n",
    "#\n",
    "# Check the value of p-value\n",
    "#\n",
    "print(\"P-value: \", df_stationarityTest[1])\n",
    "#\n",
    "# Next step is to find the order of AR model to be trained\n",
    "# for this, we will plot partial autocorrelation plot to assess\n",
    "# the direct effect of past data on future data\n",
    "#\n",
    "# from statsmodels.graphics.tsaplots import plot_pacf\n",
    "# pacf = plot_pacf(df['Consumption'], lags=25)\n"
   ]
  },
  {
   "cell_type": "code",
   "execution_count": 31,
   "id": "4815ef80",
   "metadata": {},
   "outputs": [
    {
     "name": "stdout",
     "output_type": "stream",
     "text": [
      "[ 1.   -0.26 -0.1  -0.   -0.08 -0.01  0.04 -0.1  -0.12  0.05  0.17 -0.07\n",
      " -0.    0.14 -0.08  0.09 -0.13 -0.09  0.04  0.1  -0.09]\n",
      "[ 1.   -0.26 -0.18 -0.09 -0.14 -0.1  -0.03 -0.15 -0.27 -0.17  0.06 -0.08\n",
      " -0.09  0.13  0.02  0.11 -0.13 -0.12 -0.02  0.09 -0.09]\n"
     ]
    }
   ],
   "source": [
    "\n",
    "# Calculate autocorrelation\n",
    "acf_values = acf(df['Peak_Demand_Met5_MW_diff1'])\n",
    "print(np.round(acf_values,2))\n",
    "\n",
    "pacf_values = pacf(df['Peak_Demand_Met5_MW_diff1'])\n",
    "print(np.round(pacf_values,2))\n"
   ]
  },
  {
   "cell_type": "code",
   "execution_count": 32,
   "id": "89ed53f8",
   "metadata": {},
   "outputs": [
    {
     "data": {
      "text/plain": [
       "pandas.core.series.Series"
      ]
     },
     "execution_count": 32,
     "metadata": {},
     "output_type": "execute_result"
    }
   ],
   "source": [
    "type(pd.Series(pacf_values))"
   ]
  },
  {
   "cell_type": "code",
   "execution_count": 33,
   "id": "de35aa29",
   "metadata": {},
   "outputs": [
    {
     "data": {
      "text/plain": [
       "<AxesSubplot:>"
      ]
     },
     "execution_count": 33,
     "metadata": {},
     "output_type": "execute_result"
    },
    {
     "data": {
      "image/png": "[encoded data removed]",
      "text/plain": [
       "<Figure size 432x288 with 1 Axes>"
      ]
     },
     "metadata": {
      "needs_background": "light"
     },
     "output_type": "display_data"
    }
   ],
   "source": [
    "pd.Series(pacf_values).plot()\n",
    "pd.Series(acf_values).plot()\n"
   ]
  },
  {
   "cell_type": "code",
   "execution_count": null,
   "id": "d33b0901",
   "metadata": {},
   "outputs": [],
   "source": [
    "\n"
   ]
  },
  {
   "cell_type": "markdown",
   "id": "84051331",
   "metadata": {},
   "source": [
    "Ref:  https://towardsdatascience.com/time-series-from-scratch-autocorrelation-and-partial-autocorrelation-explained-1dd641e3076f\n",
    "        \n",
    "        \n",
    "        \n",
    "How to interpret ACF and PACF plots\n",
    "Time series models you’ll soon learn about, such as Auto Regression (AR), Moving Averages (MA), or their combinations (ARMA), require you to specify one or more parameters. These can be obtained by looking at ACF and PACF plots.\n",
    "\n",
    "In a nutshell:\n",
    "\n",
    "If the ACF plot declines gradually and the PACF drops instantly, use Auto Regressive model.\n",
    "\n",
    "If the ACF plot drops instantly and the PACF declines gradually, use Moving Average model.\n",
    "\n",
    "If both ACF and PACF decline gradually, combine Auto Regressive and Moving Average models (ARMA).\n",
    "\n",
    "If both ACF and PACF drop instantly (no significant lags), it’s likely you won’t be able to model the time series."
   ]
  },
  {
   "cell_type": "code",
   "execution_count": 34,
   "id": "69a3eefb",
   "metadata": {},
   "outputs": [],
   "source": [
    "# Plot autocorrelation\n",
    "# plot_acf(df['Peak_Demand_Met5_MW_diff1'], lags=30);"
   ]
  },
  {
   "cell_type": "code",
   "execution_count": 35,
   "id": "e362bb48",
   "metadata": {},
   "outputs": [],
   "source": [
    "from statsmodels.tsa.ar_model import AutoReg\n"
   ]
  },
  {
   "cell_type": "code",
   "execution_count": 36,
   "id": "b5762da4",
   "metadata": {},
   "outputs": [
    {
     "data": {
      "text/plain": [
       "85"
      ]
     },
     "execution_count": 36,
     "metadata": {},
     "output_type": "execute_result"
    }
   ],
   "source": [
    "# find the index which allows us to split off 30% of the data\n",
    "cutoff = round(df.shape[0]*0.7)\n",
    "cutoff"
   ]
  },
  {
   "cell_type": "markdown",
   "id": "80c698de",
   "metadata": {},
   "source": [
    "## AR(1)"
   ]
  },
  {
   "cell_type": "code",
   "execution_count": 37,
   "id": "9e6d5f2b",
   "metadata": {},
   "outputs": [
    {
     "name": "stdout",
     "output_type": "stream",
     "text": [
      "                             AutoReg Model Results                              \n",
      "================================================================================\n",
      "Dep. Variable:     Peak_Demand_Met5(MW)   No. Observations:                   85\n",
      "Model:                       AutoReg(1)   Log Likelihood                -657.749\n",
      "Method:                 Conditional MLE   S.D. of innovations            608.752\n",
      "Date:                  Tue, 02 Aug 2022   AIC                           1321.499\n",
      "Time:                          11:24:34   BIC                           1328.791\n",
      "Sample:                      06-01-2012   HQIC                          1324.430\n",
      "                           - 05-01-2019                                         \n",
      "===========================================================================================\n",
      "                              coef    std err          z      P>|z|      [0.025      0.975]\n",
      "-------------------------------------------------------------------------------------------\n",
      "const                    1046.5419    539.009      1.942      0.052      -9.897    2102.981\n",
      "Peak_Demand_Met5(MW).L1     0.9264      0.040     23.080      0.000       0.848       1.005\n",
      "                                    Roots                                    \n",
      "=============================================================================\n",
      "                  Real          Imaginary           Modulus         Frequency\n",
      "-----------------------------------------------------------------------------\n",
      "AR.1            1.0795           +0.0000j            1.0795            0.0000\n",
      "-----------------------------------------------------------------------------\n"
     ]
    },
    {
     "name": "stderr",
     "output_type": "stream",
     "text": [
      "/home/abhay.bhadani/Omdena/venvpy39/lib/python3.9/site-packages/statsmodels/tsa/base/tsa_model.py:471: ValueWarning: No frequency information was provided, so inferred frequency MS will be used.\n",
      "  self._init_dates(dates, freq)\n"
     ]
    }
   ],
   "source": [
    "#\n",
    "# Create training and test data\n",
    "#\n",
    "train_data = df['Peak_Demand_Met5(MW)'][:cutoff]\n",
    "test_data = df['Peak_Demand_Met5(MW)'][cutoff:]\n",
    "#\n",
    "# Instantiate and fit the AR model with training data\n",
    "#\n",
    "ar_model = AutoReg(train_data, lags=1).fit()\n",
    "\n",
    "df['Peak_Demand_Met5(MW)'].to_csv('train_data_peak_demand.csv')\n",
    "\n",
    "#\n",
    "# Print Summary\n",
    "#\n",
    "print(ar_model.summary())\n",
    "\n",
    "import pickle\n",
    "\n",
    "# save the model to disk\n",
    "filename = 'auto_regressive_1_model.sav'\n",
    "pickle.dump(ar_model, open(filename, 'wb'))\n"
   ]
  },
  {
   "cell_type": "code",
   "execution_count": null,
   "id": "9eb3a3cf",
   "metadata": {},
   "outputs": [],
   "source": []
  },
  {
   "cell_type": "code",
   "execution_count": 38,
   "id": "c42d6df7",
   "metadata": {},
   "outputs": [
    {
     "data": {
      "text/plain": [
       "<AxesSubplot:xlabel='date'>"
      ]
     },
     "execution_count": 38,
     "metadata": {},
     "output_type": "execute_result"
    },
    {
     "data": {
      "image/png": "[encoded data removed]",
      "text/plain": [
       "<Figure size 432x288 with 1 Axes>"
      ]
     },
     "metadata": {
      "needs_background": "light"
     },
     "output_type": "display_data"
    }
   ],
   "source": [
    "df['Peak_Demand_Met5(MW)'].plot()"
   ]
  },
  {
   "cell_type": "code",
   "execution_count": 39,
   "id": "daa4eb30",
   "metadata": {},
   "outputs": [
    {
     "name": "stderr",
     "output_type": "stream",
     "text": [
      "/home/abhay.bhadani/Omdena/venvpy39/lib/python3.9/site-packages/statsmodels/tsa/deterministic.py:302: UserWarning: Only PeriodIndexes, DatetimeIndexes with a frequency set, RangesIndexes, and Index with a unit increment support extending. The index is set will contain the position relative to the data length.\n",
      "  fcast_index = self._extend_index(index, steps, forecast_index)\n"
     ]
    },
    {
     "data": {
      "text/plain": [
       "<matplotlib.legend.Legend at 0x7ff24d10d370>"
      ]
     },
     "execution_count": 39,
     "metadata": {},
     "output_type": "execute_result"
    },
    {
     "data": {
      "image/png": "[encoded data removed]",
      "text/plain": [
       "<Figure size 432x288 with 1 Axes>"
      ]
     },
     "metadata": {
      "needs_background": "light"
     },
     "output_type": "display_data"
    }
   ],
   "source": [
    "#\n",
    "# Make the predictions\n",
    "#\n",
    "pred = ar_model.predict(start=len(train_data), end=(len(df)-1), dynamic=False)\n",
    "\n",
    "\n",
    "# pred = ar_model.predict(10, 12, dynamic=False)\n",
    "\n",
    "# print(pred)\n",
    "#\n",
    "# Plot the prediction vs test data\n",
    "#\n",
    "from matplotlib import pyplot\n",
    "pyplot.plot(train_data, color='green')\n",
    "pyplot.plot(pred, color='blue')\n",
    "pyplot.plot(test_data, color='red')\n",
    "plt.legend([\"train data\", \"predicted data\",\"actual test data\"], loc =\"lower right\")\n"
   ]
  },
  {
   "cell_type": "markdown",
   "id": "a59f39f6",
   "metadata": {},
   "source": [
    "The more lags you use, the lower the correlation will be. The easiest way to make time series stationary is by calculating the first-order difference. \n"
   ]
  },
  {
   "cell_type": "code",
   "execution_count": 40,
   "id": "1c3cae34",
   "metadata": {},
   "outputs": [
    {
     "name": "stdout",
     "output_type": "stream",
     "text": [
      "2072491.5106165214 1439.6150564010231 [1439.6150564010231]\n"
     ]
    }
   ],
   "source": [
    "\n",
    "scores=list()\n",
    "mse = mean_squared_error(test_data, pred)\n",
    "# calculate rmse\n",
    "rmse = sqrt(mse)\n",
    "# store\n",
    "scores.append(rmse)\n",
    "print(mse, rmse, scores)\n",
    "\n"
   ]
  },
  {
   "cell_type": "markdown",
   "id": "3da4c5ef",
   "metadata": {},
   "source": [
    "## AR(2)"
   ]
  },
  {
   "cell_type": "code",
   "execution_count": 41,
   "id": "97cf5f4a",
   "metadata": {},
   "outputs": [
    {
     "name": "stdout",
     "output_type": "stream",
     "text": [
      "                             AutoReg Model Results                              \n",
      "================================================================================\n",
      "Dep. Variable:     Peak_Demand_Met5(MW)   No. Observations:                   85\n",
      "Model:                       AutoReg(2)   Log Likelihood                -646.683\n",
      "Method:                 Conditional MLE   S.D. of innovations            585.473\n",
      "Date:                  Tue, 02 Aug 2022   AIC                           1301.365\n",
      "Time:                          11:24:35   BIC                           1311.041\n",
      "Sample:                      07-01-2012   HQIC                          1305.252\n",
      "                           - 05-01-2019                                         \n",
      "===========================================================================================\n",
      "                              coef    std err          z      P>|z|      [0.025      0.975]\n",
      "-------------------------------------------------------------------------------------------\n",
      "const                     689.8959    538.178      1.282      0.200    -364.913    1744.705\n",
      "Peak_Demand_Met5(MW).L1     0.6754      0.105      6.428      0.000       0.469       0.881\n",
      "Peak_Demand_Met5(MW).L2     0.2787      0.105      2.644      0.008       0.072       0.485\n",
      "                                    Roots                                    \n",
      "=============================================================================\n",
      "                  Real          Imaginary           Modulus         Frequency\n",
      "-----------------------------------------------------------------------------\n",
      "AR.1            1.0370           +0.0000j            1.0370            0.0000\n",
      "AR.2           -3.4608           +0.0000j            3.4608            0.5000\n",
      "-----------------------------------------------------------------------------\n",
      "MSE: 1877166.4835141625    RMSE: 1370.0972533050938   SCORES: [1370.0972533050938] \n"
     ]
    },
    {
     "name": "stderr",
     "output_type": "stream",
     "text": [
      "/home/abhay.bhadani/Omdena/venvpy39/lib/python3.9/site-packages/statsmodels/tsa/base/tsa_model.py:471: ValueWarning: No frequency information was provided, so inferred frequency MS will be used.\n",
      "  self._init_dates(dates, freq)\n",
      "/home/abhay.bhadani/Omdena/venvpy39/lib/python3.9/site-packages/statsmodels/tsa/deterministic.py:302: UserWarning: Only PeriodIndexes, DatetimeIndexes with a frequency set, RangesIndexes, and Index with a unit increment support extending. The index is set will contain the position relative to the data length.\n",
      "  fcast_index = self._extend_index(index, steps, forecast_index)\n"
     ]
    },
    {
     "data": {
      "image/png": "[encoded data removed]",
      "text/plain": [
       "<Figure size 432x288 with 1 Axes>"
      ]
     },
     "metadata": {
      "needs_background": "light"
     },
     "output_type": "display_data"
    }
   ],
   "source": [
    "ar_model2 = AutoReg(train_data, lags=2).fit()\n",
    "\n",
    "#\n",
    "# Print Summary\n",
    "#\n",
    "print(ar_model2.summary())\n",
    "\n",
    "\n",
    "# save the model to disk\n",
    "filename = 'auto_regressive_2_model.sav'\n",
    "pickle.dump(ar_model2, open(filename, 'wb'))\n",
    "\n",
    "#\n",
    "# Make the predictions\n",
    "#\n",
    "pred = ar_model2.predict(start=len(train_data), end=(len(df)-1), dynamic=False)\n",
    "\n",
    "pyplot.plot(train_data, color='green')\n",
    "pyplot.plot(pred, color='blue')\n",
    "pyplot.plot(test_data, color='red')\n",
    "plt.legend([\"train data\", \"predicted data\",\"actual test data\"], loc =\"lower right\")\n",
    "\n",
    "\n",
    "scores=list()\n",
    "mse = mean_squared_error(test_data, pred)\n",
    "# calculate rmse\n",
    "rmse = sqrt(mse)\n",
    "# store\n",
    "scores.append(rmse)\n",
    "print(\"MSE: {}    RMSE: {}   SCORES: {} \".format(str(mse), str(rmse), str(scores)))\n",
    "\n"
   ]
  },
  {
   "cell_type": "markdown",
   "id": "f1992538",
   "metadata": {},
   "source": [
    "## AR(3)"
   ]
  },
  {
   "cell_type": "code",
   "execution_count": 42,
   "id": "3ca2bc8d",
   "metadata": {},
   "outputs": [],
   "source": [
    "\n",
    "# actual_data\n"
   ]
  },
  {
   "cell_type": "code",
   "execution_count": 43,
   "id": "5a748463",
   "metadata": {},
   "outputs": [
    {
     "name": "stderr",
     "output_type": "stream",
     "text": [
      "/home/abhay.bhadani/Omdena/venvpy39/lib/python3.9/site-packages/statsmodels/tsa/base/tsa_model.py:471: ValueWarning: No frequency information was provided, so inferred frequency MS will be used.\n",
      "  self._init_dates(dates, freq)\n",
      "/home/abhay.bhadani/Omdena/venvpy39/lib/python3.9/site-packages/statsmodels/tsa/deterministic.py:302: UserWarning: Only PeriodIndexes, DatetimeIndexes with a frequency set, RangesIndexes, and Index with a unit increment support extending. The index is set will contain the position relative to the data length.\n",
      "  fcast_index = self._extend_index(index, steps, forecast_index)\n",
      "/home/abhay.bhadani/Omdena/venvpy39/lib/python3.9/site-packages/statsmodels/tsa/base/tsa_model.py:471: ValueWarning: No frequency information was provided, so inferred frequency MS will be used.\n",
      "  self._init_dates(dates, freq)\n",
      "/home/abhay.bhadani/Omdena/venvpy39/lib/python3.9/site-packages/statsmodels/tsa/deterministic.py:302: UserWarning: Only PeriodIndexes, DatetimeIndexes with a frequency set, RangesIndexes, and Index with a unit increment support extending. The index is set will contain the position relative to the data length.\n",
      "  fcast_index = self._extend_index(index, steps, forecast_index)\n",
      "/home/abhay.bhadani/Omdena/venvpy39/lib/python3.9/site-packages/statsmodels/tsa/base/tsa_model.py:471: ValueWarning: No frequency information was provided, so inferred frequency MS will be used.\n",
      "  self._init_dates(dates, freq)\n",
      "/home/abhay.bhadani/Omdena/venvpy39/lib/python3.9/site-packages/statsmodels/tsa/deterministic.py:302: UserWarning: Only PeriodIndexes, DatetimeIndexes with a frequency set, RangesIndexes, and Index with a unit increment support extending. The index is set will contain the position relative to the data length.\n",
      "  fcast_index = self._extend_index(index, steps, forecast_index)\n",
      "/home/abhay.bhadani/Omdena/venvpy39/lib/python3.9/site-packages/statsmodels/tsa/base/tsa_model.py:471: ValueWarning: No frequency information was provided, so inferred frequency MS will be used.\n",
      "  self._init_dates(dates, freq)\n",
      "/home/abhay.bhadani/Omdena/venvpy39/lib/python3.9/site-packages/statsmodels/tsa/deterministic.py:302: UserWarning: Only PeriodIndexes, DatetimeIndexes with a frequency set, RangesIndexes, and Index with a unit increment support extending. The index is set will contain the position relative to the data length.\n",
      "  fcast_index = self._extend_index(index, steps, forecast_index)\n",
      "/home/abhay.bhadani/Omdena/venvpy39/lib/python3.9/site-packages/statsmodels/tsa/base/tsa_model.py:471: ValueWarning: No frequency information was provided, so inferred frequency MS will be used.\n",
      "  self._init_dates(dates, freq)\n",
      "/home/abhay.bhadani/Omdena/venvpy39/lib/python3.9/site-packages/statsmodels/tsa/deterministic.py:302: UserWarning: Only PeriodIndexes, DatetimeIndexes with a frequency set, RangesIndexes, and Index with a unit increment support extending. The index is set will contain the position relative to the data length.\n",
      "  fcast_index = self._extend_index(index, steps, forecast_index)\n",
      "/home/abhay.bhadani/Omdena/venvpy39/lib/python3.9/site-packages/statsmodels/tsa/base/tsa_model.py:471: ValueWarning: No frequency information was provided, so inferred frequency MS will be used.\n",
      "  self._init_dates(dates, freq)\n",
      "/home/abhay.bhadani/Omdena/venvpy39/lib/python3.9/site-packages/statsmodels/tsa/deterministic.py:302: UserWarning: Only PeriodIndexes, DatetimeIndexes with a frequency set, RangesIndexes, and Index with a unit increment support extending. The index is set will contain the position relative to the data length.\n",
      "  fcast_index = self._extend_index(index, steps, forecast_index)\n",
      "/home/abhay.bhadani/Omdena/venvpy39/lib/python3.9/site-packages/statsmodels/tsa/base/tsa_model.py:471: ValueWarning: No frequency information was provided, so inferred frequency MS will be used.\n",
      "  self._init_dates(dates, freq)\n",
      "/home/abhay.bhadani/Omdena/venvpy39/lib/python3.9/site-packages/statsmodels/tsa/deterministic.py:302: UserWarning: Only PeriodIndexes, DatetimeIndexes with a frequency set, RangesIndexes, and Index with a unit increment support extending. The index is set will contain the position relative to the data length.\n",
      "  fcast_index = self._extend_index(index, steps, forecast_index)\n",
      "/home/abhay.bhadani/Omdena/venvpy39/lib/python3.9/site-packages/statsmodels/tsa/base/tsa_model.py:471: ValueWarning: No frequency information was provided, so inferred frequency MS will be used.\n",
      "  self._init_dates(dates, freq)\n",
      "/home/abhay.bhadani/Omdena/venvpy39/lib/python3.9/site-packages/statsmodels/tsa/deterministic.py:302: UserWarning: Only PeriodIndexes, DatetimeIndexes with a frequency set, RangesIndexes, and Index with a unit increment support extending. The index is set will contain the position relative to the data length.\n",
      "  fcast_index = self._extend_index(index, steps, forecast_index)\n",
      "/home/abhay.bhadani/Omdena/venvpy39/lib/python3.9/site-packages/statsmodels/tsa/base/tsa_model.py:471: ValueWarning: No frequency information was provided, so inferred frequency MS will be used.\n",
      "  self._init_dates(dates, freq)\n",
      "/home/abhay.bhadani/Omdena/venvpy39/lib/python3.9/site-packages/statsmodels/tsa/deterministic.py:302: UserWarning: Only PeriodIndexes, DatetimeIndexes with a frequency set, RangesIndexes, and Index with a unit increment support extending. The index is set will contain the position relative to the data length.\n",
      "  fcast_index = self._extend_index(index, steps, forecast_index)\n",
      "/home/abhay.bhadani/Omdena/venvpy39/lib/python3.9/site-packages/statsmodels/tsa/base/tsa_model.py:471: ValueWarning: No frequency information was provided, so inferred frequency MS will be used.\n",
      "  self._init_dates(dates, freq)\n",
      "/home/abhay.bhadani/Omdena/venvpy39/lib/python3.9/site-packages/statsmodels/tsa/deterministic.py:302: UserWarning: Only PeriodIndexes, DatetimeIndexes with a frequency set, RangesIndexes, and Index with a unit increment support extending. The index is set will contain the position relative to the data length.\n",
      "  fcast_index = self._extend_index(index, steps, forecast_index)\n",
      "/home/abhay.bhadani/Omdena/venvpy39/lib/python3.9/site-packages/statsmodels/tsa/base/tsa_model.py:471: ValueWarning: No frequency information was provided, so inferred frequency MS will be used.\n",
      "  self._init_dates(dates, freq)\n",
      "/home/abhay.bhadani/Omdena/venvpy39/lib/python3.9/site-packages/statsmodels/tsa/deterministic.py:302: UserWarning: Only PeriodIndexes, DatetimeIndexes with a frequency set, RangesIndexes, and Index with a unit increment support extending. The index is set will contain the position relative to the data length.\n",
      "  fcast_index = self._extend_index(index, steps, forecast_index)\n",
      "/home/abhay.bhadani/Omdena/venvpy39/lib/python3.9/site-packages/statsmodels/tsa/base/tsa_model.py:471: ValueWarning: No frequency information was provided, so inferred frequency MS will be used.\n",
      "  self._init_dates(dates, freq)\n",
      "/home/abhay.bhadani/Omdena/venvpy39/lib/python3.9/site-packages/statsmodels/tsa/deterministic.py:302: UserWarning: Only PeriodIndexes, DatetimeIndexes with a frequency set, RangesIndexes, and Index with a unit increment support extending. The index is set will contain the position relative to the data length.\n",
      "  fcast_index = self._extend_index(index, steps, forecast_index)\n"
     ]
    },
    {
     "name": "stdout",
     "output_type": "stream",
     "text": [
      "[205.20536628719867, 645.526822917287, 802.8309966785072, 928.1235469187044, 983.651027446919, 1036.7069592227683, 1061.6567100436027, 1039.3322512467323, 940.1882543441814, 899.984628755695, 958.0688135357506, 982.3469130688355]\n"
     ]
    },
    {
     "data": {
      "text/html": [
       "<div>\n",
       "<style scoped>\n",
       "    .dataframe tbody tr th:only-of-type {\n",
       "        vertical-align: middle;\n",
       "    }\n",
       "\n",
       "    .dataframe tbody tr th {\n",
       "        vertical-align: top;\n",
       "    }\n",
       "\n",
       "    .dataframe thead th {\n",
       "        text-align: right;\n",
       "    }\n",
       "</style>\n",
       "<table border=\"1\" class=\"dataframe\">\n",
       "  <thead>\n",
       "    <tr style=\"text-align: right;\">\n",
       "      <th></th>\n",
       "      <th>lag</th>\n",
       "      <th>ar_rmse_scores</th>\n",
       "    </tr>\n",
       "    <tr>\n",
       "      <th>lag</th>\n",
       "      <th></th>\n",
       "      <th></th>\n",
       "    </tr>\n",
       "  </thead>\n",
       "  <tbody>\n",
       "    <tr>\n",
       "      <th>1</th>\n",
       "      <td>1</td>\n",
       "      <td>205.205366</td>\n",
       "    </tr>\n",
       "    <tr>\n",
       "      <th>2</th>\n",
       "      <td>2</td>\n",
       "      <td>645.526823</td>\n",
       "    </tr>\n",
       "    <tr>\n",
       "      <th>3</th>\n",
       "      <td>3</td>\n",
       "      <td>802.830997</td>\n",
       "    </tr>\n",
       "    <tr>\n",
       "      <th>4</th>\n",
       "      <td>4</td>\n",
       "      <td>928.123547</td>\n",
       "    </tr>\n",
       "    <tr>\n",
       "      <th>5</th>\n",
       "      <td>5</td>\n",
       "      <td>983.651027</td>\n",
       "    </tr>\n",
       "    <tr>\n",
       "      <th>6</th>\n",
       "      <td>6</td>\n",
       "      <td>1036.706959</td>\n",
       "    </tr>\n",
       "    <tr>\n",
       "      <th>7</th>\n",
       "      <td>7</td>\n",
       "      <td>1061.656710</td>\n",
       "    </tr>\n",
       "    <tr>\n",
       "      <th>8</th>\n",
       "      <td>8</td>\n",
       "      <td>1039.332251</td>\n",
       "    </tr>\n",
       "    <tr>\n",
       "      <th>9</th>\n",
       "      <td>9</td>\n",
       "      <td>940.188254</td>\n",
       "    </tr>\n",
       "    <tr>\n",
       "      <th>10</th>\n",
       "      <td>10</td>\n",
       "      <td>899.984629</td>\n",
       "    </tr>\n",
       "    <tr>\n",
       "      <th>11</th>\n",
       "      <td>11</td>\n",
       "      <td>958.068814</td>\n",
       "    </tr>\n",
       "    <tr>\n",
       "      <th>12</th>\n",
       "      <td>12</td>\n",
       "      <td>982.346913</td>\n",
       "    </tr>\n",
       "  </tbody>\n",
       "</table>\n",
       "</div>"
      ],
      "text/plain": [
       "     lag  ar_rmse_scores\n",
       "lag                     \n",
       "1      1      205.205366\n",
       "2      2      645.526823\n",
       "3      3      802.830997\n",
       "4      4      928.123547\n",
       "5      5      983.651027\n",
       "6      6     1036.706959\n",
       "7      7     1061.656710\n",
       "8      8     1039.332251\n",
       "9      9      940.188254\n",
       "10    10      899.984629\n",
       "11    11      958.068814\n",
       "12    12      982.346913"
      ]
     },
     "execution_count": 43,
     "metadata": {},
     "output_type": "execute_result"
    },
    {
     "data": {
      "image/png": "[encoded data removed]",
      "text/plain": [
       "<Figure size 432x288 with 1 Axes>"
      ]
     },
     "metadata": {
      "needs_background": "light"
     },
     "output_type": "display_data"
    }
   ],
   "source": [
    "ar_rmse_scores=list()\n",
    "\n",
    "for lags_value in range(1,13):\n",
    "#     lags_value = 7\n",
    "\n",
    "\n",
    "    # ar_model7 = AutoReg(train_data, lags=lags_value).fit()\n",
    "    ar_model = AutoReg(df['Peak_Demand_Met5(MW)'][lags_value:], lags=lags_value).fit()\n",
    "\n",
    "    #\n",
    "    # Print Summary\n",
    "    #\n",
    "#     print(ar_model.summary())\n",
    "\n",
    "\n",
    "    # save the model to disk\n",
    "    filename = 'auto_regressive_'+str(lags_value)+'_model.sav'\n",
    "    pickle.dump(ar_model, open(filename, 'wb'))\n",
    "\n",
    "    #\n",
    "    # Make the predictions\n",
    "    #\n",
    "    # pred = ar_model7.predict(start=len(train_data), end=(len(df)-1), dynamic=False)\n",
    "    # pred = ar_model7.predict(start=lags_value+1, end=len(df), dynamic=False)\n",
    "    pred = ar_model.predict(start=lags_value, end=len(df)-1, dynamic=False)#[lags_value-1:-1]\n",
    "\n",
    "    actual_data = df['Peak_Demand_Met5(MW)'][lags_value:]\n",
    "#     print(len(actual_data))\n",
    "#     print(len(pred))\n",
    "    # temp_df = pd.DataFrame(zip(actual_data[7:],pred[6:-1]), columns=['actual_data','pred'])\n",
    "    # print(temp_df.head())\n",
    "\n",
    "    pyplot.plot(actual_data, color='green')\n",
    "    pyplot.plot(pred, color='blue')\n",
    "    # pyplot.plot(test_data, color='red')\n",
    "    # plt.legend([\"Actual data\", \"predicted data\",\"actual test data\"], loc =\"lower right\")\n",
    "    plt.legend([\"Actual data\", \"predicted data\"], loc =\"lower right\")\n",
    "\n",
    "\n",
    "    scores=list()\n",
    "    # mse = mean_squared_error(test_data, pred)\n",
    "    mse = mean_squared_error(actual_data, pred)\n",
    "    # calculate rmse\n",
    "    rmse = sqrt(mse)\n",
    "    # store\n",
    "    ar_rmse_scores.append(rmse)\n",
    "#     print(\"MSE: {}    RMSE: {}   SCORES: {} \".format(str(mse), str(rmse), str(scores)))\n",
    "\n",
    "#     print(len(actual_data) , len(pred))\n",
    "\n",
    "print(ar_rmse_scores)\n",
    "lag = [i for i in range(1,13)]\n",
    "# AR_n_RMSE = [1439.62, 1370.098, 1359.12, 1350.44, 1331.96, 1324.12, 1287.82, 1312.48, 1323.06, 1305.37, 1295.28, 1333.13]\n",
    "ar_performance_df = pd.DataFrame(list(zip(lag, ar_rmse_scores)),columns =['lag', 'ar_rmse_scores'])\n",
    "ar_performance_df.set_index(ar_performance_df.lag, inplace=True)\n",
    "ar_performance_df"
   ]
  },
  {
   "cell_type": "code",
   "execution_count": null,
   "id": "b9fb6775",
   "metadata": {},
   "outputs": [],
   "source": []
  },
  {
   "cell_type": "code",
   "execution_count": 44,
   "id": "6923733d",
   "metadata": {},
   "outputs": [
    {
     "data": {
      "image/png": "[encoded data removed]",
      "text/plain": [
       "<Figure size 432x288 with 1 Axes>"
      ]
     },
     "metadata": {
      "needs_background": "light"
     },
     "output_type": "display_data"
    }
   ],
   "source": [
    "pyplot.axis([0, 12, 100, 1400])\n",
    "\n",
    "pyplot.xlim(0, 12)\n",
    "\n",
    "# Add title\n",
    "# ar_performance_df.index+=1\n",
    "pyplot.title(\"AR(n) RMSE Plot\")\n",
    "pyplot.plot(ar_performance_df.ar_rmse_scores, color='blue')\n",
    "pyplot.legend([\"RMSE\"], loc =\"lower right\")\n",
    "\n",
    "# Add labels\n",
    "\n",
    "pyplot.xlabel(\"Lag(n)\")\n",
    "pyplot.ylabel(\"RMSE\")\n",
    "\n",
    "# Display\n",
    "\n",
    "pyplot.show()"
   ]
  },
  {
   "cell_type": "code",
   "execution_count": 55,
   "id": "9f8a45ca",
   "metadata": {},
   "outputs": [
    {
     "name": "stdout",
     "output_type": "stream",
     "text": [
      "auto_regressive_10_model.sav  chennai_power_outage_modeling.ipynb\r\n",
      "auto_regressive_11_model.sav  chennai_power_outage_modeling-xgboost.ipynb\r\n",
      "auto_regressive_12_model.sav  finalized_ar1_model.sav\r\n",
      "auto_regressive_1_model.sav   finalized_lstm_model.sav\r\n",
      "auto_regressive_2_model.sav   LSTM Peak Demand prediction model.ipynb\r\n",
      "auto_regressive_3_model.sav   lstm_streamlit_app.ipynb\r\n",
      "auto_regressive_4_model.sav   lstm_streamlit_app.py\r\n",
      "auto_regressive_5_model.sav   peak_demand_5features.csv\r\n",
      "auto_regressive_6_model.sav   Readme.md\r\n",
      "auto_regressive_7_model.sav   Time Series Analysis_Alice Agrawal-Copy1.ipynb\r\n",
      "auto_regressive_8_model.sav   Time Series Analysis_Alice Agrawal.ipynb\r\n",
      "auto_regressive_9_model.sav   train_data_peak_demand.csv\r\n"
     ]
    }
   ],
   "source": [
    "!ls"
   ]
  },
  {
   "cell_type": "code",
   "execution_count": 45,
   "id": "9dd00f2f",
   "metadata": {},
   "outputs": [],
   "source": []
  },
  {
   "cell_type": "code",
   "execution_count": 59,
   "id": "a3bd96d3",
   "metadata": {},
   "outputs": [
    {
     "data": {
      "text/plain": [
       "[<matplotlib.lines.Line2D at 0x7ff205007fa0>]"
      ]
     },
     "execution_count": 59,
     "metadata": {},
     "output_type": "execute_result"
    },
    {
     "data": {
      "image/png": "[encoded data removed]",
      "text/plain": [
       "<Figure size 432x288 with 1 Axes>"
      ]
     },
     "metadata": {
      "needs_background": "light"
     },
     "output_type": "display_data"
    }
   ],
   "source": [
    "import pickle\n",
    "filename = 'auto_regressive_1_model.sav'\n",
    "\n",
    "# loaded_ar_model=pickle.load(open(filename, 'rb'))\n",
    "\n",
    "# load\n",
    "with open(filename, 'rb') as f:\n",
    "    loaded_ar_model = pickle.load(f)\n",
    "\n",
    "\n",
    "\n",
    "pred = loaded_ar_model.predict(1, 115)\n",
    "\n",
    "from matplotlib import pyplot\n",
    "# pyplot.plot(train_data, color='green')\n",
    "pyplot.plot(pred, color='blue')\n",
    "# pyplot.plot(test_data, color='red')\n",
    "# plt.legend([\"train data\", \"predicted data\",\"actual test data\"], loc =\"lower right\")\n"
   ]
  },
  {
   "cell_type": "code",
   "execution_count": null,
   "id": "e2e8d0fa",
   "metadata": {},
   "outputs": [],
   "source": []
  },
  {
   "cell_type": "code",
   "execution_count": null,
   "id": "225fac1e",
   "metadata": {},
   "outputs": [],
   "source": []
  },
  {
   "cell_type": "code",
   "execution_count": null,
   "id": "e4deb226",
   "metadata": {},
   "outputs": [],
   "source": []
  },
  {
   "cell_type": "code",
   "execution_count": null,
   "id": "b0314ef6",
   "metadata": {},
   "outputs": [],
   "source": []
  },
  {
   "cell_type": "code",
   "execution_count": null,
   "id": "5450e42e",
   "metadata": {},
   "outputs": [],
   "source": []
  },
  {
   "cell_type": "code",
   "execution_count": null,
   "id": "7b2cee3e",
   "metadata": {},
   "outputs": [],
   "source": []
  },
  {
   "cell_type": "code",
   "execution_count": null,
   "id": "80523090",
   "metadata": {},
   "outputs": [],
   "source": []
  },
  {
   "cell_type": "code",
   "execution_count": null,
   "id": "3e7c0e25",
   "metadata": {},
   "outputs": [],
   "source": []
  },
  {
   "cell_type": "code",
   "execution_count": null,
   "id": "915df629",
   "metadata": {},
   "outputs": [],
   "source": []
  },
  {
   "cell_type": "code",
   "execution_count": null,
   "id": "beeed604",
   "metadata": {},
   "outputs": [],
   "source": []
  },
  {
   "cell_type": "markdown",
   "id": "a0abe7f1",
   "metadata": {},
   "source": [
    "## LSTM Implementation "
   ]
  },
  {
   "cell_type": "code",
   "execution_count": 47,
   "id": "8d5200a1",
   "metadata": {},
   "outputs": [],
   "source": [
    "import pandas as pd\n",
    "from sklearn.metrics import mean_squared_error\n",
    "from math import sqrt\n",
    "\n",
    "import pickle\n",
    "from matplotlib import pyplot\n"
   ]
  },
  {
   "cell_type": "code",
   "execution_count": 48,
   "id": "2210d6f1",
   "metadata": {},
   "outputs": [
    {
     "name": "stdout",
     "output_type": "stream",
     "text": [
      "(122, 17)\n"
     ]
    }
   ],
   "source": [
    "demand_supply_monthly_df = pd.read_csv('../../data/cleaned data/demand_supply_monthly.csv')\n",
    "print(demand_supply_monthly_df.shape)\n",
    "demand_supply_monthly_df['date'] = pd.to_datetime(demand_supply_monthly_df['year'].apply(str)+'-'+demand_supply_monthly_df['month'].apply(str)+'-'+str(1), format='%Y-%m-%d')\n",
    "demand_supply_monthly_df.sort_values('date', inplace=True)\n",
    "demand_supply_monthly_df.set_index('date', inplace=True)"
   ]
  },
  {
   "cell_type": "code",
   "execution_count": 49,
   "id": "22104679",
   "metadata": {},
   "outputs": [
    {
     "data": {
      "text/html": [
       "<div>\n",
       "<style scoped>\n",
       "    .dataframe tbody tr th:only-of-type {\n",
       "        vertical-align: middle;\n",
       "    }\n",
       "\n",
       "    .dataframe tbody tr th {\n",
       "        vertical-align: top;\n",
       "    }\n",
       "\n",
       "    .dataframe thead th {\n",
       "        text-align: right;\n",
       "    }\n",
       "</style>\n",
       "<table border=\"1\" class=\"dataframe\">\n",
       "  <thead>\n",
       "    <tr style=\"text-align: right;\">\n",
       "      <th></th>\n",
       "      <th>Peak_Demand_Met5(MW)</th>\n",
       "    </tr>\n",
       "    <tr>\n",
       "      <th>date</th>\n",
       "      <th></th>\n",
       "    </tr>\n",
       "  </thead>\n",
       "  <tbody>\n",
       "    <tr>\n",
       "      <th>2012-04-01</th>\n",
       "      <td>10078.0</td>\n",
       "    </tr>\n",
       "    <tr>\n",
       "      <th>2012-05-01</th>\n",
       "      <td>10491.0</td>\n",
       "    </tr>\n",
       "    <tr>\n",
       "      <th>2012-06-01</th>\n",
       "      <td>11283.0</td>\n",
       "    </tr>\n",
       "    <tr>\n",
       "      <th>2012-07-01</th>\n",
       "      <td>11105.0</td>\n",
       "    </tr>\n",
       "    <tr>\n",
       "      <th>2012-08-01</th>\n",
       "      <td>10751.0</td>\n",
       "    </tr>\n",
       "  </tbody>\n",
       "</table>\n",
       "</div>"
      ],
      "text/plain": [
       "            Peak_Demand_Met5(MW)\n",
       "date                            \n",
       "2012-04-01               10078.0\n",
       "2012-05-01               10491.0\n",
       "2012-06-01               11283.0\n",
       "2012-07-01               11105.0\n",
       "2012-08-01               10751.0"
      ]
     },
     "execution_count": 49,
     "metadata": {},
     "output_type": "execute_result"
    }
   ],
   "source": [
    "df = demand_supply_monthly_df[['Peak_Demand_Met5(MW)']]\n",
    "df.head()"
   ]
  },
  {
   "cell_type": "code",
   "execution_count": 50,
   "id": "e8ffae67",
   "metadata": {},
   "outputs": [
    {
     "name": "stderr",
     "output_type": "stream",
     "text": [
      "2022-08-02 11:25:21.364288: W tensorflow/stream_executor/platform/default/dso_loader.cc:64] Could not load dynamic library 'libcudart.so.11.0'; dlerror: libcudart.so.11.0: cannot open shared object file: No such file or directory; LD_LIBRARY_PATH: /usr/local/mpi/lib:\n",
      "2022-08-02 11:25:21.364317: I tensorflow/stream_executor/cuda/cudart_stub.cc:29] Ignore above cudart dlerror if you do not have a GPU set up on your machine.\n"
     ]
    }
   ],
   "source": [
    "# univariate lstm example\n",
    "from numpy import array\n",
    "from keras.models import Sequential\n",
    "from keras.layers import LSTM\n",
    "from keras.layers import Dense"
   ]
  },
  {
   "cell_type": "code",
   "execution_count": null,
   "id": "c8f7804f",
   "metadata": {},
   "outputs": [],
   "source": []
  },
  {
   "cell_type": "code",
   "execution_count": null,
   "id": "410a78a0",
   "metadata": {},
   "outputs": [],
   "source": []
  },
  {
   "cell_type": "code",
   "execution_count": 62,
   "id": "18c66cce",
   "metadata": {},
   "outputs": [
    {
     "name": "stdout",
     "output_type": "stream",
     "text": [
      "n_steps: 1, n_features: 1\n",
      "(121, 1, 1) (121, 1)\n",
      "MSE: 7400190.463706237    RMSE: 2720.329109447281    \n",
      "n_steps: 2, n_features: 1\n",
      "(120, 2, 1) (120, 1)\n",
      "MSE: 753712.7513649396    RMSE: 868.1663154977505    \n",
      "n_steps: 3, n_features: 1\n",
      "(119, 3, 1) (119, 1)\n",
      "MSE: 735762.7269464121    RMSE: 857.7661260194483    \n",
      "n_steps: 4, n_features: 1\n",
      "(118, 4, 1) (118, 1)\n",
      "MSE: 920376.5384161753    RMSE: 959.362568800855    \n",
      "n_steps: 5, n_features: 1\n",
      "(117, 5, 1) (117, 1)\n",
      "MSE: 843448.594316034    RMSE: 918.3945744156125    \n",
      "n_steps: 6, n_features: 1\n",
      "(116, 6, 1) (116, 1)\n",
      "MSE: 923741.7472853229    RMSE: 961.1148460435531    \n",
      "n_steps: 7, n_features: 1\n",
      "(115, 7, 1) (115, 1)\n",
      "MSE: 870993.033755153    RMSE: 933.2700754632353    \n",
      "n_steps: 8, n_features: 1\n",
      "(114, 8, 1) (114, 1)\n",
      "MSE: 1003007.9204134201    RMSE: 1001.5028309562684    \n",
      "n_steps: 9, n_features: 1\n",
      "(113, 9, 1) (113, 1)\n",
      "MSE: 826824.7885729052    RMSE: 909.2990644297976    \n",
      "n_steps: 10, n_features: 1\n",
      "(112, 10, 1) (112, 1)\n",
      "MSE: 746699.3130879075    RMSE: 864.1176500268396    \n",
      "n_steps: 11, n_features: 1\n",
      "(111, 11, 1) (111, 1)\n",
      "MSE: 1214341.5725744262    RMSE: 1101.9716750327234    \n",
      "n_steps: 12, n_features: 1\n",
      "(110, 12, 1) (110, 1)\n",
      "MSE: 822776.4838062422    RMSE: 907.0702750097382    \n"
     ]
    }
   ],
   "source": [
    "lstm_rmse_scores= list()\n",
    "no_of_lags=13\n",
    "for val in range(1,no_of_lags):\n",
    "    ### n_in : Number of Lag Observation\n",
    "    ### n_out : Number of Observation as Output\n",
    "    n_in=val\n",
    "    n_out=1\n",
    "    n_epochs = 100\n",
    "\n",
    "    n_steps = n_in\n",
    "    n_features= n_out\n",
    "\n",
    "    dropnan=False\n",
    "    n_vars = 1 if type(df) is list else df.shape[1]\n",
    "    df = df[['Peak_Demand_Met5(MW)']]\n",
    "\n",
    "    cols, names = list(), list()\n",
    "    # input sequence (t-n, ... t-1)\n",
    "    for i in range(n_in, 0, -1):\n",
    "        cols.append(df.shift(i))\n",
    "        names += [('PD_Met5_MW_%d(t-%d)' % (j+1, i)) for j in range(n_vars)]\n",
    "\n",
    "    # forecast sequence (t, t+1, ... t+n)\n",
    "    for i in range(0, n_out):\n",
    "        cols.append(df.shift(-i))\n",
    "        if i == 0:\n",
    "            names += [('PD_Met5_MW_%d(t)' % (j+1)) for j in range(n_vars)]\n",
    "        else:\n",
    "            names += [('PD_Met5_MW_%d(t+%d)' % (j+1, i)) for j in range(n_vars)]\n",
    "\n",
    "\n",
    "\n",
    "    # put it all together\n",
    "    agg = pd.concat(cols, axis=1)\n",
    "    agg.columns = names\n",
    "    # drop rows with NaN values\n",
    "    if dropnan:\n",
    "        agg.dropna(inplace=True)\n",
    "\n",
    "#     print(agg.head(7))\n",
    "\n",
    "    # agg.to_csv('peak_demand_5features.csv')\n",
    "    \n",
    "\n",
    "\n",
    "\n",
    "    print('n_steps: {}, n_features: {}'.format(str(n_steps), str(n_features)))\n",
    "    # define model\n",
    "    model = Sequential()\n",
    "    model.add(LSTM(50, activation='relu', input_shape=(n_steps, n_features)))\n",
    "    model.add(Dense(1))\n",
    "    model.compile(optimizer='adam', loss='mse')\n",
    "\n",
    "\n",
    "    sequence = agg[['PD_Met5_MW_1(t)']].to_numpy()\n",
    "    # type(sequence), sequence.shape, sequence.shape[0], sequence.shape[1]\n",
    "\n",
    "    X, y = list(), list()\n",
    "    for i in range(len(sequence)):\n",
    "        # find the end of this pattern\n",
    "        end_ix = i + n_steps\n",
    "        # check if we are beyond the sequence\n",
    "        if end_ix > len(sequence)-1:\n",
    "            break\n",
    "        # gather input and output parts of the pattern\n",
    "        seq_x, seq_y = sequence[i:end_ix], sequence[end_ix]\n",
    "        X.append(seq_x)\n",
    "        y.append(seq_y)\n",
    "\n",
    "    X = array(X)\n",
    "    y = array(y)\n",
    "    # reshape from [samples, timesteps] into [samples, timesteps, features]\n",
    "    X = X.reshape((X.shape[0], X.shape[1], n_features))\n",
    "    print(X.shape, y.shape)\n",
    "    # fit model\n",
    "    model.fit(X, y, epochs=n_epochs, verbose=0)\n",
    "\n",
    "    train_data= agg['PD_Met5_MW_1(t)'].to_list()[0: len(agg['PD_Met5_MW_1(t)'])-n_steps]\n",
    "    type(train_data), len(train_data)\n",
    "\n",
    "    y_org = list()\n",
    "    y_hat = list()\n",
    "    datei = list()\n",
    "    for i in range(0, len(agg['PD_Met5_MW_1(t)'])-n_steps):\n",
    "        x_input=agg['PD_Met5_MW_1(t)'].to_numpy()[i:i+n_steps]\n",
    "        # x_input = np.asarray([14501., 15290., 16262., 17196., 17563.])\n",
    "        yorg = agg[['PD_Met5_MW_1(t)']].to_numpy()[i+n_steps]\n",
    "        x_input = x_input.reshape(1, n_steps, n_features)\n",
    "        yhat = model.predict(x_input, verbose=0)\n",
    "        y_hat.append(yhat[0][0])\n",
    "        y_org.append(yorg[0])\n",
    "        datei.append(agg['PD_Met5_MW_1(t)'].index[i+n_steps])\n",
    "        \n",
    "\n",
    "\n",
    "    dff = pd.DataFrame(list(zip(datei, train_data, y_org, y_hat)),columns =['date','train_data', 'y_org','y_hat'])\n",
    "    dff['error'] = dff['y_org'] - dff['y_hat']\n",
    "    dff.set_index(dff.date, inplace=True)\n",
    "\n",
    "    mse = mean_squared_error(dff.y_org, dff.y_hat)\n",
    "    # calculate rmse\n",
    "    rmse = sqrt(mse)\n",
    "    print(\"MSE: {}    RMSE: {}    \".format(str(mse), str(rmse)))\n",
    "    lstm_rmse_scores.append(rmse)\n"
   ]
  },
  {
   "cell_type": "code",
   "execution_count": null,
   "id": "8f788cb3",
   "metadata": {},
   "outputs": [],
   "source": []
  },
  {
   "cell_type": "code",
   "execution_count": null,
   "id": "7250c278",
   "metadata": {},
   "outputs": [],
   "source": [
    "dff.head()"
   ]
  },
  {
   "cell_type": "code",
   "execution_count": null,
   "id": "94b47c0a",
   "metadata": {},
   "outputs": [],
   "source": [
    "temp_df = pd.DataFrame(zip(lstm_rmse_scores, ar_rmse_scores), columns=['lstm','ar'])\n",
    "temp_df.index += 1 \n",
    "temp_df"
   ]
  },
  {
   "cell_type": "code",
   "execution_count": null,
   "id": "14c2165b",
   "metadata": {},
   "outputs": [],
   "source": [
    "pyplot.axis([0, 13, 100, 1500])\n",
    "\n",
    "pyplot.xlim(0, 12)\n",
    "\n",
    "# Add title\n",
    "\n",
    "pyplot.title(\"RMSE Comparision: LSTM vs AR\")\n",
    "pyplot.plot(temp_df.lstm, color='blue')\n",
    "pyplot.plot(temp_df.ar, color='red')\n",
    "\n",
    "pyplot.legend([\"LSTM_RMSE\", \"AR_RMSE\"], loc =\"upper right\")\n",
    "\n",
    "# Add labels\n",
    "\n",
    "pyplot.xlabel(\"No. of dependent features \")\n",
    "pyplot.ylabel(\"RMSE\")\n",
    "\n",
    "# Display\n",
    "\n",
    "pyplot.show()"
   ]
  },
  {
   "cell_type": "code",
   "execution_count": null,
   "id": "c9197d04",
   "metadata": {},
   "outputs": [],
   "source": []
  },
  {
   "cell_type": "code",
   "execution_count": null,
   "id": "a318b183",
   "metadata": {},
   "outputs": [],
   "source": [
    "# len(train_data),len(y_org),len(y_hat)"
   ]
  },
  {
   "cell_type": "code",
   "execution_count": null,
   "id": "39fdea43",
   "metadata": {},
   "outputs": [],
   "source": [
    "\n",
    "\n",
    "# dff.head(10)"
   ]
  },
  {
   "cell_type": "code",
   "execution_count": null,
   "id": "888b9559",
   "metadata": {},
   "outputs": [],
   "source": []
  },
  {
   "cell_type": "code",
   "execution_count": 61,
   "id": "7ba78593",
   "metadata": {},
   "outputs": [
    {
     "data": {
      "image/png": "[encoded data removed]",
      "text/plain": [
       "<Figure size 432x288 with 1 Axes>"
      ]
     },
     "metadata": {
      "needs_background": "light"
     },
     "output_type": "display_data"
    }
   ],
   "source": [
    "\n",
    "pyplot.plot(dff.train_data, color='green')\n",
    "pyplot.plot(dff.y_hat, color='blue')\n",
    "pyplot.plot(dff.y_org, color='red')\n",
    "# pyplot.plot(ylim=dff.date)\n",
    "\n",
    "\n",
    "# pyplot.plot()\n",
    "pyplot.legend([\"train data\", \"predicted data\",\"actual test data\"], loc =\"lower right\")\n",
    "# Add labels\n",
    "pyplot.title(\"LSTM Prediction model\")\n",
    "\n",
    "pyplot.xlabel(\"No. Of Samples\")\n",
    "pyplot.ylabel(\"Predicted Values\")\n",
    "\n",
    "\n",
    "pyplot.show()"
   ]
  },
  {
   "cell_type": "code",
   "execution_count": null,
   "id": "b79f0f3f",
   "metadata": {},
   "outputs": [],
   "source": [
    "# import pickle\n",
    "\n",
    "# # save the model to disk\n",
    "# filename = 'finalized_lstm_model.sav'\n",
    "# pickle.dump(model, open(filename, 'wb'))\n",
    "\n",
    "# # some time later...\n"
   ]
  },
  {
   "cell_type": "code",
   "execution_count": null,
   "id": "53a924c2",
   "metadata": {},
   "outputs": [],
   "source": []
  },
  {
   "cell_type": "code",
   "execution_count": null,
   "id": "405e535f",
   "metadata": {},
   "outputs": [],
   "source": []
  },
  {
   "cell_type": "code",
   "execution_count": null,
   "id": "b800f87a",
   "metadata": {},
   "outputs": [],
   "source": []
  },
  {
   "cell_type": "code",
   "execution_count": null,
   "id": "eda57a5f",
   "metadata": {},
   "outputs": [],
   "source": []
  },
  {
   "cell_type": "code",
   "execution_count": null,
   "id": "3257e6f3",
   "metadata": {},
   "outputs": [],
   "source": []
  },
  {
   "cell_type": "code",
   "execution_count": null,
   "id": "c9d68cea",
   "metadata": {},
   "outputs": [],
   "source": []
  },
  {
   "cell_type": "code",
   "execution_count": null,
   "id": "e7906d6a",
   "metadata": {},
   "outputs": [],
   "source": []
  },
  {
   "cell_type": "code",
   "execution_count": null,
   "id": "d7ebdf9a",
   "metadata": {},
   "outputs": [],
   "source": []
  },
  {
   "cell_type": "code",
   "execution_count": null,
   "id": "b1c18a5c",
   "metadata": {},
   "outputs": [],
   "source": []
  },
  {
   "cell_type": "code",
   "execution_count": null,
   "id": "f8a8d6ed",
   "metadata": {},
   "outputs": [],
   "source": []
  },
  {
   "cell_type": "code",
   "execution_count": null,
   "id": "986b6068",
   "metadata": {},
   "outputs": [],
   "source": []
  }
 ],
 "metadata": {
  "kernelspec": {
   "display_name": "Python 3",
   "language": "python",
   "name": "python3"
  },
  "language_info": {
   "codemirror_mode": {
    "name": "ipython",
    "version": 3
   },
   "file_extension": ".py",
   "mimetype": "text/x-python",
   "name": "python",
   "nbconvert_exporter": "python",
   "pygments_lexer": "ipython3",
   "version": "3.9.7"
  }
 },
 "nbformat": 4,
 "nbformat_minor": 5
}
